{
  "cells": [
    {
      "cell_type": "markdown",
      "metadata": {
        "id": "R-_SCsMBwkdx"
      },
      "source": [
        "A Weather Prediction Project Using Linear Regression"
      ]
    },
    {
      "cell_type": "code",
      "execution_count": 464,
      "metadata": {
        "colab": {
          "base_uri": "https://localhost:8080/"
        },
        "id": "6eS0UX2nlFzj",
        "outputId": "5f4195e2-d1d4-4b27-a2ac-2c26f57ca352"
      },
      "outputs": [],
      "source": [
        "#from google.colab import drive\n",
        "#drive.mount(\"/content/drive\")"
      ]
    },
    {
      "cell_type": "code",
      "execution_count": 465,
      "metadata": {},
      "outputs": [
        {
          "name": "stdout",
          "output_type": "stream",
          "text": [
            "Requirement already satisfied: pandas in f:\\ml_806\\.venv\\lib\\site-packages (2.3.0)\n",
            "Requirement already satisfied: numpy in f:\\ml_806\\.venv\\lib\\site-packages (2.3.1)\n",
            "Requirement already satisfied: scikit-learn in f:\\ml_806\\.venv\\lib\\site-packages (1.7.0)\n",
            "Requirement already satisfied: matplotlib in f:\\ml_806\\.venv\\lib\\site-packages (3.10.3)\n",
            "Requirement already satisfied: seaborn in f:\\ml_806\\.venv\\lib\\site-packages (0.13.2)\n"
          ]
        },
        {
          "name": "stderr",
          "output_type": "stream",
          "text": [
            "ERROR: Could not find a version that satisfies the requirement tensorflow (from versions: none)\n",
            "ERROR: No matching distribution found for tensorflow\n"
          ]
        }
      ],
      "source": [
        "!pip install pandas numpy scikit-learn matplotlib seaborn tensorflow streamlit"
      ]
    },
    {
      "cell_type": "code",
      "execution_count": 466,
      "metadata": {},
      "outputs": [
        {
          "name": "stdout",
          "output_type": "stream",
          "text": [
            "Requirement already satisfied: scikit-learn in f:\\ml_806\\.venv\\lib\\site-packages (1.7.0)\n",
            "Requirement already satisfied: numpy>=1.22.0 in f:\\ml_806\\.venv\\lib\\site-packages (from scikit-learn) (2.3.1)\n",
            "Requirement already satisfied: scipy>=1.8.0 in f:\\ml_806\\.venv\\lib\\site-packages (from scikit-learn) (1.16.0)\n",
            "Requirement already satisfied: joblib>=1.2.0 in f:\\ml_806\\.venv\\lib\\site-packages (from scikit-learn) (1.5.1)\n",
            "Requirement already satisfied: threadpoolctl>=3.1.0 in f:\\ml_806\\.venv\\lib\\site-packages (from scikit-learn) (3.6.0)\n",
            "Note: you may need to restart the kernel to use updated packages.\n"
          ]
        }
      ],
      "source": [
        "%pip install scikit-learn"
      ]
    },
    {
      "cell_type": "code",
      "execution_count": 467,
      "metadata": {
        "id": "yZH0BOtvgYkf"
      },
      "outputs": [],
      "source": [
        "import pandas as pd\n",
        "import numpy as np\n",
        "import matplotlib.pyplot as plt\n",
        "import seaborn as sns\n",
        "from sklearn.model_selection import train_test_split\n",
        "from sklearn.preprocessing import StandardScaler, LabelEncoder\n",
        "from sklearn.ensemble import RandomForestClassifier\n",
        "from sklearn.metrics import accuracy_score, classification_report, confusion_matrix"
      ]
    },
    {
      "cell_type": "code",
      "execution_count": 468,
      "metadata": {
        "id": "-6W4xfUAib2m"
      },
      "outputs": [],
      "source": [
        "#df1 = pd.read_csv('/content/drive/MyDrive/Weather Dataset/sylhet bangladesh 2022-05-01 to 2025-01-23.csv')\n",
        "#df2 = pd.read_csv('/content/drive/MyDrive/Weather Dataset/sylhet, bangladesh 2019-09-05 to 2022-05-30.csv')\n",
        "#df3 = pd.read_csv('/content/drive/MyDrive/Weather Dataset/sylhet, bangladesh 2016-12-11 to 2019-09-05.csv')\n",
        "#df4 = pd.read_csv('/content/drive/MyDrive/Weather Dataset/sylhet, bangladesh 2014-03-20 to 2016-12-12.csv')\n"
      ]
    },
    {
      "cell_type": "code",
      "execution_count": 469,
      "metadata": {
        "id": "utt18nWnT-SR"
      },
      "outputs": [],
      "source": [
        "#sylhet_weather_df = pd.concat([df1, df2, df3, df4], ignore_index=True)\n",
        "#sylhet_weather_df.to_csv('sylhet_weather.csv', index=False)"
      ]
    },
    {
      "cell_type": "code",
      "execution_count": 470,
      "metadata": {
        "id": "O0MQfJoEUI0g"
      },
      "outputs": [],
      "source": [
        "#from google.colab import files\n",
        "#files.download('sylhet_weather.csv')"
      ]
    },
    {
      "cell_type": "code",
      "execution_count": 471,
      "metadata": {
        "colab": {
          "base_uri": "https://localhost:8080/",
          "height": 516
        },
        "collapsed": true,
        "id": "EtrbkzeaUaeQ",
        "outputId": "0beb4bca-a6fc-4a30-dabe-181eaa91fa3b"
      },
      "outputs": [
        {
          "name": "stderr",
          "output_type": "stream",
          "text": [
            "<>:1: SyntaxWarning: invalid escape sequence '\\D'\n",
            "<>:1: SyntaxWarning: invalid escape sequence '\\D'\n",
            "C:\\Users\\USER\\AppData\\Local\\Temp\\ipykernel_22112\\1746279886.py:1: SyntaxWarning: invalid escape sequence '\\D'\n",
            "  df = pd.read_csv('..\\Data\\sylhet_weather.csv')\n"
          ]
        },
        {
          "data": {
            "text/html": [
              "<div>\n",
              "<style scoped>\n",
              "    .dataframe tbody tr th:only-of-type {\n",
              "        vertical-align: middle;\n",
              "    }\n",
              "\n",
              "    .dataframe tbody tr th {\n",
              "        vertical-align: top;\n",
              "    }\n",
              "\n",
              "    .dataframe thead th {\n",
              "        text-align: right;\n",
              "    }\n",
              "</style>\n",
              "<table border=\"1\" class=\"dataframe\">\n",
              "  <thead>\n",
              "    <tr style=\"text-align: right;\">\n",
              "      <th></th>\n",
              "      <th>name</th>\n",
              "      <th>datetime</th>\n",
              "      <th>tempmax</th>\n",
              "      <th>tempmin</th>\n",
              "      <th>temp</th>\n",
              "      <th>feelslikemax</th>\n",
              "      <th>feelslikemin</th>\n",
              "      <th>feelslike</th>\n",
              "      <th>dew</th>\n",
              "      <th>humidity</th>\n",
              "      <th>...</th>\n",
              "      <th>solarenergy</th>\n",
              "      <th>uvindex</th>\n",
              "      <th>severerisk</th>\n",
              "      <th>sunrise</th>\n",
              "      <th>sunset</th>\n",
              "      <th>moonphase</th>\n",
              "      <th>conditions</th>\n",
              "      <th>description</th>\n",
              "      <th>icon</th>\n",
              "      <th>stations</th>\n",
              "    </tr>\n",
              "  </thead>\n",
              "  <tbody>\n",
              "    <tr>\n",
              "      <th>0</th>\n",
              "      <td>sylhet bangladesh</td>\n",
              "      <td>2022-05-01</td>\n",
              "      <td>29.5</td>\n",
              "      <td>15.4</td>\n",
              "      <td>24.6</td>\n",
              "      <td>33.1</td>\n",
              "      <td>15.4</td>\n",
              "      <td>25.6</td>\n",
              "      <td>21.5</td>\n",
              "      <td>83.5</td>\n",
              "      <td>...</td>\n",
              "      <td>18.6</td>\n",
              "      <td>8</td>\n",
              "      <td>30.0</td>\n",
              "      <td>2022-05-01T05:17:15</td>\n",
              "      <td>2022-05-01T18:22:24</td>\n",
              "      <td>0.00</td>\n",
              "      <td>Rain, Partially cloudy</td>\n",
              "      <td>Partly cloudy throughout the day with rain in ...</td>\n",
              "      <td>rain</td>\n",
              "      <td>42618099999,42515099999,remote,42516099999</td>\n",
              "    </tr>\n",
              "    <tr>\n",
              "      <th>1</th>\n",
              "      <td>sylhet bangladesh</td>\n",
              "      <td>2022-05-02</td>\n",
              "      <td>27.8</td>\n",
              "      <td>16.4</td>\n",
              "      <td>23.1</td>\n",
              "      <td>30.7</td>\n",
              "      <td>16.4</td>\n",
              "      <td>23.6</td>\n",
              "      <td>20.7</td>\n",
              "      <td>86.6</td>\n",
              "      <td>...</td>\n",
              "      <td>16.5</td>\n",
              "      <td>7</td>\n",
              "      <td>30.0</td>\n",
              "      <td>2022-05-02T05:16:31</td>\n",
              "      <td>2022-05-02T18:22:53</td>\n",
              "      <td>0.05</td>\n",
              "      <td>Rain, Partially cloudy</td>\n",
              "      <td>Partly cloudy throughout the day with rain in ...</td>\n",
              "      <td>rain</td>\n",
              "      <td>42618099999,42515099999,remote,42516099999</td>\n",
              "    </tr>\n",
              "    <tr>\n",
              "      <th>2</th>\n",
              "      <td>sylhet bangladesh</td>\n",
              "      <td>2022-05-03</td>\n",
              "      <td>29.1</td>\n",
              "      <td>17.1</td>\n",
              "      <td>24.3</td>\n",
              "      <td>32.3</td>\n",
              "      <td>17.1</td>\n",
              "      <td>24.8</td>\n",
              "      <td>21.0</td>\n",
              "      <td>82.7</td>\n",
              "      <td>...</td>\n",
              "      <td>17.9</td>\n",
              "      <td>7</td>\n",
              "      <td>30.0</td>\n",
              "      <td>2022-05-03T05:15:48</td>\n",
              "      <td>2022-05-03T18:23:23</td>\n",
              "      <td>0.08</td>\n",
              "      <td>Rain, Partially cloudy</td>\n",
              "      <td>Partly cloudy throughout the day with afternoo...</td>\n",
              "      <td>rain</td>\n",
              "      <td>42618099999,42515099999,remote,42516099999</td>\n",
              "    </tr>\n",
              "    <tr>\n",
              "      <th>3</th>\n",
              "      <td>sylhet bangladesh</td>\n",
              "      <td>2022-05-04</td>\n",
              "      <td>29.9</td>\n",
              "      <td>15.1</td>\n",
              "      <td>24.1</td>\n",
              "      <td>33.3</td>\n",
              "      <td>15.1</td>\n",
              "      <td>25.2</td>\n",
              "      <td>21.1</td>\n",
              "      <td>84.0</td>\n",
              "      <td>...</td>\n",
              "      <td>19.5</td>\n",
              "      <td>8</td>\n",
              "      <td>30.0</td>\n",
              "      <td>2022-05-04T05:15:07</td>\n",
              "      <td>2022-05-04T18:23:53</td>\n",
              "      <td>0.11</td>\n",
              "      <td>Rain, Partially cloudy</td>\n",
              "      <td>Partly cloudy throughout the day with afternoo...</td>\n",
              "      <td>rain</td>\n",
              "      <td>42618099999,42515099999,remote,42516099999</td>\n",
              "    </tr>\n",
              "    <tr>\n",
              "      <th>4</th>\n",
              "      <td>sylhet bangladesh</td>\n",
              "      <td>2022-05-05</td>\n",
              "      <td>31.2</td>\n",
              "      <td>15.9</td>\n",
              "      <td>25.0</td>\n",
              "      <td>35.4</td>\n",
              "      <td>15.9</td>\n",
              "      <td>26.4</td>\n",
              "      <td>21.7</td>\n",
              "      <td>82.9</td>\n",
              "      <td>...</td>\n",
              "      <td>23.0</td>\n",
              "      <td>8</td>\n",
              "      <td>30.0</td>\n",
              "      <td>2022-05-05T05:14:26</td>\n",
              "      <td>2022-05-05T18:24:23</td>\n",
              "      <td>0.14</td>\n",
              "      <td>Rain, Partially cloudy</td>\n",
              "      <td>Partly cloudy throughout the day with rain.</td>\n",
              "      <td>rain</td>\n",
              "      <td>42618099999,42515099999,remote,42516099999</td>\n",
              "    </tr>\n",
              "  </tbody>\n",
              "</table>\n",
              "<p>5 rows × 33 columns</p>\n",
              "</div>"
            ],
            "text/plain": [
              "                name    datetime  tempmax  tempmin  temp  feelslikemax  \\\n",
              "0  sylhet bangladesh  2022-05-01     29.5     15.4  24.6          33.1   \n",
              "1  sylhet bangladesh  2022-05-02     27.8     16.4  23.1          30.7   \n",
              "2  sylhet bangladesh  2022-05-03     29.1     17.1  24.3          32.3   \n",
              "3  sylhet bangladesh  2022-05-04     29.9     15.1  24.1          33.3   \n",
              "4  sylhet bangladesh  2022-05-05     31.2     15.9  25.0          35.4   \n",
              "\n",
              "   feelslikemin  feelslike   dew  humidity  ...  solarenergy  uvindex  \\\n",
              "0          15.4       25.6  21.5      83.5  ...         18.6        8   \n",
              "1          16.4       23.6  20.7      86.6  ...         16.5        7   \n",
              "2          17.1       24.8  21.0      82.7  ...         17.9        7   \n",
              "3          15.1       25.2  21.1      84.0  ...         19.5        8   \n",
              "4          15.9       26.4  21.7      82.9  ...         23.0        8   \n",
              "\n",
              "   severerisk              sunrise               sunset  moonphase  \\\n",
              "0        30.0  2022-05-01T05:17:15  2022-05-01T18:22:24       0.00   \n",
              "1        30.0  2022-05-02T05:16:31  2022-05-02T18:22:53       0.05   \n",
              "2        30.0  2022-05-03T05:15:48  2022-05-03T18:23:23       0.08   \n",
              "3        30.0  2022-05-04T05:15:07  2022-05-04T18:23:53       0.11   \n",
              "4        30.0  2022-05-05T05:14:26  2022-05-05T18:24:23       0.14   \n",
              "\n",
              "               conditions                                        description  \\\n",
              "0  Rain, Partially cloudy  Partly cloudy throughout the day with rain in ...   \n",
              "1  Rain, Partially cloudy  Partly cloudy throughout the day with rain in ...   \n",
              "2  Rain, Partially cloudy  Partly cloudy throughout the day with afternoo...   \n",
              "3  Rain, Partially cloudy  Partly cloudy throughout the day with afternoo...   \n",
              "4  Rain, Partially cloudy        Partly cloudy throughout the day with rain.   \n",
              "\n",
              "   icon                                    stations  \n",
              "0  rain  42618099999,42515099999,remote,42516099999  \n",
              "1  rain  42618099999,42515099999,remote,42516099999  \n",
              "2  rain  42618099999,42515099999,remote,42516099999  \n",
              "3  rain  42618099999,42515099999,remote,42516099999  \n",
              "4  rain  42618099999,42515099999,remote,42516099999  \n",
              "\n",
              "[5 rows x 33 columns]"
            ]
          },
          "execution_count": 471,
          "metadata": {},
          "output_type": "execute_result"
        }
      ],
      "source": [
        "df = pd.read_csv('..\\Data\\sylhet_weather.csv')\n",
        "df.head()"
      ]
    },
    {
      "cell_type": "code",
      "execution_count": 472,
      "metadata": {
        "colab": {
          "base_uri": "https://localhost:8080/"
        },
        "collapsed": true,
        "id": "6VcOtTjnUknh",
        "outputId": "94877ce1-10d4-4af7-e988-832308e5f184"
      },
      "outputs": [
        {
          "name": "stdout",
          "output_type": "stream",
          "text": [
            "name                   0\n",
            "datetime               0\n",
            "tempmax                0\n",
            "tempmin                0\n",
            "temp                   0\n",
            "feelslikemax           0\n",
            "feelslikemin           0\n",
            "feelslike              0\n",
            "dew                    0\n",
            "humidity               0\n",
            "precip                 0\n",
            "precipprob             0\n",
            "precipcover            0\n",
            "preciptype          1342\n",
            "snow                   0\n",
            "snowdepth              0\n",
            "windgust               0\n",
            "windspeed              0\n",
            "winddir                0\n",
            "sealevelpressure       0\n",
            "cloudcover             0\n",
            "visibility            18\n",
            "solarradiation         0\n",
            "solarenergy            0\n",
            "uvindex                0\n",
            "severerisk          2997\n",
            "sunrise                0\n",
            "sunset                 0\n",
            "moonphase              0\n",
            "conditions             0\n",
            "description            0\n",
            "icon                   0\n",
            "stations               0\n",
            "dtype: int64\n",
            "\n",
            "\n",
            "1\n"
          ]
        }
      ],
      "source": [
        "print(df.isnull().sum())\n",
        "print('\\n')\n",
        "print(df.duplicated().sum())"
      ]
    },
    {
      "cell_type": "code",
      "execution_count": 473,
      "metadata": {
        "colab": {
          "base_uri": "https://localhost:8080/"
        },
        "id": "PDIEEdgqUtuo",
        "outputId": "b32a8798-c8e0-4729-c848-5dd4ecd46bbc"
      },
      "outputs": [
        {
          "data": {
            "text/plain": [
              "(3996, 33)"
            ]
          },
          "execution_count": 473,
          "metadata": {},
          "output_type": "execute_result"
        }
      ],
      "source": [
        "df.shape"
      ]
    },
    {
      "cell_type": "code",
      "execution_count": 474,
      "metadata": {
        "colab": {
          "base_uri": "https://localhost:8080/",
          "height": 147
        },
        "id": "LjUYfwkvUwx_",
        "outputId": "3a438d97-6eae-47cf-e00a-74b1230fd7f8"
      },
      "outputs": [
        {
          "data": {
            "text/plain": [
              "preciptype\n",
              "rain    2654\n",
              "Name: count, dtype: int64"
            ]
          },
          "execution_count": 474,
          "metadata": {},
          "output_type": "execute_result"
        }
      ],
      "source": [
        "df['preciptype'].value_counts()"
      ]
    },
    {
      "cell_type": "code",
      "execution_count": 475,
      "metadata": {
        "id": "D_RadEr2U0tI"
      },
      "outputs": [],
      "source": [
        "df = df.drop(['severerisk'], axis=1)"
      ]
    },
    {
      "cell_type": "code",
      "execution_count": 476,
      "metadata": {
        "colab": {
          "base_uri": "https://localhost:8080/"
        },
        "id": "EpzfDKaVU40w",
        "outputId": "174b6705-4dee-40b7-ee4e-e6704a795516"
      },
      "outputs": [
        {
          "data": {
            "text/plain": [
              "(3996, 32)"
            ]
          },
          "execution_count": 476,
          "metadata": {},
          "output_type": "execute_result"
        }
      ],
      "source": [
        "df.shape"
      ]
    },
    {
      "cell_type": "code",
      "execution_count": 477,
      "metadata": {
        "id": "nE310A3VU7Jh"
      },
      "outputs": [],
      "source": [
        "df = df.drop_duplicates(subset=['datetime'])"
      ]
    },
    {
      "cell_type": "code",
      "execution_count": 478,
      "metadata": {
        "colab": {
          "base_uri": "https://localhost:8080/"
        },
        "id": "WolMs_Q5VBqY",
        "outputId": "bd628962-111f-41cb-bf32-101c103f7fa5"
      },
      "outputs": [
        {
          "data": {
            "text/plain": [
              "(3963, 32)"
            ]
          },
          "execution_count": 478,
          "metadata": {},
          "output_type": "execute_result"
        }
      ],
      "source": [
        "df.shape"
      ]
    },
    {
      "cell_type": "code",
      "execution_count": 479,
      "metadata": {
        "colab": {
          "base_uri": "https://localhost:8080/"
        },
        "collapsed": true,
        "id": "J18IEYfPVDyY",
        "outputId": "05f458b6-01dc-4585-8711-2efff5c0a45b"
      },
      "outputs": [
        {
          "name": "stdout",
          "output_type": "stream",
          "text": [
            "name                   0\n",
            "datetime               0\n",
            "tempmax                0\n",
            "tempmin                0\n",
            "temp                   0\n",
            "feelslikemax           0\n",
            "feelslikemin           0\n",
            "feelslike              0\n",
            "dew                    0\n",
            "humidity               0\n",
            "precip                 0\n",
            "precipprob             0\n",
            "precipcover            0\n",
            "preciptype          1340\n",
            "snow                   0\n",
            "snowdepth              0\n",
            "windgust               0\n",
            "windspeed              0\n",
            "winddir                0\n",
            "sealevelpressure       0\n",
            "cloudcover             0\n",
            "visibility            18\n",
            "solarradiation         0\n",
            "solarenergy            0\n",
            "uvindex                0\n",
            "sunrise                0\n",
            "sunset                 0\n",
            "moonphase              0\n",
            "conditions             0\n",
            "description            0\n",
            "icon                   0\n",
            "stations               0\n",
            "dtype: int64\n",
            "\n",
            "\n",
            "0\n"
          ]
        }
      ],
      "source": [
        "print(df.isnull().sum())\n",
        "print('\\n')\n",
        "print(df.duplicated().sum())"
      ]
    },
    {
      "cell_type": "code",
      "execution_count": 480,
      "metadata": {
        "colab": {
          "base_uri": "https://localhost:8080/",
          "height": 490
        },
        "collapsed": true,
        "id": "Rj3yQddSVPDY",
        "outputId": "355f719a-7330-4140-bf1c-8749e338b860"
      },
      "outputs": [
        {
          "data": {
            "text/plain": [
              "visibility\n",
              "0.7       1\n",
              "0.9       2\n",
              "1.0       1\n",
              "1.1       1\n",
              "1.2       4\n",
              "         ..\n",
              "22.7      1\n",
              "23.2      1\n",
              "23.3      1\n",
              "24.1      5\n",
              "1101.4    1\n",
              "Name: count, Length: 188, dtype: int64"
            ]
          },
          "execution_count": 480,
          "metadata": {},
          "output_type": "execute_result"
        }
      ],
      "source": [
        "df['visibility'].value_counts().sort_index()"
      ]
    },
    {
      "cell_type": "code",
      "execution_count": 481,
      "metadata": {
        "id": "SyieZx-oWXQQ"
      },
      "outputs": [],
      "source": [
        "df['visibility'] = df['visibility'].ffill()"
      ]
    },
    {
      "cell_type": "code",
      "execution_count": 482,
      "metadata": {
        "colab": {
          "base_uri": "https://localhost:8080/",
          "height": 304
        },
        "id": "K1GbYO-CVn4j",
        "outputId": "d1023dab-abfd-4900-b571-ab8e42c23338"
      },
      "outputs": [
        {
          "data": {
            "text/plain": [
              "conditions\n",
              "Rain, Partially cloudy    1509\n",
              "Rain, Overcast            1043\n",
              "Clear                      743\n",
              "Partially cloudy           592\n",
              "Rain                        69\n",
              "Overcast                     7\n",
              "Name: count, dtype: int64"
            ]
          },
          "execution_count": 482,
          "metadata": {},
          "output_type": "execute_result"
        }
      ],
      "source": [
        "df['conditions'].value_counts()"
      ]
    },
    {
      "cell_type": "code",
      "execution_count": 483,
      "metadata": {
        "id": "02YVqXDKoI0I"
      },
      "outputs": [],
      "source": [
        "df['conditions'] = df['conditions'].replace({\n",
        "    'Rain': 'Rain, Partially cloudy',\n",
        "    'Overcast': 'Rain, Overcast'\n",
        "})"
      ]
    },
    {
      "cell_type": "code",
      "execution_count": 484,
      "metadata": {
        "colab": {
          "base_uri": "https://localhost:8080/",
          "height": 241
        },
        "id": "leKTL3O-qoUf",
        "outputId": "8c2ba8fc-f5a2-4e12-b908-3346d49f98e9"
      },
      "outputs": [
        {
          "data": {
            "text/plain": [
              "conditions\n",
              "Rain, Partially cloudy    1578\n",
              "Rain, Overcast            1050\n",
              "Clear                      743\n",
              "Partially cloudy           592\n",
              "Name: count, dtype: int64"
            ]
          },
          "execution_count": 484,
          "metadata": {},
          "output_type": "execute_result"
        }
      ],
      "source": [
        "df['conditions'].value_counts()"
      ]
    },
    {
      "cell_type": "code",
      "execution_count": 485,
      "metadata": {
        "colab": {
          "base_uri": "https://localhost:8080/",
          "height": 1000
        },
        "id": "NKq_s_g4V3ZP",
        "outputId": "2c90f07f-2e83-47f4-b083-70b742994f1c"
      },
      "outputs": [
        {
          "data": {
            "text/plain": [
              "description\n",
              "Clear conditions throughout the day.                                             738\n",
              "Partly cloudy throughout the day.                                                523\n",
              "Partly cloudy throughout the day with a chance of rain throughout the day.       379\n",
              "Cloudy skies throughout the day with a chance of rain throughout the day.        314\n",
              "Partly cloudy throughout the day with afternoon rain.                            306\n",
              "Partly cloudy throughout the day with rain.                                      260\n",
              "Cloudy skies throughout the day with rain in the morning and afternoon.          206\n",
              "Cloudy skies throughout the day with rain.                                       193\n",
              "Partly cloudy throughout the day with late afternoon rain.                       176\n",
              "Partly cloudy throughout the day with morning rain.                              152\n",
              "Cloudy skies throughout the day with afternoon rain.                             151\n",
              "Cloudy skies throughout the day with morning rain.                               110\n",
              "Partly cloudy throughout the day with rain in the morning and afternoon.          97\n",
              "Cloudy skies throughout the day with late afternoon rain.                         62\n",
              "Clearing in the afternoon.                                                        42\n",
              "Partly cloudy throughout the day with early morning rain.                         41\n",
              "Partly cloudy throughout the day with rain clearing later.                        37\n",
              "Becoming cloudy in the afternoon.                                                 32\n",
              "Clear conditions throughout the day with late afternoon rain.                     30\n",
              "Clear conditions throughout the day with afternoon rain.                          20\n",
              "Becoming cloudy in the afternoon with afternoon rain.                             13\n",
              "Becoming cloudy in the afternoon with late afternoon rain.                        12\n",
              "Becoming cloudy in the afternoon with rain.                                        7\n",
              "Cloudy skies throughout the day.                                                   7\n",
              "Clear conditions throughout the day with early morning rain.                       7\n",
              "Clearing in the afternoon with afternoon rain.                                     6\n",
              "Cloudy skies throughout the day with early morning rain.                           5\n",
              "Clearing in the afternoon with a chance of rain throughout the day.                5\n",
              "Clearing in the afternoon with morning rain.                                       4\n",
              "Clearing in the afternoon with rain.                                               4\n",
              "Clear conditions throughout the day with rain.                                     4\n",
              "Clearing in the afternoon with late afternoon rain.                                3\n",
              "Clear conditions throughout the day with morning rain.                             3\n",
              "Becoming cloudy in the afternoon with a chance of rain throughout the day.         3\n",
              "Clear conditions throughout the day with rain in the morning and afternoon.        2\n",
              "Cloudy skies throughout the day with rain clearing later.                          2\n",
              "Becoming cloudy in the afternoon with rain in the morning and afternoon.           2\n",
              "Clearing in the afternoon with rain in the morning and afternoon.                  1\n",
              "Clearing in the afternoon with rain clearing later.                                1\n",
              "Clearing in the afternoon with early morning rain.                                 1\n",
              "Becoming cloudy in the afternoon with rain clearing later.                         1\n",
              "Clear conditions throughout the day with a chance of rain throughout the day.      1\n",
              "Name: count, dtype: int64"
            ]
          },
          "execution_count": 485,
          "metadata": {},
          "output_type": "execute_result"
        }
      ],
      "source": [
        "df['description'].value_counts()"
      ]
    },
    {
      "cell_type": "code",
      "execution_count": 486,
      "metadata": {
        "id": "Q8bkJKQ-pck_"
      },
      "outputs": [],
      "source": [
        "def categorize_weather(description):\n",
        "    description = description.lower()\n",
        "\n",
        "    if 'rain' in description or 'drizzle' in description or 'showers' in description:\n",
        "        return 'rainy'\n",
        "    elif 'overcast' in description:\n",
        "        return 'overcast'\n",
        "    elif 'cloudy' in description or 'partly cloudy' in description:\n",
        "        return 'cloudy'\n",
        "    elif 'clear' in description or 'sunny' in description:\n",
        "        return 'clear'\n",
        "    else:\n",
        "        return 'unknown'  # optional: handle uncategorized cases\n",
        "\n",
        "df['categoryofweather'] = df['description'].apply(categorize_weather)"
      ]
    },
    {
      "cell_type": "code",
      "execution_count": 487,
      "metadata": {
        "colab": {
          "base_uri": "https://localhost:8080/",
          "height": 210
        },
        "id": "NrpBnbpErJEn",
        "outputId": "b6281852-9268-487c-9dd6-12c8ec62ba65"
      },
      "outputs": [
        {
          "data": {
            "text/plain": [
              "categoryofweather\n",
              "rainy     2621\n",
              "clear      780\n",
              "cloudy     562\n",
              "Name: count, dtype: int64"
            ]
          },
          "execution_count": 487,
          "metadata": {},
          "output_type": "execute_result"
        }
      ],
      "source": [
        "df['categoryofweather'].value_counts()"
      ]
    },
    {
      "cell_type": "code",
      "execution_count": 488,
      "metadata": {
        "colab": {
          "base_uri": "https://localhost:8080/",
          "height": 516
        },
        "id": "ZgpqiE0VZB9t",
        "outputId": "f824ffb1-2f6e-410c-8004-51dbf0dd05cd"
      },
      "outputs": [
        {
          "data": {
            "text/html": [
              "<div>\n",
              "<style scoped>\n",
              "    .dataframe tbody tr th:only-of-type {\n",
              "        vertical-align: middle;\n",
              "    }\n",
              "\n",
              "    .dataframe tbody tr th {\n",
              "        vertical-align: top;\n",
              "    }\n",
              "\n",
              "    .dataframe thead th {\n",
              "        text-align: right;\n",
              "    }\n",
              "</style>\n",
              "<table border=\"1\" class=\"dataframe\">\n",
              "  <thead>\n",
              "    <tr style=\"text-align: right;\">\n",
              "      <th></th>\n",
              "      <th>name</th>\n",
              "      <th>datetime</th>\n",
              "      <th>tempmax</th>\n",
              "      <th>tempmin</th>\n",
              "      <th>temp</th>\n",
              "      <th>feelslikemax</th>\n",
              "      <th>feelslikemin</th>\n",
              "      <th>feelslike</th>\n",
              "      <th>dew</th>\n",
              "      <th>humidity</th>\n",
              "      <th>...</th>\n",
              "      <th>solarenergy</th>\n",
              "      <th>uvindex</th>\n",
              "      <th>sunrise</th>\n",
              "      <th>sunset</th>\n",
              "      <th>moonphase</th>\n",
              "      <th>conditions</th>\n",
              "      <th>description</th>\n",
              "      <th>icon</th>\n",
              "      <th>stations</th>\n",
              "      <th>categoryofweather</th>\n",
              "    </tr>\n",
              "  </thead>\n",
              "  <tbody>\n",
              "    <tr>\n",
              "      <th>0</th>\n",
              "      <td>sylhet bangladesh</td>\n",
              "      <td>2022-05-01</td>\n",
              "      <td>29.5</td>\n",
              "      <td>15.4</td>\n",
              "      <td>24.6</td>\n",
              "      <td>33.1</td>\n",
              "      <td>15.4</td>\n",
              "      <td>25.6</td>\n",
              "      <td>21.5</td>\n",
              "      <td>83.5</td>\n",
              "      <td>...</td>\n",
              "      <td>18.6</td>\n",
              "      <td>8</td>\n",
              "      <td>2022-05-01T05:17:15</td>\n",
              "      <td>2022-05-01T18:22:24</td>\n",
              "      <td>0.00</td>\n",
              "      <td>Rain, Partially cloudy</td>\n",
              "      <td>Partly cloudy throughout the day with rain in ...</td>\n",
              "      <td>rain</td>\n",
              "      <td>42618099999,42515099999,remote,42516099999</td>\n",
              "      <td>rainy</td>\n",
              "    </tr>\n",
              "    <tr>\n",
              "      <th>1</th>\n",
              "      <td>sylhet bangladesh</td>\n",
              "      <td>2022-05-02</td>\n",
              "      <td>27.8</td>\n",
              "      <td>16.4</td>\n",
              "      <td>23.1</td>\n",
              "      <td>30.7</td>\n",
              "      <td>16.4</td>\n",
              "      <td>23.6</td>\n",
              "      <td>20.7</td>\n",
              "      <td>86.6</td>\n",
              "      <td>...</td>\n",
              "      <td>16.5</td>\n",
              "      <td>7</td>\n",
              "      <td>2022-05-02T05:16:31</td>\n",
              "      <td>2022-05-02T18:22:53</td>\n",
              "      <td>0.05</td>\n",
              "      <td>Rain, Partially cloudy</td>\n",
              "      <td>Partly cloudy throughout the day with rain in ...</td>\n",
              "      <td>rain</td>\n",
              "      <td>42618099999,42515099999,remote,42516099999</td>\n",
              "      <td>rainy</td>\n",
              "    </tr>\n",
              "    <tr>\n",
              "      <th>2</th>\n",
              "      <td>sylhet bangladesh</td>\n",
              "      <td>2022-05-03</td>\n",
              "      <td>29.1</td>\n",
              "      <td>17.1</td>\n",
              "      <td>24.3</td>\n",
              "      <td>32.3</td>\n",
              "      <td>17.1</td>\n",
              "      <td>24.8</td>\n",
              "      <td>21.0</td>\n",
              "      <td>82.7</td>\n",
              "      <td>...</td>\n",
              "      <td>17.9</td>\n",
              "      <td>7</td>\n",
              "      <td>2022-05-03T05:15:48</td>\n",
              "      <td>2022-05-03T18:23:23</td>\n",
              "      <td>0.08</td>\n",
              "      <td>Rain, Partially cloudy</td>\n",
              "      <td>Partly cloudy throughout the day with afternoo...</td>\n",
              "      <td>rain</td>\n",
              "      <td>42618099999,42515099999,remote,42516099999</td>\n",
              "      <td>rainy</td>\n",
              "    </tr>\n",
              "    <tr>\n",
              "      <th>3</th>\n",
              "      <td>sylhet bangladesh</td>\n",
              "      <td>2022-05-04</td>\n",
              "      <td>29.9</td>\n",
              "      <td>15.1</td>\n",
              "      <td>24.1</td>\n",
              "      <td>33.3</td>\n",
              "      <td>15.1</td>\n",
              "      <td>25.2</td>\n",
              "      <td>21.1</td>\n",
              "      <td>84.0</td>\n",
              "      <td>...</td>\n",
              "      <td>19.5</td>\n",
              "      <td>8</td>\n",
              "      <td>2022-05-04T05:15:07</td>\n",
              "      <td>2022-05-04T18:23:53</td>\n",
              "      <td>0.11</td>\n",
              "      <td>Rain, Partially cloudy</td>\n",
              "      <td>Partly cloudy throughout the day with afternoo...</td>\n",
              "      <td>rain</td>\n",
              "      <td>42618099999,42515099999,remote,42516099999</td>\n",
              "      <td>rainy</td>\n",
              "    </tr>\n",
              "    <tr>\n",
              "      <th>4</th>\n",
              "      <td>sylhet bangladesh</td>\n",
              "      <td>2022-05-05</td>\n",
              "      <td>31.2</td>\n",
              "      <td>15.9</td>\n",
              "      <td>25.0</td>\n",
              "      <td>35.4</td>\n",
              "      <td>15.9</td>\n",
              "      <td>26.4</td>\n",
              "      <td>21.7</td>\n",
              "      <td>82.9</td>\n",
              "      <td>...</td>\n",
              "      <td>23.0</td>\n",
              "      <td>8</td>\n",
              "      <td>2022-05-05T05:14:26</td>\n",
              "      <td>2022-05-05T18:24:23</td>\n",
              "      <td>0.14</td>\n",
              "      <td>Rain, Partially cloudy</td>\n",
              "      <td>Partly cloudy throughout the day with rain.</td>\n",
              "      <td>rain</td>\n",
              "      <td>42618099999,42515099999,remote,42516099999</td>\n",
              "      <td>rainy</td>\n",
              "    </tr>\n",
              "  </tbody>\n",
              "</table>\n",
              "<p>5 rows × 33 columns</p>\n",
              "</div>"
            ],
            "text/plain": [
              "                name    datetime  tempmax  tempmin  temp  feelslikemax  \\\n",
              "0  sylhet bangladesh  2022-05-01     29.5     15.4  24.6          33.1   \n",
              "1  sylhet bangladesh  2022-05-02     27.8     16.4  23.1          30.7   \n",
              "2  sylhet bangladesh  2022-05-03     29.1     17.1  24.3          32.3   \n",
              "3  sylhet bangladesh  2022-05-04     29.9     15.1  24.1          33.3   \n",
              "4  sylhet bangladesh  2022-05-05     31.2     15.9  25.0          35.4   \n",
              "\n",
              "   feelslikemin  feelslike   dew  humidity  ...  solarenergy  uvindex  \\\n",
              "0          15.4       25.6  21.5      83.5  ...         18.6        8   \n",
              "1          16.4       23.6  20.7      86.6  ...         16.5        7   \n",
              "2          17.1       24.8  21.0      82.7  ...         17.9        7   \n",
              "3          15.1       25.2  21.1      84.0  ...         19.5        8   \n",
              "4          15.9       26.4  21.7      82.9  ...         23.0        8   \n",
              "\n",
              "               sunrise               sunset  moonphase  \\\n",
              "0  2022-05-01T05:17:15  2022-05-01T18:22:24       0.00   \n",
              "1  2022-05-02T05:16:31  2022-05-02T18:22:53       0.05   \n",
              "2  2022-05-03T05:15:48  2022-05-03T18:23:23       0.08   \n",
              "3  2022-05-04T05:15:07  2022-05-04T18:23:53       0.11   \n",
              "4  2022-05-05T05:14:26  2022-05-05T18:24:23       0.14   \n",
              "\n",
              "               conditions                                        description  \\\n",
              "0  Rain, Partially cloudy  Partly cloudy throughout the day with rain in ...   \n",
              "1  Rain, Partially cloudy  Partly cloudy throughout the day with rain in ...   \n",
              "2  Rain, Partially cloudy  Partly cloudy throughout the day with afternoo...   \n",
              "3  Rain, Partially cloudy  Partly cloudy throughout the day with afternoo...   \n",
              "4  Rain, Partially cloudy        Partly cloudy throughout the day with rain.   \n",
              "\n",
              "   icon                                    stations  categoryofweather  \n",
              "0  rain  42618099999,42515099999,remote,42516099999              rainy  \n",
              "1  rain  42618099999,42515099999,remote,42516099999              rainy  \n",
              "2  rain  42618099999,42515099999,remote,42516099999              rainy  \n",
              "3  rain  42618099999,42515099999,remote,42516099999              rainy  \n",
              "4  rain  42618099999,42515099999,remote,42516099999              rainy  \n",
              "\n",
              "[5 rows x 33 columns]"
            ]
          },
          "metadata": {},
          "output_type": "display_data"
        }
      ],
      "source": [
        "display(df.head())"
      ]
    },
    {
      "cell_type": "code",
      "execution_count": 489,
      "metadata": {
        "colab": {
          "base_uri": "https://localhost:8080/",
          "height": 350
        },
        "id": "DsiIbZjSPkRM",
        "outputId": "0039a30e-e687-41f7-dabc-b65d8c3ddcf9"
      },
      "outputs": [
        {
          "data": {
            "text/html": [
              "<div>\n",
              "<style scoped>\n",
              "    .dataframe tbody tr th:only-of-type {\n",
              "        vertical-align: middle;\n",
              "    }\n",
              "\n",
              "    .dataframe tbody tr th {\n",
              "        vertical-align: top;\n",
              "    }\n",
              "\n",
              "    .dataframe thead th {\n",
              "        text-align: right;\n",
              "    }\n",
              "</style>\n",
              "<table border=\"1\" class=\"dataframe\">\n",
              "  <thead>\n",
              "    <tr style=\"text-align: right;\">\n",
              "      <th></th>\n",
              "      <th>tempmax</th>\n",
              "      <th>tempmin</th>\n",
              "      <th>temp</th>\n",
              "      <th>feelslikemax</th>\n",
              "      <th>feelslikemin</th>\n",
              "      <th>feelslike</th>\n",
              "      <th>dew</th>\n",
              "      <th>humidity</th>\n",
              "      <th>precip</th>\n",
              "      <th>precipprob</th>\n",
              "      <th>...</th>\n",
              "      <th>windgust</th>\n",
              "      <th>windspeed</th>\n",
              "      <th>winddir</th>\n",
              "      <th>sealevelpressure</th>\n",
              "      <th>cloudcover</th>\n",
              "      <th>visibility</th>\n",
              "      <th>solarradiation</th>\n",
              "      <th>solarenergy</th>\n",
              "      <th>uvindex</th>\n",
              "      <th>moonphase</th>\n",
              "    </tr>\n",
              "  </thead>\n",
              "  <tbody>\n",
              "    <tr>\n",
              "      <th>count</th>\n",
              "      <td>3963.000000</td>\n",
              "      <td>3963.000000</td>\n",
              "      <td>3963.000000</td>\n",
              "      <td>3963.000000</td>\n",
              "      <td>3963.000000</td>\n",
              "      <td>3963.000000</td>\n",
              "      <td>3963.000000</td>\n",
              "      <td>3963.000000</td>\n",
              "      <td>3963.000000</td>\n",
              "      <td>3963.000000</td>\n",
              "      <td>...</td>\n",
              "      <td>3963.000000</td>\n",
              "      <td>3963.000000</td>\n",
              "      <td>3963.000000</td>\n",
              "      <td>3963.000000</td>\n",
              "      <td>3963.000000</td>\n",
              "      <td>3963.000000</td>\n",
              "      <td>3963.000000</td>\n",
              "      <td>3963.000000</td>\n",
              "      <td>3963.000000</td>\n",
              "      <td>3963.000000</td>\n",
              "    </tr>\n",
              "    <tr>\n",
              "      <th>mean</th>\n",
              "      <td>29.742998</td>\n",
              "      <td>19.038430</td>\n",
              "      <td>24.205501</td>\n",
              "      <td>33.936816</td>\n",
              "      <td>19.093641</td>\n",
              "      <td>26.070982</td>\n",
              "      <td>20.664194</td>\n",
              "      <td>82.080949</td>\n",
              "      <td>8.415468</td>\n",
              "      <td>66.136765</td>\n",
              "      <td>...</td>\n",
              "      <td>24.541509</td>\n",
              "      <td>9.827479</td>\n",
              "      <td>121.746404</td>\n",
              "      <td>1009.050896</td>\n",
              "      <td>56.595786</td>\n",
              "      <td>6.946076</td>\n",
              "      <td>174.373782</td>\n",
              "      <td>15.050568</td>\n",
              "      <td>6.555640</td>\n",
              "      <td>0.483987</td>\n",
              "    </tr>\n",
              "    <tr>\n",
              "      <th>std</th>\n",
              "      <td>3.404102</td>\n",
              "      <td>5.471891</td>\n",
              "      <td>4.181000</td>\n",
              "      <td>6.852786</td>\n",
              "      <td>5.607800</td>\n",
              "      <td>6.108550</td>\n",
              "      <td>4.808248</td>\n",
              "      <td>7.359500</td>\n",
              "      <td>18.164307</td>\n",
              "      <td>47.330435</td>\n",
              "      <td>...</td>\n",
              "      <td>8.273833</td>\n",
              "      <td>6.828476</td>\n",
              "      <td>97.134362</td>\n",
              "      <td>5.115979</td>\n",
              "      <td>33.555014</td>\n",
              "      <td>18.240000</td>\n",
              "      <td>58.533320</td>\n",
              "      <td>5.062207</td>\n",
              "      <td>1.802914</td>\n",
              "      <td>0.288690</td>\n",
              "    </tr>\n",
              "    <tr>\n",
              "      <th>min</th>\n",
              "      <td>18.100000</td>\n",
              "      <td>3.400000</td>\n",
              "      <td>12.400000</td>\n",
              "      <td>18.100000</td>\n",
              "      <td>2.600000</td>\n",
              "      <td>12.400000</td>\n",
              "      <td>8.300000</td>\n",
              "      <td>51.900000</td>\n",
              "      <td>0.000000</td>\n",
              "      <td>0.000000</td>\n",
              "      <td>...</td>\n",
              "      <td>8.600000</td>\n",
              "      <td>3.600000</td>\n",
              "      <td>0.000000</td>\n",
              "      <td>992.600000</td>\n",
              "      <td>0.000000</td>\n",
              "      <td>0.700000</td>\n",
              "      <td>0.000000</td>\n",
              "      <td>0.000000</td>\n",
              "      <td>0.000000</td>\n",
              "      <td>0.000000</td>\n",
              "    </tr>\n",
              "    <tr>\n",
              "      <th>25%</th>\n",
              "      <td>27.400000</td>\n",
              "      <td>14.900000</td>\n",
              "      <td>21.100000</td>\n",
              "      <td>27.900000</td>\n",
              "      <td>14.900000</td>\n",
              "      <td>21.050000</td>\n",
              "      <td>16.400000</td>\n",
              "      <td>77.200000</td>\n",
              "      <td>0.000000</td>\n",
              "      <td>0.000000</td>\n",
              "      <td>...</td>\n",
              "      <td>19.100000</td>\n",
              "      <td>7.100000</td>\n",
              "      <td>52.300000</td>\n",
              "      <td>1004.900000</td>\n",
              "      <td>24.700000</td>\n",
              "      <td>3.300000</td>\n",
              "      <td>141.000000</td>\n",
              "      <td>12.150000</td>\n",
              "      <td>6.000000</td>\n",
              "      <td>0.250000</td>\n",
              "    </tr>\n",
              "    <tr>\n",
              "      <th>50%</th>\n",
              "      <td>30.100000</td>\n",
              "      <td>19.700000</td>\n",
              "      <td>25.300000</td>\n",
              "      <td>33.900000</td>\n",
              "      <td>19.700000</td>\n",
              "      <td>26.200000</td>\n",
              "      <td>22.000000</td>\n",
              "      <td>82.400000</td>\n",
              "      <td>0.900000</td>\n",
              "      <td>100.000000</td>\n",
              "      <td>...</td>\n",
              "      <td>22.300000</td>\n",
              "      <td>7.600000</td>\n",
              "      <td>84.600000</td>\n",
              "      <td>1009.400000</td>\n",
              "      <td>59.600000</td>\n",
              "      <td>4.100000</td>\n",
              "      <td>179.700000</td>\n",
              "      <td>15.500000</td>\n",
              "      <td>7.000000</td>\n",
              "      <td>0.500000</td>\n",
              "    </tr>\n",
              "    <tr>\n",
              "      <th>75%</th>\n",
              "      <td>32.200000</td>\n",
              "      <td>23.800000</td>\n",
              "      <td>27.500000</td>\n",
              "      <td>39.600000</td>\n",
              "      <td>23.800000</td>\n",
              "      <td>30.800000</td>\n",
              "      <td>25.100000</td>\n",
              "      <td>87.500000</td>\n",
              "      <td>9.000000</td>\n",
              "      <td>100.000000</td>\n",
              "      <td>...</td>\n",
              "      <td>27.700000</td>\n",
              "      <td>10.900000</td>\n",
              "      <td>170.650000</td>\n",
              "      <td>1013.300000</td>\n",
              "      <td>91.050000</td>\n",
              "      <td>5.800000</td>\n",
              "      <td>212.700000</td>\n",
              "      <td>18.400000</td>\n",
              "      <td>8.000000</td>\n",
              "      <td>0.750000</td>\n",
              "    </tr>\n",
              "    <tr>\n",
              "      <th>max</th>\n",
              "      <td>38.800000</td>\n",
              "      <td>28.800000</td>\n",
              "      <td>32.600000</td>\n",
              "      <td>53.600000</td>\n",
              "      <td>36.800000</td>\n",
              "      <td>43.200000</td>\n",
              "      <td>28.000000</td>\n",
              "      <td>98.400000</td>\n",
              "      <td>202.000000</td>\n",
              "      <td>100.000000</td>\n",
              "      <td>...</td>\n",
              "      <td>95.800000</td>\n",
              "      <td>91.600000</td>\n",
              "      <td>359.900000</td>\n",
              "      <td>1019.800000</td>\n",
              "      <td>100.000000</td>\n",
              "      <td>1101.400000</td>\n",
              "      <td>316.100000</td>\n",
              "      <td>27.400000</td>\n",
              "      <td>10.000000</td>\n",
              "      <td>0.980000</td>\n",
              "    </tr>\n",
              "  </tbody>\n",
              "</table>\n",
              "<p>8 rows × 23 columns</p>\n",
              "</div>"
            ],
            "text/plain": [
              "           tempmax      tempmin         temp  feelslikemax  feelslikemin  \\\n",
              "count  3963.000000  3963.000000  3963.000000   3963.000000   3963.000000   \n",
              "mean     29.742998    19.038430    24.205501     33.936816     19.093641   \n",
              "std       3.404102     5.471891     4.181000      6.852786      5.607800   \n",
              "min      18.100000     3.400000    12.400000     18.100000      2.600000   \n",
              "25%      27.400000    14.900000    21.100000     27.900000     14.900000   \n",
              "50%      30.100000    19.700000    25.300000     33.900000     19.700000   \n",
              "75%      32.200000    23.800000    27.500000     39.600000     23.800000   \n",
              "max      38.800000    28.800000    32.600000     53.600000     36.800000   \n",
              "\n",
              "         feelslike          dew     humidity       precip   precipprob  ...  \\\n",
              "count  3963.000000  3963.000000  3963.000000  3963.000000  3963.000000  ...   \n",
              "mean     26.070982    20.664194    82.080949     8.415468    66.136765  ...   \n",
              "std       6.108550     4.808248     7.359500    18.164307    47.330435  ...   \n",
              "min      12.400000     8.300000    51.900000     0.000000     0.000000  ...   \n",
              "25%      21.050000    16.400000    77.200000     0.000000     0.000000  ...   \n",
              "50%      26.200000    22.000000    82.400000     0.900000   100.000000  ...   \n",
              "75%      30.800000    25.100000    87.500000     9.000000   100.000000  ...   \n",
              "max      43.200000    28.000000    98.400000   202.000000   100.000000  ...   \n",
              "\n",
              "          windgust    windspeed      winddir  sealevelpressure   cloudcover  \\\n",
              "count  3963.000000  3963.000000  3963.000000       3963.000000  3963.000000   \n",
              "mean     24.541509     9.827479   121.746404       1009.050896    56.595786   \n",
              "std       8.273833     6.828476    97.134362          5.115979    33.555014   \n",
              "min       8.600000     3.600000     0.000000        992.600000     0.000000   \n",
              "25%      19.100000     7.100000    52.300000       1004.900000    24.700000   \n",
              "50%      22.300000     7.600000    84.600000       1009.400000    59.600000   \n",
              "75%      27.700000    10.900000   170.650000       1013.300000    91.050000   \n",
              "max      95.800000    91.600000   359.900000       1019.800000   100.000000   \n",
              "\n",
              "        visibility  solarradiation  solarenergy      uvindex    moonphase  \n",
              "count  3963.000000     3963.000000  3963.000000  3963.000000  3963.000000  \n",
              "mean      6.946076      174.373782    15.050568     6.555640     0.483987  \n",
              "std      18.240000       58.533320     5.062207     1.802914     0.288690  \n",
              "min       0.700000        0.000000     0.000000     0.000000     0.000000  \n",
              "25%       3.300000      141.000000    12.150000     6.000000     0.250000  \n",
              "50%       4.100000      179.700000    15.500000     7.000000     0.500000  \n",
              "75%       5.800000      212.700000    18.400000     8.000000     0.750000  \n",
              "max    1101.400000      316.100000    27.400000    10.000000     0.980000  \n",
              "\n",
              "[8 rows x 23 columns]"
            ]
          },
          "execution_count": 489,
          "metadata": {},
          "output_type": "execute_result"
        }
      ],
      "source": [
        "df.describe()"
      ]
    },
    {
      "cell_type": "code",
      "execution_count": 490,
      "metadata": {
        "colab": {
          "base_uri": "https://localhost:8080/"
        },
        "id": "byr5eLTeZtmt",
        "outputId": "485eecfd-bb5d-4963-f2fd-82d875138144"
      },
      "outputs": [
        {
          "name": "stdout",
          "output_type": "stream",
          "text": [
            "\n",
            "Missing Values in Dataset:\n",
            " name                    0\n",
            "datetime                0\n",
            "tempmax                 0\n",
            "tempmin                 0\n",
            "temp                    0\n",
            "feelslikemax            0\n",
            "feelslikemin            0\n",
            "feelslike               0\n",
            "dew                     0\n",
            "humidity                0\n",
            "precip                  0\n",
            "precipprob              0\n",
            "precipcover             0\n",
            "preciptype           1340\n",
            "snow                    0\n",
            "snowdepth               0\n",
            "windgust                0\n",
            "windspeed               0\n",
            "winddir                 0\n",
            "sealevelpressure        0\n",
            "cloudcover              0\n",
            "visibility              0\n",
            "solarradiation          0\n",
            "solarenergy             0\n",
            "uvindex                 0\n",
            "sunrise                 0\n",
            "sunset                  0\n",
            "moonphase               0\n",
            "conditions              0\n",
            "description             0\n",
            "icon                    0\n",
            "stations                0\n",
            "categoryofweather       0\n",
            "dtype: int64\n"
          ]
        }
      ],
      "source": [
        "print(\"\\nMissing Values in Dataset:\\n\", df.isnull().sum())"
      ]
    },
    {
      "cell_type": "code",
      "execution_count": 491,
      "metadata": {
        "id": "edcDSP4AXULf"
      },
      "outputs": [],
      "source": [
        "df['preciptype'] = df['preciptype'].fillna('clear')"
      ]
    },
    {
      "cell_type": "code",
      "execution_count": 492,
      "metadata": {
        "colab": {
          "base_uri": "https://localhost:8080/",
          "height": 178
        },
        "id": "eX9d1YsyiA3C",
        "outputId": "74d339dc-6547-47f3-bb94-363dfa0e0605"
      },
      "outputs": [
        {
          "data": {
            "text/plain": [
              "preciptype\n",
              "rain     2623\n",
              "clear    1340\n",
              "Name: count, dtype: int64"
            ]
          },
          "execution_count": 492,
          "metadata": {},
          "output_type": "execute_result"
        }
      ],
      "source": [
        "df['preciptype'].value_counts()"
      ]
    },
    {
      "cell_type": "code",
      "execution_count": 493,
      "metadata": {
        "id": "u3xwPgdLZ4n0"
      },
      "outputs": [],
      "source": [
        "#sns.pairplot(df, hue='temp')\n",
        "#plt.show()"
      ]
    },
    {
      "cell_type": "code",
      "execution_count": 494,
      "metadata": {
        "id": "MMgqwJSJbR82"
      },
      "outputs": [],
      "source": [
        "#df.to_csv('cleaned_df.csv', index=False)"
      ]
    },
    {
      "cell_type": "code",
      "execution_count": 495,
      "metadata": {
        "id": "zNKOBQbvbZN-"
      },
      "outputs": [],
      "source": [
        "#from google.colab import files\n",
        "#iles.download('cleaned_df.csv')"
      ]
    },
    {
      "cell_type": "code",
      "execution_count": 496,
      "metadata": {
        "id": "sauhqj2LNTC4"
      },
      "outputs": [],
      "source": [
        "df.set_index(\"datetime\", inplace=True)"
      ]
    },
    {
      "cell_type": "code",
      "execution_count": 497,
      "metadata": {
        "colab": {
          "base_uri": "https://localhost:8080/"
        },
        "id": "Ux77Lp6QRv8F",
        "outputId": "f03e1071-cdb9-4a1b-8535-8f756dd1a8c1"
      },
      "outputs": [
        {
          "data": {
            "text/plain": [
              "Index(['2022-05-01', '2022-05-02', '2022-05-03', '2022-05-04', '2022-05-05',\n",
              "       '2022-05-06', '2022-05-07', '2022-05-08', '2022-05-09', '2022-05-10',\n",
              "       ...\n",
              "       '2016-12-01', '2016-12-02', '2016-12-03', '2016-12-04', '2016-12-05',\n",
              "       '2016-12-06', '2016-12-07', '2016-12-08', '2016-12-09', '2016-12-10'],\n",
              "      dtype='object', name='datetime', length=3963)"
            ]
          },
          "execution_count": 497,
          "metadata": {},
          "output_type": "execute_result"
        }
      ],
      "source": [
        "df.index"
      ]
    },
    {
      "cell_type": "code",
      "execution_count": 498,
      "metadata": {
        "id": "E9DQq1qlR1iq"
      },
      "outputs": [],
      "source": [
        "df.index = pd.to_datetime(df.index)"
      ]
    },
    {
      "cell_type": "code",
      "execution_count": 499,
      "metadata": {
        "colab": {
          "base_uri": "https://localhost:8080/"
        },
        "id": "--MUEUWfR5bo",
        "outputId": "c9287033-6b59-429f-862b-ec86d3e1403e"
      },
      "outputs": [
        {
          "data": {
            "text/plain": [
              "DatetimeIndex(['2022-05-01', '2022-05-02', '2022-05-03', '2022-05-04',\n",
              "               '2022-05-05', '2022-05-06', '2022-05-07', '2022-05-08',\n",
              "               '2022-05-09', '2022-05-10',\n",
              "               ...\n",
              "               '2016-12-01', '2016-12-02', '2016-12-03', '2016-12-04',\n",
              "               '2016-12-05', '2016-12-06', '2016-12-07', '2016-12-08',\n",
              "               '2016-12-09', '2016-12-10'],\n",
              "              dtype='datetime64[ns]', name='datetime', length=3963, freq=None)"
            ]
          },
          "execution_count": 499,
          "metadata": {},
          "output_type": "execute_result"
        }
      ],
      "source": [
        "df.index"
      ]
    },
    {
      "cell_type": "code",
      "execution_count": 500,
      "metadata": {
        "colab": {
          "base_uri": "https://localhost:8080/"
        },
        "collapsed": true,
        "id": "xy_3SWSxPW15",
        "outputId": "9c462144-859b-4ee3-c5d0-0f0b00a6ed85"
      },
      "outputs": [
        {
          "name": "stdout",
          "output_type": "stream",
          "text": [
            "<class 'pandas.core.frame.DataFrame'>\n",
            "DatetimeIndex: 3963 entries, 2022-05-01 to 2016-12-10\n",
            "Data columns (total 32 columns):\n",
            " #   Column             Non-Null Count  Dtype  \n",
            "---  ------             --------------  -----  \n",
            " 0   name               3963 non-null   object \n",
            " 1   tempmax            3963 non-null   float64\n",
            " 2   tempmin            3963 non-null   float64\n",
            " 3   temp               3963 non-null   float64\n",
            " 4   feelslikemax       3963 non-null   float64\n",
            " 5   feelslikemin       3963 non-null   float64\n",
            " 6   feelslike          3963 non-null   float64\n",
            " 7   dew                3963 non-null   float64\n",
            " 8   humidity           3963 non-null   float64\n",
            " 9   precip             3963 non-null   float64\n",
            " 10  precipprob         3963 non-null   int64  \n",
            " 11  precipcover        3963 non-null   float64\n",
            " 12  preciptype         3963 non-null   object \n",
            " 13  snow               3963 non-null   int64  \n",
            " 14  snowdepth          3963 non-null   float64\n",
            " 15  windgust           3963 non-null   float64\n",
            " 16  windspeed          3963 non-null   float64\n",
            " 17  winddir            3963 non-null   float64\n",
            " 18  sealevelpressure   3963 non-null   float64\n",
            " 19  cloudcover         3963 non-null   float64\n",
            " 20  visibility         3963 non-null   float64\n",
            " 21  solarradiation     3963 non-null   float64\n",
            " 22  solarenergy        3963 non-null   float64\n",
            " 23  uvindex            3963 non-null   int64  \n",
            " 24  sunrise            3963 non-null   object \n",
            " 25  sunset             3963 non-null   object \n",
            " 26  moonphase          3963 non-null   float64\n",
            " 27  conditions         3963 non-null   object \n",
            " 28  description        3963 non-null   object \n",
            " 29  icon               3963 non-null   object \n",
            " 30  stations           3963 non-null   object \n",
            " 31  categoryofweather  3963 non-null   object \n",
            "dtypes: float64(20), int64(3), object(9)\n",
            "memory usage: 1021.7+ KB\n"
          ]
        }
      ],
      "source": [
        "df.info()"
      ]
    },
    {
      "cell_type": "code",
      "execution_count": 501,
      "metadata": {
        "colab": {
          "base_uri": "https://localhost:8080/",
          "height": 492
        },
        "id": "kc-HbX0AR9Mn",
        "outputId": "38ee324f-8abe-42fb-a7e7-4a48dd7f4f44"
      },
      "outputs": [
        {
          "data": {
            "text/plain": [
              "datetime\n",
              "2014    287\n",
              "2015    365\n",
              "2016    366\n",
              "2017    365\n",
              "2018    365\n",
              "2019    365\n",
              "2020    366\n",
              "2021    365\n",
              "2022    365\n",
              "2023    365\n",
              "2024    366\n",
              "2025     23\n",
              "Name: count, dtype: int64"
            ]
          },
          "execution_count": 501,
          "metadata": {},
          "output_type": "execute_result"
        }
      ],
      "source": [
        "df.index.year.value_counts().sort_index()"
      ]
    },
    {
      "cell_type": "code",
      "execution_count": 502,
      "metadata": {
        "id": "84OgmG2Jn6XE"
      },
      "outputs": [],
      "source": [
        "df = df.drop(['name','stations','sunrise','sunset', 'description'], axis=1)"
      ]
    },
    {
      "cell_type": "code",
      "execution_count": 503,
      "metadata": {
        "colab": {
          "base_uri": "https://localhost:8080/",
          "height": 735
        },
        "id": "zTI5BZq4o1Iz",
        "outputId": "b410bde6-199a-440d-9af2-939f7dbdbf1c"
      },
      "outputs": [
        {
          "data": {
            "text/html": [
              "<div>\n",
              "<style scoped>\n",
              "    .dataframe tbody tr th:only-of-type {\n",
              "        vertical-align: middle;\n",
              "    }\n",
              "\n",
              "    .dataframe tbody tr th {\n",
              "        vertical-align: top;\n",
              "    }\n",
              "\n",
              "    .dataframe thead th {\n",
              "        text-align: right;\n",
              "    }\n",
              "</style>\n",
              "<table border=\"1\" class=\"dataframe\">\n",
              "  <thead>\n",
              "    <tr style=\"text-align: right;\">\n",
              "      <th></th>\n",
              "      <th>tempmax</th>\n",
              "      <th>tempmin</th>\n",
              "      <th>temp</th>\n",
              "      <th>feelslikemax</th>\n",
              "      <th>feelslikemin</th>\n",
              "      <th>feelslike</th>\n",
              "      <th>dew</th>\n",
              "      <th>humidity</th>\n",
              "      <th>precip</th>\n",
              "      <th>precipprob</th>\n",
              "      <th>...</th>\n",
              "      <th>sealevelpressure</th>\n",
              "      <th>cloudcover</th>\n",
              "      <th>visibility</th>\n",
              "      <th>solarradiation</th>\n",
              "      <th>solarenergy</th>\n",
              "      <th>uvindex</th>\n",
              "      <th>moonphase</th>\n",
              "      <th>conditions</th>\n",
              "      <th>icon</th>\n",
              "      <th>categoryofweather</th>\n",
              "    </tr>\n",
              "    <tr>\n",
              "      <th>datetime</th>\n",
              "      <th></th>\n",
              "      <th></th>\n",
              "      <th></th>\n",
              "      <th></th>\n",
              "      <th></th>\n",
              "      <th></th>\n",
              "      <th></th>\n",
              "      <th></th>\n",
              "      <th></th>\n",
              "      <th></th>\n",
              "      <th></th>\n",
              "      <th></th>\n",
              "      <th></th>\n",
              "      <th></th>\n",
              "      <th></th>\n",
              "      <th></th>\n",
              "      <th></th>\n",
              "      <th></th>\n",
              "      <th></th>\n",
              "      <th></th>\n",
              "      <th></th>\n",
              "    </tr>\n",
              "  </thead>\n",
              "  <tbody>\n",
              "    <tr>\n",
              "      <th>2022-05-01</th>\n",
              "      <td>29.5</td>\n",
              "      <td>15.4</td>\n",
              "      <td>24.6</td>\n",
              "      <td>33.1</td>\n",
              "      <td>15.4</td>\n",
              "      <td>25.6</td>\n",
              "      <td>21.5</td>\n",
              "      <td>83.5</td>\n",
              "      <td>22.0</td>\n",
              "      <td>100</td>\n",
              "      <td>...</td>\n",
              "      <td>1006.0</td>\n",
              "      <td>57.3</td>\n",
              "      <td>18.8</td>\n",
              "      <td>215.7</td>\n",
              "      <td>18.6</td>\n",
              "      <td>8</td>\n",
              "      <td>0.00</td>\n",
              "      <td>Rain, Partially cloudy</td>\n",
              "      <td>rain</td>\n",
              "      <td>rainy</td>\n",
              "    </tr>\n",
              "    <tr>\n",
              "      <th>2022-05-02</th>\n",
              "      <td>27.8</td>\n",
              "      <td>16.4</td>\n",
              "      <td>23.1</td>\n",
              "      <td>30.7</td>\n",
              "      <td>16.4</td>\n",
              "      <td>23.6</td>\n",
              "      <td>20.7</td>\n",
              "      <td>86.6</td>\n",
              "      <td>20.0</td>\n",
              "      <td>100</td>\n",
              "      <td>...</td>\n",
              "      <td>1007.1</td>\n",
              "      <td>59.1</td>\n",
              "      <td>18.8</td>\n",
              "      <td>193.6</td>\n",
              "      <td>16.5</td>\n",
              "      <td>7</td>\n",
              "      <td>0.05</td>\n",
              "      <td>Rain, Partially cloudy</td>\n",
              "      <td>rain</td>\n",
              "      <td>rainy</td>\n",
              "    </tr>\n",
              "    <tr>\n",
              "      <th>2022-05-03</th>\n",
              "      <td>29.1</td>\n",
              "      <td>17.1</td>\n",
              "      <td>24.3</td>\n",
              "      <td>32.3</td>\n",
              "      <td>17.1</td>\n",
              "      <td>24.8</td>\n",
              "      <td>21.0</td>\n",
              "      <td>82.7</td>\n",
              "      <td>0.2</td>\n",
              "      <td>100</td>\n",
              "      <td>...</td>\n",
              "      <td>1007.7</td>\n",
              "      <td>66.5</td>\n",
              "      <td>18.2</td>\n",
              "      <td>204.9</td>\n",
              "      <td>17.9</td>\n",
              "      <td>7</td>\n",
              "      <td>0.08</td>\n",
              "      <td>Rain, Partially cloudy</td>\n",
              "      <td>rain</td>\n",
              "      <td>rainy</td>\n",
              "    </tr>\n",
              "    <tr>\n",
              "      <th>2022-05-04</th>\n",
              "      <td>29.9</td>\n",
              "      <td>15.1</td>\n",
              "      <td>24.1</td>\n",
              "      <td>33.3</td>\n",
              "      <td>15.1</td>\n",
              "      <td>25.2</td>\n",
              "      <td>21.1</td>\n",
              "      <td>84.0</td>\n",
              "      <td>8.0</td>\n",
              "      <td>100</td>\n",
              "      <td>...</td>\n",
              "      <td>1009.1</td>\n",
              "      <td>52.7</td>\n",
              "      <td>19.0</td>\n",
              "      <td>226.2</td>\n",
              "      <td>19.5</td>\n",
              "      <td>8</td>\n",
              "      <td>0.11</td>\n",
              "      <td>Rain, Partially cloudy</td>\n",
              "      <td>rain</td>\n",
              "      <td>rainy</td>\n",
              "    </tr>\n",
              "    <tr>\n",
              "      <th>2022-05-05</th>\n",
              "      <td>31.2</td>\n",
              "      <td>15.9</td>\n",
              "      <td>25.0</td>\n",
              "      <td>35.4</td>\n",
              "      <td>15.9</td>\n",
              "      <td>26.4</td>\n",
              "      <td>21.7</td>\n",
              "      <td>82.9</td>\n",
              "      <td>12.0</td>\n",
              "      <td>100</td>\n",
              "      <td>...</td>\n",
              "      <td>1007.7</td>\n",
              "      <td>45.3</td>\n",
              "      <td>18.7</td>\n",
              "      <td>263.0</td>\n",
              "      <td>23.0</td>\n",
              "      <td>8</td>\n",
              "      <td>0.14</td>\n",
              "      <td>Rain, Partially cloudy</td>\n",
              "      <td>rain</td>\n",
              "      <td>rainy</td>\n",
              "    </tr>\n",
              "    <tr>\n",
              "      <th>...</th>\n",
              "      <td>...</td>\n",
              "      <td>...</td>\n",
              "      <td>...</td>\n",
              "      <td>...</td>\n",
              "      <td>...</td>\n",
              "      <td>...</td>\n",
              "      <td>...</td>\n",
              "      <td>...</td>\n",
              "      <td>...</td>\n",
              "      <td>...</td>\n",
              "      <td>...</td>\n",
              "      <td>...</td>\n",
              "      <td>...</td>\n",
              "      <td>...</td>\n",
              "      <td>...</td>\n",
              "      <td>...</td>\n",
              "      <td>...</td>\n",
              "      <td>...</td>\n",
              "      <td>...</td>\n",
              "      <td>...</td>\n",
              "      <td>...</td>\n",
              "    </tr>\n",
              "    <tr>\n",
              "      <th>2016-12-06</th>\n",
              "      <td>29.6</td>\n",
              "      <td>13.1</td>\n",
              "      <td>20.6</td>\n",
              "      <td>29.0</td>\n",
              "      <td>13.1</td>\n",
              "      <td>20.5</td>\n",
              "      <td>14.1</td>\n",
              "      <td>69.0</td>\n",
              "      <td>0.0</td>\n",
              "      <td>0</td>\n",
              "      <td>...</td>\n",
              "      <td>1015.1</td>\n",
              "      <td>0.0</td>\n",
              "      <td>4.1</td>\n",
              "      <td>183.4</td>\n",
              "      <td>15.9</td>\n",
              "      <td>7</td>\n",
              "      <td>0.23</td>\n",
              "      <td>Clear</td>\n",
              "      <td>clear-day</td>\n",
              "      <td>clear</td>\n",
              "    </tr>\n",
              "    <tr>\n",
              "      <th>2016-12-07</th>\n",
              "      <td>28.5</td>\n",
              "      <td>14.2</td>\n",
              "      <td>20.9</td>\n",
              "      <td>28.2</td>\n",
              "      <td>14.2</td>\n",
              "      <td>20.8</td>\n",
              "      <td>14.3</td>\n",
              "      <td>68.4</td>\n",
              "      <td>0.0</td>\n",
              "      <td>0</td>\n",
              "      <td>...</td>\n",
              "      <td>1013.8</td>\n",
              "      <td>0.0</td>\n",
              "      <td>4.2</td>\n",
              "      <td>182.6</td>\n",
              "      <td>15.9</td>\n",
              "      <td>7</td>\n",
              "      <td>0.25</td>\n",
              "      <td>Clear</td>\n",
              "      <td>clear-day</td>\n",
              "      <td>clear</td>\n",
              "    </tr>\n",
              "    <tr>\n",
              "      <th>2016-12-08</th>\n",
              "      <td>28.8</td>\n",
              "      <td>14.0</td>\n",
              "      <td>20.5</td>\n",
              "      <td>28.5</td>\n",
              "      <td>14.0</td>\n",
              "      <td>20.5</td>\n",
              "      <td>14.2</td>\n",
              "      <td>69.7</td>\n",
              "      <td>0.0</td>\n",
              "      <td>0</td>\n",
              "      <td>...</td>\n",
              "      <td>1012.8</td>\n",
              "      <td>0.0</td>\n",
              "      <td>4.7</td>\n",
              "      <td>182.2</td>\n",
              "      <td>15.9</td>\n",
              "      <td>7</td>\n",
              "      <td>0.30</td>\n",
              "      <td>Clear</td>\n",
              "      <td>clear-day</td>\n",
              "      <td>clear</td>\n",
              "    </tr>\n",
              "    <tr>\n",
              "      <th>2016-12-09</th>\n",
              "      <td>27.7</td>\n",
              "      <td>12.5</td>\n",
              "      <td>19.4</td>\n",
              "      <td>28.0</td>\n",
              "      <td>12.5</td>\n",
              "      <td>19.4</td>\n",
              "      <td>14.2</td>\n",
              "      <td>73.5</td>\n",
              "      <td>0.0</td>\n",
              "      <td>0</td>\n",
              "      <td>...</td>\n",
              "      <td>1011.4</td>\n",
              "      <td>1.0</td>\n",
              "      <td>4.1</td>\n",
              "      <td>181.9</td>\n",
              "      <td>15.9</td>\n",
              "      <td>7</td>\n",
              "      <td>0.34</td>\n",
              "      <td>Clear</td>\n",
              "      <td>clear-day</td>\n",
              "      <td>clear</td>\n",
              "    </tr>\n",
              "    <tr>\n",
              "      <th>2016-12-10</th>\n",
              "      <td>28.0</td>\n",
              "      <td>13.1</td>\n",
              "      <td>19.6</td>\n",
              "      <td>27.6</td>\n",
              "      <td>13.1</td>\n",
              "      <td>19.6</td>\n",
              "      <td>13.1</td>\n",
              "      <td>68.6</td>\n",
              "      <td>0.0</td>\n",
              "      <td>0</td>\n",
              "      <td>...</td>\n",
              "      <td>1011.4</td>\n",
              "      <td>2.9</td>\n",
              "      <td>4.1</td>\n",
              "      <td>182.1</td>\n",
              "      <td>15.8</td>\n",
              "      <td>7</td>\n",
              "      <td>0.37</td>\n",
              "      <td>Clear</td>\n",
              "      <td>clear-day</td>\n",
              "      <td>clear</td>\n",
              "    </tr>\n",
              "  </tbody>\n",
              "</table>\n",
              "<p>3963 rows × 27 columns</p>\n",
              "</div>"
            ],
            "text/plain": [
              "            tempmax  tempmin  temp  feelslikemax  feelslikemin  feelslike  \\\n",
              "datetime                                                                    \n",
              "2022-05-01     29.5     15.4  24.6          33.1          15.4       25.6   \n",
              "2022-05-02     27.8     16.4  23.1          30.7          16.4       23.6   \n",
              "2022-05-03     29.1     17.1  24.3          32.3          17.1       24.8   \n",
              "2022-05-04     29.9     15.1  24.1          33.3          15.1       25.2   \n",
              "2022-05-05     31.2     15.9  25.0          35.4          15.9       26.4   \n",
              "...             ...      ...   ...           ...           ...        ...   \n",
              "2016-12-06     29.6     13.1  20.6          29.0          13.1       20.5   \n",
              "2016-12-07     28.5     14.2  20.9          28.2          14.2       20.8   \n",
              "2016-12-08     28.8     14.0  20.5          28.5          14.0       20.5   \n",
              "2016-12-09     27.7     12.5  19.4          28.0          12.5       19.4   \n",
              "2016-12-10     28.0     13.1  19.6          27.6          13.1       19.6   \n",
              "\n",
              "             dew  humidity  precip  precipprob  ...  sealevelpressure  \\\n",
              "datetime                                        ...                     \n",
              "2022-05-01  21.5      83.5    22.0         100  ...            1006.0   \n",
              "2022-05-02  20.7      86.6    20.0         100  ...            1007.1   \n",
              "2022-05-03  21.0      82.7     0.2         100  ...            1007.7   \n",
              "2022-05-04  21.1      84.0     8.0         100  ...            1009.1   \n",
              "2022-05-05  21.7      82.9    12.0         100  ...            1007.7   \n",
              "...          ...       ...     ...         ...  ...               ...   \n",
              "2016-12-06  14.1      69.0     0.0           0  ...            1015.1   \n",
              "2016-12-07  14.3      68.4     0.0           0  ...            1013.8   \n",
              "2016-12-08  14.2      69.7     0.0           0  ...            1012.8   \n",
              "2016-12-09  14.2      73.5     0.0           0  ...            1011.4   \n",
              "2016-12-10  13.1      68.6     0.0           0  ...            1011.4   \n",
              "\n",
              "           cloudcover  visibility  solarradiation  solarenergy  uvindex  \\\n",
              "datetime                                                                  \n",
              "2022-05-01       57.3        18.8           215.7         18.6        8   \n",
              "2022-05-02       59.1        18.8           193.6         16.5        7   \n",
              "2022-05-03       66.5        18.2           204.9         17.9        7   \n",
              "2022-05-04       52.7        19.0           226.2         19.5        8   \n",
              "2022-05-05       45.3        18.7           263.0         23.0        8   \n",
              "...               ...         ...             ...          ...      ...   \n",
              "2016-12-06        0.0         4.1           183.4         15.9        7   \n",
              "2016-12-07        0.0         4.2           182.6         15.9        7   \n",
              "2016-12-08        0.0         4.7           182.2         15.9        7   \n",
              "2016-12-09        1.0         4.1           181.9         15.9        7   \n",
              "2016-12-10        2.9         4.1           182.1         15.8        7   \n",
              "\n",
              "            moonphase              conditions       icon  categoryofweather  \n",
              "datetime                                                                     \n",
              "2022-05-01       0.00  Rain, Partially cloudy       rain              rainy  \n",
              "2022-05-02       0.05  Rain, Partially cloudy       rain              rainy  \n",
              "2022-05-03       0.08  Rain, Partially cloudy       rain              rainy  \n",
              "2022-05-04       0.11  Rain, Partially cloudy       rain              rainy  \n",
              "2022-05-05       0.14  Rain, Partially cloudy       rain              rainy  \n",
              "...               ...                     ...        ...                ...  \n",
              "2016-12-06       0.23                   Clear  clear-day              clear  \n",
              "2016-12-07       0.25                   Clear  clear-day              clear  \n",
              "2016-12-08       0.30                   Clear  clear-day              clear  \n",
              "2016-12-09       0.34                   Clear  clear-day              clear  \n",
              "2016-12-10       0.37                   Clear  clear-day              clear  \n",
              "\n",
              "[3963 rows x 27 columns]"
            ]
          },
          "execution_count": 503,
          "metadata": {},
          "output_type": "execute_result"
        }
      ],
      "source": [
        "df"
      ]
    },
    {
      "cell_type": "code",
      "execution_count": 504,
      "metadata": {
        "id": "0Vz66euGw5cY"
      },
      "outputs": [],
      "source": [
        "df['icon'] = df['icon'].replace({\n",
        "    'cloudy': 'partly-cloudy-day',\n",
        "    'fog': 'partly-cloudy-day',\n",
        "    'wind': 'partly-cloudy-day'\n",
        "})"
      ]
    },
    {
      "cell_type": "code",
      "execution_count": 505,
      "metadata": {
        "colab": {
          "base_uri": "https://localhost:8080/",
          "height": 210
        },
        "id": "QYhoRfc3yE-l",
        "outputId": "51c99364-3893-43c6-a9e7-f4d38a284cc5"
      },
      "outputs": [
        {
          "data": {
            "text/plain": [
              "icon\n",
              "rain                 2621\n",
              "clear-day             737\n",
              "partly-cloudy-day     605\n",
              "Name: count, dtype: int64"
            ]
          },
          "execution_count": 505,
          "metadata": {},
          "output_type": "execute_result"
        }
      ],
      "source": [
        "df['icon'].value_counts()"
      ]
    },
    {
      "cell_type": "code",
      "execution_count": 506,
      "metadata": {
        "colab": {
          "base_uri": "https://localhost:8080/",
          "height": 931
        },
        "id": "k_mlouCi1lxH",
        "outputId": "19640818-38ba-4647-f25e-e46a08f6db1f"
      },
      "outputs": [
        {
          "data": {
            "text/plain": [
              "tempmax              float64\n",
              "tempmin              float64\n",
              "temp                 float64\n",
              "feelslikemax         float64\n",
              "feelslikemin         float64\n",
              "feelslike            float64\n",
              "dew                  float64\n",
              "humidity             float64\n",
              "precip               float64\n",
              "precipprob             int64\n",
              "precipcover          float64\n",
              "preciptype            object\n",
              "snow                   int64\n",
              "snowdepth            float64\n",
              "windgust             float64\n",
              "windspeed            float64\n",
              "winddir              float64\n",
              "sealevelpressure     float64\n",
              "cloudcover           float64\n",
              "visibility           float64\n",
              "solarradiation       float64\n",
              "solarenergy          float64\n",
              "uvindex                int64\n",
              "moonphase            float64\n",
              "conditions            object\n",
              "icon                  object\n",
              "categoryofweather     object\n",
              "dtype: object"
            ]
          },
          "execution_count": 506,
          "metadata": {},
          "output_type": "execute_result"
        }
      ],
      "source": [
        "df.dtypes"
      ]
    },
    {
      "cell_type": "code",
      "execution_count": 507,
      "metadata": {
        "id": "41ouMZGg1tXf"
      },
      "outputs": [],
      "source": [
        "from sklearn.preprocessing import LabelEncoder\n",
        "object_cols = df.select_dtypes(include='object').columns\n",
        "\n",
        "for col in object_cols:\n",
        "    le = LabelEncoder()\n",
        "    df[col] = le.fit_transform(df[col].astype(str))"
      ]
    },
    {
      "cell_type": "code",
      "execution_count": 508,
      "metadata": {},
      "outputs": [],
      "source": [
        "label_encoders = {}\n",
        "\n",
        "for col in object_cols:\n",
        "    le = LabelEncoder()\n",
        "    df[col] = le.fit_transform(df[col].astype(str))\n",
        "    label_encoders[col] = le"
      ]
    },
    {
      "cell_type": "markdown",
      "metadata": {
        "id": "yHNuOjwjxqOO"
      },
      "source": [
        "For predicting weather condition"
      ]
    },
    {
      "cell_type": "code",
      "execution_count": 509,
      "metadata": {
        "id": "6zf0EOTIjx0Z"
      },
      "outputs": [],
      "source": [
        "x = df.drop('conditions', axis=1)"
      ]
    },
    {
      "cell_type": "code",
      "execution_count": 510,
      "metadata": {
        "id": "3biGB_6Mjgvi"
      },
      "outputs": [],
      "source": [
        "y = df['conditions']"
      ]
    },
    {
      "cell_type": "code",
      "execution_count": 511,
      "metadata": {
        "id": "mdKDYUQ6mLQJ"
      },
      "outputs": [],
      "source": [
        "from sklearn.preprocessing import StandardScaler\n",
        "scaler = StandardScaler()\n",
        "x = scaler.fit_transform(x)"
      ]
    },
    {
      "cell_type": "code",
      "execution_count": 512,
      "metadata": {
        "id": "GbylPDhJmVr4"
      },
      "outputs": [],
      "source": [
        "from sklearn.model_selection import train_test_split\n",
        "x_train, x_test, y_train, y_test = train_test_split(x, y, test_size=0.2, random_state=42)"
      ]
    },
    {
      "cell_type": "code",
      "execution_count": 513,
      "metadata": {
        "colab": {
          "base_uri": "https://localhost:8080/"
        },
        "id": "ZOQjU8OhmdTI",
        "outputId": "529549d7-0a86-44de-b651-8b6a574a58da"
      },
      "outputs": [
        {
          "data": {
            "text/plain": [
              "((3170, 26), (793, 26))"
            ]
          },
          "execution_count": 513,
          "metadata": {},
          "output_type": "execute_result"
        }
      ],
      "source": [
        "x_train.shape, x_test.shape,"
      ]
    },
    {
      "cell_type": "code",
      "execution_count": 514,
      "metadata": {
        "id": "JneVjCP_mqSg"
      },
      "outputs": [],
      "source": [
        "from sklearn.tree import DecisionTreeClassifier\n",
        "dt_model = DecisionTreeClassifier()"
      ]
    },
    {
      "cell_type": "code",
      "execution_count": 515,
      "metadata": {
        "colab": {
          "base_uri": "https://localhost:8080/",
          "height": 80
        },
        "id": "Lv4NOx3znE85",
        "outputId": "d0b263cb-0ee6-4d4e-cc53-247816f8593a"
      },
      "outputs": [
        {
          "data": {
            "text/html": [
              "<style>#sk-container-id-6 {\n",
              "  /* Definition of color scheme common for light and dark mode */\n",
              "  --sklearn-color-text: #000;\n",
              "  --sklearn-color-text-muted: #666;\n",
              "  --sklearn-color-line: gray;\n",
              "  /* Definition of color scheme for unfitted estimators */\n",
              "  --sklearn-color-unfitted-level-0: #fff5e6;\n",
              "  --sklearn-color-unfitted-level-1: #f6e4d2;\n",
              "  --sklearn-color-unfitted-level-2: #ffe0b3;\n",
              "  --sklearn-color-unfitted-level-3: chocolate;\n",
              "  /* Definition of color scheme for fitted estimators */\n",
              "  --sklearn-color-fitted-level-0: #f0f8ff;\n",
              "  --sklearn-color-fitted-level-1: #d4ebff;\n",
              "  --sklearn-color-fitted-level-2: #b3dbfd;\n",
              "  --sklearn-color-fitted-level-3: cornflowerblue;\n",
              "\n",
              "  /* Specific color for light theme */\n",
              "  --sklearn-color-text-on-default-background: var(--sg-text-color, var(--theme-code-foreground, var(--jp-content-font-color1, black)));\n",
              "  --sklearn-color-background: var(--sg-background-color, var(--theme-background, var(--jp-layout-color0, white)));\n",
              "  --sklearn-color-border-box: var(--sg-text-color, var(--theme-code-foreground, var(--jp-content-font-color1, black)));\n",
              "  --sklearn-color-icon: #696969;\n",
              "\n",
              "  @media (prefers-color-scheme: dark) {\n",
              "    /* Redefinition of color scheme for dark theme */\n",
              "    --sklearn-color-text-on-default-background: var(--sg-text-color, var(--theme-code-foreground, var(--jp-content-font-color1, white)));\n",
              "    --sklearn-color-background: var(--sg-background-color, var(--theme-background, var(--jp-layout-color0, #111)));\n",
              "    --sklearn-color-border-box: var(--sg-text-color, var(--theme-code-foreground, var(--jp-content-font-color1, white)));\n",
              "    --sklearn-color-icon: #878787;\n",
              "  }\n",
              "}\n",
              "\n",
              "#sk-container-id-6 {\n",
              "  color: var(--sklearn-color-text);\n",
              "}\n",
              "\n",
              "#sk-container-id-6 pre {\n",
              "  padding: 0;\n",
              "}\n",
              "\n",
              "#sk-container-id-6 input.sk-hidden--visually {\n",
              "  border: 0;\n",
              "  clip: rect(1px 1px 1px 1px);\n",
              "  clip: rect(1px, 1px, 1px, 1px);\n",
              "  height: 1px;\n",
              "  margin: -1px;\n",
              "  overflow: hidden;\n",
              "  padding: 0;\n",
              "  position: absolute;\n",
              "  width: 1px;\n",
              "}\n",
              "\n",
              "#sk-container-id-6 div.sk-dashed-wrapped {\n",
              "  border: 1px dashed var(--sklearn-color-line);\n",
              "  margin: 0 0.4em 0.5em 0.4em;\n",
              "  box-sizing: border-box;\n",
              "  padding-bottom: 0.4em;\n",
              "  background-color: var(--sklearn-color-background);\n",
              "}\n",
              "\n",
              "#sk-container-id-6 div.sk-container {\n",
              "  /* jupyter's `normalize.less` sets `[hidden] { display: none; }`\n",
              "     but bootstrap.min.css set `[hidden] { display: none !important; }`\n",
              "     so we also need the `!important` here to be able to override the\n",
              "     default hidden behavior on the sphinx rendered scikit-learn.org.\n",
              "     See: https://github.com/scikit-learn/scikit-learn/issues/21755 */\n",
              "  display: inline-block !important;\n",
              "  position: relative;\n",
              "}\n",
              "\n",
              "#sk-container-id-6 div.sk-text-repr-fallback {\n",
              "  display: none;\n",
              "}\n",
              "\n",
              "div.sk-parallel-item,\n",
              "div.sk-serial,\n",
              "div.sk-item {\n",
              "  /* draw centered vertical line to link estimators */\n",
              "  background-image: linear-gradient(var(--sklearn-color-text-on-default-background), var(--sklearn-color-text-on-default-background));\n",
              "  background-size: 2px 100%;\n",
              "  background-repeat: no-repeat;\n",
              "  background-position: center center;\n",
              "}\n",
              "\n",
              "/* Parallel-specific style estimator block */\n",
              "\n",
              "#sk-container-id-6 div.sk-parallel-item::after {\n",
              "  content: \"\";\n",
              "  width: 100%;\n",
              "  border-bottom: 2px solid var(--sklearn-color-text-on-default-background);\n",
              "  flex-grow: 1;\n",
              "}\n",
              "\n",
              "#sk-container-id-6 div.sk-parallel {\n",
              "  display: flex;\n",
              "  align-items: stretch;\n",
              "  justify-content: center;\n",
              "  background-color: var(--sklearn-color-background);\n",
              "  position: relative;\n",
              "}\n",
              "\n",
              "#sk-container-id-6 div.sk-parallel-item {\n",
              "  display: flex;\n",
              "  flex-direction: column;\n",
              "}\n",
              "\n",
              "#sk-container-id-6 div.sk-parallel-item:first-child::after {\n",
              "  align-self: flex-end;\n",
              "  width: 50%;\n",
              "}\n",
              "\n",
              "#sk-container-id-6 div.sk-parallel-item:last-child::after {\n",
              "  align-self: flex-start;\n",
              "  width: 50%;\n",
              "}\n",
              "\n",
              "#sk-container-id-6 div.sk-parallel-item:only-child::after {\n",
              "  width: 0;\n",
              "}\n",
              "\n",
              "/* Serial-specific style estimator block */\n",
              "\n",
              "#sk-container-id-6 div.sk-serial {\n",
              "  display: flex;\n",
              "  flex-direction: column;\n",
              "  align-items: center;\n",
              "  background-color: var(--sklearn-color-background);\n",
              "  padding-right: 1em;\n",
              "  padding-left: 1em;\n",
              "}\n",
              "\n",
              "\n",
              "/* Toggleable style: style used for estimator/Pipeline/ColumnTransformer box that is\n",
              "clickable and can be expanded/collapsed.\n",
              "- Pipeline and ColumnTransformer use this feature and define the default style\n",
              "- Estimators will overwrite some part of the style using the `sk-estimator` class\n",
              "*/\n",
              "\n",
              "/* Pipeline and ColumnTransformer style (default) */\n",
              "\n",
              "#sk-container-id-6 div.sk-toggleable {\n",
              "  /* Default theme specific background. It is overwritten whether we have a\n",
              "  specific estimator or a Pipeline/ColumnTransformer */\n",
              "  background-color: var(--sklearn-color-background);\n",
              "}\n",
              "\n",
              "/* Toggleable label */\n",
              "#sk-container-id-6 label.sk-toggleable__label {\n",
              "  cursor: pointer;\n",
              "  display: flex;\n",
              "  width: 100%;\n",
              "  margin-bottom: 0;\n",
              "  padding: 0.5em;\n",
              "  box-sizing: border-box;\n",
              "  text-align: center;\n",
              "  align-items: start;\n",
              "  justify-content: space-between;\n",
              "  gap: 0.5em;\n",
              "}\n",
              "\n",
              "#sk-container-id-6 label.sk-toggleable__label .caption {\n",
              "  font-size: 0.6rem;\n",
              "  font-weight: lighter;\n",
              "  color: var(--sklearn-color-text-muted);\n",
              "}\n",
              "\n",
              "#sk-container-id-6 label.sk-toggleable__label-arrow:before {\n",
              "  /* Arrow on the left of the label */\n",
              "  content: \"▸\";\n",
              "  float: left;\n",
              "  margin-right: 0.25em;\n",
              "  color: var(--sklearn-color-icon);\n",
              "}\n",
              "\n",
              "#sk-container-id-6 label.sk-toggleable__label-arrow:hover:before {\n",
              "  color: var(--sklearn-color-text);\n",
              "}\n",
              "\n",
              "/* Toggleable content - dropdown */\n",
              "\n",
              "#sk-container-id-6 div.sk-toggleable__content {\n",
              "  display: none;\n",
              "  text-align: left;\n",
              "  /* unfitted */\n",
              "  background-color: var(--sklearn-color-unfitted-level-0);\n",
              "}\n",
              "\n",
              "#sk-container-id-6 div.sk-toggleable__content.fitted {\n",
              "  /* fitted */\n",
              "  background-color: var(--sklearn-color-fitted-level-0);\n",
              "}\n",
              "\n",
              "#sk-container-id-6 div.sk-toggleable__content pre {\n",
              "  margin: 0.2em;\n",
              "  border-radius: 0.25em;\n",
              "  color: var(--sklearn-color-text);\n",
              "  /* unfitted */\n",
              "  background-color: var(--sklearn-color-unfitted-level-0);\n",
              "}\n",
              "\n",
              "#sk-container-id-6 div.sk-toggleable__content.fitted pre {\n",
              "  /* unfitted */\n",
              "  background-color: var(--sklearn-color-fitted-level-0);\n",
              "}\n",
              "\n",
              "#sk-container-id-6 input.sk-toggleable__control:checked~div.sk-toggleable__content {\n",
              "  /* Expand drop-down */\n",
              "  display: block;\n",
              "  width: 100%;\n",
              "  overflow: visible;\n",
              "}\n",
              "\n",
              "#sk-container-id-6 input.sk-toggleable__control:checked~label.sk-toggleable__label-arrow:before {\n",
              "  content: \"▾\";\n",
              "}\n",
              "\n",
              "/* Pipeline/ColumnTransformer-specific style */\n",
              "\n",
              "#sk-container-id-6 div.sk-label input.sk-toggleable__control:checked~label.sk-toggleable__label {\n",
              "  color: var(--sklearn-color-text);\n",
              "  background-color: var(--sklearn-color-unfitted-level-2);\n",
              "}\n",
              "\n",
              "#sk-container-id-6 div.sk-label.fitted input.sk-toggleable__control:checked~label.sk-toggleable__label {\n",
              "  background-color: var(--sklearn-color-fitted-level-2);\n",
              "}\n",
              "\n",
              "/* Estimator-specific style */\n",
              "\n",
              "/* Colorize estimator box */\n",
              "#sk-container-id-6 div.sk-estimator input.sk-toggleable__control:checked~label.sk-toggleable__label {\n",
              "  /* unfitted */\n",
              "  background-color: var(--sklearn-color-unfitted-level-2);\n",
              "}\n",
              "\n",
              "#sk-container-id-6 div.sk-estimator.fitted input.sk-toggleable__control:checked~label.sk-toggleable__label {\n",
              "  /* fitted */\n",
              "  background-color: var(--sklearn-color-fitted-level-2);\n",
              "}\n",
              "\n",
              "#sk-container-id-6 div.sk-label label.sk-toggleable__label,\n",
              "#sk-container-id-6 div.sk-label label {\n",
              "  /* The background is the default theme color */\n",
              "  color: var(--sklearn-color-text-on-default-background);\n",
              "}\n",
              "\n",
              "/* On hover, darken the color of the background */\n",
              "#sk-container-id-6 div.sk-label:hover label.sk-toggleable__label {\n",
              "  color: var(--sklearn-color-text);\n",
              "  background-color: var(--sklearn-color-unfitted-level-2);\n",
              "}\n",
              "\n",
              "/* Label box, darken color on hover, fitted */\n",
              "#sk-container-id-6 div.sk-label.fitted:hover label.sk-toggleable__label.fitted {\n",
              "  color: var(--sklearn-color-text);\n",
              "  background-color: var(--sklearn-color-fitted-level-2);\n",
              "}\n",
              "\n",
              "/* Estimator label */\n",
              "\n",
              "#sk-container-id-6 div.sk-label label {\n",
              "  font-family: monospace;\n",
              "  font-weight: bold;\n",
              "  display: inline-block;\n",
              "  line-height: 1.2em;\n",
              "}\n",
              "\n",
              "#sk-container-id-6 div.sk-label-container {\n",
              "  text-align: center;\n",
              "}\n",
              "\n",
              "/* Estimator-specific */\n",
              "#sk-container-id-6 div.sk-estimator {\n",
              "  font-family: monospace;\n",
              "  border: 1px dotted var(--sklearn-color-border-box);\n",
              "  border-radius: 0.25em;\n",
              "  box-sizing: border-box;\n",
              "  margin-bottom: 0.5em;\n",
              "  /* unfitted */\n",
              "  background-color: var(--sklearn-color-unfitted-level-0);\n",
              "}\n",
              "\n",
              "#sk-container-id-6 div.sk-estimator.fitted {\n",
              "  /* fitted */\n",
              "  background-color: var(--sklearn-color-fitted-level-0);\n",
              "}\n",
              "\n",
              "/* on hover */\n",
              "#sk-container-id-6 div.sk-estimator:hover {\n",
              "  /* unfitted */\n",
              "  background-color: var(--sklearn-color-unfitted-level-2);\n",
              "}\n",
              "\n",
              "#sk-container-id-6 div.sk-estimator.fitted:hover {\n",
              "  /* fitted */\n",
              "  background-color: var(--sklearn-color-fitted-level-2);\n",
              "}\n",
              "\n",
              "/* Specification for estimator info (e.g. \"i\" and \"?\") */\n",
              "\n",
              "/* Common style for \"i\" and \"?\" */\n",
              "\n",
              ".sk-estimator-doc-link,\n",
              "a:link.sk-estimator-doc-link,\n",
              "a:visited.sk-estimator-doc-link {\n",
              "  float: right;\n",
              "  font-size: smaller;\n",
              "  line-height: 1em;\n",
              "  font-family: monospace;\n",
              "  background-color: var(--sklearn-color-background);\n",
              "  border-radius: 1em;\n",
              "  height: 1em;\n",
              "  width: 1em;\n",
              "  text-decoration: none !important;\n",
              "  margin-left: 0.5em;\n",
              "  text-align: center;\n",
              "  /* unfitted */\n",
              "  border: var(--sklearn-color-unfitted-level-1) 1pt solid;\n",
              "  color: var(--sklearn-color-unfitted-level-1);\n",
              "}\n",
              "\n",
              ".sk-estimator-doc-link.fitted,\n",
              "a:link.sk-estimator-doc-link.fitted,\n",
              "a:visited.sk-estimator-doc-link.fitted {\n",
              "  /* fitted */\n",
              "  border: var(--sklearn-color-fitted-level-1) 1pt solid;\n",
              "  color: var(--sklearn-color-fitted-level-1);\n",
              "}\n",
              "\n",
              "/* On hover */\n",
              "div.sk-estimator:hover .sk-estimator-doc-link:hover,\n",
              ".sk-estimator-doc-link:hover,\n",
              "div.sk-label-container:hover .sk-estimator-doc-link:hover,\n",
              ".sk-estimator-doc-link:hover {\n",
              "  /* unfitted */\n",
              "  background-color: var(--sklearn-color-unfitted-level-3);\n",
              "  color: var(--sklearn-color-background);\n",
              "  text-decoration: none;\n",
              "}\n",
              "\n",
              "div.sk-estimator.fitted:hover .sk-estimator-doc-link.fitted:hover,\n",
              ".sk-estimator-doc-link.fitted:hover,\n",
              "div.sk-label-container:hover .sk-estimator-doc-link.fitted:hover,\n",
              ".sk-estimator-doc-link.fitted:hover {\n",
              "  /* fitted */\n",
              "  background-color: var(--sklearn-color-fitted-level-3);\n",
              "  color: var(--sklearn-color-background);\n",
              "  text-decoration: none;\n",
              "}\n",
              "\n",
              "/* Span, style for the box shown on hovering the info icon */\n",
              ".sk-estimator-doc-link span {\n",
              "  display: none;\n",
              "  z-index: 9999;\n",
              "  position: relative;\n",
              "  font-weight: normal;\n",
              "  right: .2ex;\n",
              "  padding: .5ex;\n",
              "  margin: .5ex;\n",
              "  width: min-content;\n",
              "  min-width: 20ex;\n",
              "  max-width: 50ex;\n",
              "  color: var(--sklearn-color-text);\n",
              "  box-shadow: 2pt 2pt 4pt #999;\n",
              "  /* unfitted */\n",
              "  background: var(--sklearn-color-unfitted-level-0);\n",
              "  border: .5pt solid var(--sklearn-color-unfitted-level-3);\n",
              "}\n",
              "\n",
              ".sk-estimator-doc-link.fitted span {\n",
              "  /* fitted */\n",
              "  background: var(--sklearn-color-fitted-level-0);\n",
              "  border: var(--sklearn-color-fitted-level-3);\n",
              "}\n",
              "\n",
              ".sk-estimator-doc-link:hover span {\n",
              "  display: block;\n",
              "}\n",
              "\n",
              "/* \"?\"-specific style due to the `<a>` HTML tag */\n",
              "\n",
              "#sk-container-id-6 a.estimator_doc_link {\n",
              "  float: right;\n",
              "  font-size: 1rem;\n",
              "  line-height: 1em;\n",
              "  font-family: monospace;\n",
              "  background-color: var(--sklearn-color-background);\n",
              "  border-radius: 1rem;\n",
              "  height: 1rem;\n",
              "  width: 1rem;\n",
              "  text-decoration: none;\n",
              "  /* unfitted */\n",
              "  color: var(--sklearn-color-unfitted-level-1);\n",
              "  border: var(--sklearn-color-unfitted-level-1) 1pt solid;\n",
              "}\n",
              "\n",
              "#sk-container-id-6 a.estimator_doc_link.fitted {\n",
              "  /* fitted */\n",
              "  border: var(--sklearn-color-fitted-level-1) 1pt solid;\n",
              "  color: var(--sklearn-color-fitted-level-1);\n",
              "}\n",
              "\n",
              "/* On hover */\n",
              "#sk-container-id-6 a.estimator_doc_link:hover {\n",
              "  /* unfitted */\n",
              "  background-color: var(--sklearn-color-unfitted-level-3);\n",
              "  color: var(--sklearn-color-background);\n",
              "  text-decoration: none;\n",
              "}\n",
              "\n",
              "#sk-container-id-6 a.estimator_doc_link.fitted:hover {\n",
              "  /* fitted */\n",
              "  background-color: var(--sklearn-color-fitted-level-3);\n",
              "}\n",
              "\n",
              ".estimator-table summary {\n",
              "    padding: .5rem;\n",
              "    font-family: monospace;\n",
              "    cursor: pointer;\n",
              "}\n",
              "\n",
              ".estimator-table details[open] {\n",
              "    padding-left: 0.1rem;\n",
              "    padding-right: 0.1rem;\n",
              "    padding-bottom: 0.3rem;\n",
              "}\n",
              "\n",
              ".estimator-table .parameters-table {\n",
              "    margin-left: auto !important;\n",
              "    margin-right: auto !important;\n",
              "}\n",
              "\n",
              ".estimator-table .parameters-table tr:nth-child(odd) {\n",
              "    background-color: #fff;\n",
              "}\n",
              "\n",
              ".estimator-table .parameters-table tr:nth-child(even) {\n",
              "    background-color: #f6f6f6;\n",
              "}\n",
              "\n",
              ".estimator-table .parameters-table tr:hover {\n",
              "    background-color: #e0e0e0;\n",
              "}\n",
              "\n",
              ".estimator-table table td {\n",
              "    border: 1px solid rgba(106, 105, 104, 0.232);\n",
              "}\n",
              "\n",
              ".user-set td {\n",
              "    color:rgb(255, 94, 0);\n",
              "    text-align: left;\n",
              "}\n",
              "\n",
              ".user-set td.value pre {\n",
              "    color:rgb(255, 94, 0) !important;\n",
              "    background-color: transparent !important;\n",
              "}\n",
              "\n",
              ".default td {\n",
              "    color: black;\n",
              "    text-align: left;\n",
              "}\n",
              "\n",
              ".user-set td i,\n",
              ".default td i {\n",
              "    color: black;\n",
              "}\n",
              "\n",
              ".copy-paste-icon {\n",
              "    background-image: url(data:image/svg+xml;base64,PHN2ZyB4bWxucz0iaHR0cDovL3d3dy53My5vcmcvMjAwMC9zdmciIHZpZXdCb3g9IjAgMCA0NDggNTEyIj48IS0tIUZvbnQgQXdlc29tZSBGcmVlIDYuNy4yIGJ5IEBmb250YXdlc29tZSAtIGh0dHBzOi8vZm9udGF3ZXNvbWUuY29tIExpY2Vuc2UgLSBodHRwczovL2ZvbnRhd2Vzb21lLmNvbS9saWNlbnNlL2ZyZWUgQ29weXJpZ2h0IDIwMjUgRm9udGljb25zLCBJbmMuLS0+PHBhdGggZD0iTTIwOCAwTDMzMi4xIDBjMTIuNyAwIDI0LjkgNS4xIDMzLjkgMTQuMWw2Ny45IDY3LjljOSA5IDE0LjEgMjEuMiAxNC4xIDMzLjlMNDQ4IDMzNmMwIDI2LjUtMjEuNSA0OC00OCA0OGwtMTkyIDBjLTI2LjUgMC00OC0yMS41LTQ4LTQ4bDAtMjg4YzAtMjYuNSAyMS41LTQ4IDQ4LTQ4ek00OCAxMjhsODAgMCAwIDY0LTY0IDAgMCAyNTYgMTkyIDAgMC0zMiA2NCAwIDAgNDhjMCAyNi41LTIxLjUgNDgtNDggNDhMNDggNTEyYy0yNi41IDAtNDgtMjEuNS00OC00OEwwIDE3NmMwLTI2LjUgMjEuNS00OCA0OC00OHoiLz48L3N2Zz4=);\n",
              "    background-repeat: no-repeat;\n",
              "    background-size: 14px 14px;\n",
              "    background-position: 0;\n",
              "    display: inline-block;\n",
              "    width: 14px;\n",
              "    height: 14px;\n",
              "    cursor: pointer;\n",
              "}\n",
              "</style><body><div id=\"sk-container-id-6\" class=\"sk-top-container\"><div class=\"sk-text-repr-fallback\"><pre>DecisionTreeClassifier()</pre><b>In a Jupyter environment, please rerun this cell to show the HTML representation or trust the notebook. <br />On GitHub, the HTML representation is unable to render, please try loading this page with nbviewer.org.</b></div><div class=\"sk-container\" hidden><div class=\"sk-item\"><div class=\"sk-estimator fitted sk-toggleable\"><input class=\"sk-toggleable__control sk-hidden--visually\" id=\"sk-estimator-id-6\" type=\"checkbox\" checked><label for=\"sk-estimator-id-6\" class=\"sk-toggleable__label fitted sk-toggleable__label-arrow\"><div><div>DecisionTreeClassifier</div></div><div><a class=\"sk-estimator-doc-link fitted\" rel=\"noreferrer\" target=\"_blank\" href=\"https://scikit-learn.org/1.7/modules/generated/sklearn.tree.DecisionTreeClassifier.html\">?<span>Documentation for DecisionTreeClassifier</span></a><span class=\"sk-estimator-doc-link fitted\">i<span>Fitted</span></span></div></label><div class=\"sk-toggleable__content fitted\" data-param-prefix=\"\">\n",
              "        <div class=\"estimator-table\">\n",
              "            <details>\n",
              "                <summary>Parameters</summary>\n",
              "                <table class=\"parameters-table\">\n",
              "                  <tbody>\n",
              "                    \n",
              "        <tr class=\"default\">\n",
              "            <td><i class=\"copy-paste-icon\"\n",
              "                 onclick=\"copyToClipboard('criterion',\n",
              "                          this.parentElement.nextElementSibling)\"\n",
              "            ></i></td>\n",
              "            <td class=\"param\">criterion&nbsp;</td>\n",
              "            <td class=\"value\">&#x27;gini&#x27;</td>\n",
              "        </tr>\n",
              "    \n",
              "\n",
              "        <tr class=\"default\">\n",
              "            <td><i class=\"copy-paste-icon\"\n",
              "                 onclick=\"copyToClipboard('splitter',\n",
              "                          this.parentElement.nextElementSibling)\"\n",
              "            ></i></td>\n",
              "            <td class=\"param\">splitter&nbsp;</td>\n",
              "            <td class=\"value\">&#x27;best&#x27;</td>\n",
              "        </tr>\n",
              "    \n",
              "\n",
              "        <tr class=\"default\">\n",
              "            <td><i class=\"copy-paste-icon\"\n",
              "                 onclick=\"copyToClipboard('max_depth',\n",
              "                          this.parentElement.nextElementSibling)\"\n",
              "            ></i></td>\n",
              "            <td class=\"param\">max_depth&nbsp;</td>\n",
              "            <td class=\"value\">None</td>\n",
              "        </tr>\n",
              "    \n",
              "\n",
              "        <tr class=\"default\">\n",
              "            <td><i class=\"copy-paste-icon\"\n",
              "                 onclick=\"copyToClipboard('min_samples_split',\n",
              "                          this.parentElement.nextElementSibling)\"\n",
              "            ></i></td>\n",
              "            <td class=\"param\">min_samples_split&nbsp;</td>\n",
              "            <td class=\"value\">2</td>\n",
              "        </tr>\n",
              "    \n",
              "\n",
              "        <tr class=\"default\">\n",
              "            <td><i class=\"copy-paste-icon\"\n",
              "                 onclick=\"copyToClipboard('min_samples_leaf',\n",
              "                          this.parentElement.nextElementSibling)\"\n",
              "            ></i></td>\n",
              "            <td class=\"param\">min_samples_leaf&nbsp;</td>\n",
              "            <td class=\"value\">1</td>\n",
              "        </tr>\n",
              "    \n",
              "\n",
              "        <tr class=\"default\">\n",
              "            <td><i class=\"copy-paste-icon\"\n",
              "                 onclick=\"copyToClipboard('min_weight_fraction_leaf',\n",
              "                          this.parentElement.nextElementSibling)\"\n",
              "            ></i></td>\n",
              "            <td class=\"param\">min_weight_fraction_leaf&nbsp;</td>\n",
              "            <td class=\"value\">0.0</td>\n",
              "        </tr>\n",
              "    \n",
              "\n",
              "        <tr class=\"default\">\n",
              "            <td><i class=\"copy-paste-icon\"\n",
              "                 onclick=\"copyToClipboard('max_features',\n",
              "                          this.parentElement.nextElementSibling)\"\n",
              "            ></i></td>\n",
              "            <td class=\"param\">max_features&nbsp;</td>\n",
              "            <td class=\"value\">None</td>\n",
              "        </tr>\n",
              "    \n",
              "\n",
              "        <tr class=\"default\">\n",
              "            <td><i class=\"copy-paste-icon\"\n",
              "                 onclick=\"copyToClipboard('random_state',\n",
              "                          this.parentElement.nextElementSibling)\"\n",
              "            ></i></td>\n",
              "            <td class=\"param\">random_state&nbsp;</td>\n",
              "            <td class=\"value\">None</td>\n",
              "        </tr>\n",
              "    \n",
              "\n",
              "        <tr class=\"default\">\n",
              "            <td><i class=\"copy-paste-icon\"\n",
              "                 onclick=\"copyToClipboard('max_leaf_nodes',\n",
              "                          this.parentElement.nextElementSibling)\"\n",
              "            ></i></td>\n",
              "            <td class=\"param\">max_leaf_nodes&nbsp;</td>\n",
              "            <td class=\"value\">None</td>\n",
              "        </tr>\n",
              "    \n",
              "\n",
              "        <tr class=\"default\">\n",
              "            <td><i class=\"copy-paste-icon\"\n",
              "                 onclick=\"copyToClipboard('min_impurity_decrease',\n",
              "                          this.parentElement.nextElementSibling)\"\n",
              "            ></i></td>\n",
              "            <td class=\"param\">min_impurity_decrease&nbsp;</td>\n",
              "            <td class=\"value\">0.0</td>\n",
              "        </tr>\n",
              "    \n",
              "\n",
              "        <tr class=\"default\">\n",
              "            <td><i class=\"copy-paste-icon\"\n",
              "                 onclick=\"copyToClipboard('class_weight',\n",
              "                          this.parentElement.nextElementSibling)\"\n",
              "            ></i></td>\n",
              "            <td class=\"param\">class_weight&nbsp;</td>\n",
              "            <td class=\"value\">None</td>\n",
              "        </tr>\n",
              "    \n",
              "\n",
              "        <tr class=\"default\">\n",
              "            <td><i class=\"copy-paste-icon\"\n",
              "                 onclick=\"copyToClipboard('ccp_alpha',\n",
              "                          this.parentElement.nextElementSibling)\"\n",
              "            ></i></td>\n",
              "            <td class=\"param\">ccp_alpha&nbsp;</td>\n",
              "            <td class=\"value\">0.0</td>\n",
              "        </tr>\n",
              "    \n",
              "\n",
              "        <tr class=\"default\">\n",
              "            <td><i class=\"copy-paste-icon\"\n",
              "                 onclick=\"copyToClipboard('monotonic_cst',\n",
              "                          this.parentElement.nextElementSibling)\"\n",
              "            ></i></td>\n",
              "            <td class=\"param\">monotonic_cst&nbsp;</td>\n",
              "            <td class=\"value\">None</td>\n",
              "        </tr>\n",
              "    \n",
              "                  </tbody>\n",
              "                </table>\n",
              "            </details>\n",
              "        </div>\n",
              "    </div></div></div></div></div><script>function copyToClipboard(text, element) {\n",
              "    // Get the parameter prefix from the closest toggleable content\n",
              "    const toggleableContent = element.closest('.sk-toggleable__content');\n",
              "    const paramPrefix = toggleableContent ? toggleableContent.dataset.paramPrefix : '';\n",
              "    const fullParamName = paramPrefix ? `${paramPrefix}${text}` : text;\n",
              "\n",
              "    const originalStyle = element.style;\n",
              "    const computedStyle = window.getComputedStyle(element);\n",
              "    const originalWidth = computedStyle.width;\n",
              "    const originalHTML = element.innerHTML.replace('Copied!', '');\n",
              "\n",
              "    navigator.clipboard.writeText(fullParamName)\n",
              "        .then(() => {\n",
              "            element.style.width = originalWidth;\n",
              "            element.style.color = 'green';\n",
              "            element.innerHTML = \"Copied!\";\n",
              "\n",
              "            setTimeout(() => {\n",
              "                element.innerHTML = originalHTML;\n",
              "                element.style = originalStyle;\n",
              "            }, 2000);\n",
              "        })\n",
              "        .catch(err => {\n",
              "            console.error('Failed to copy:', err);\n",
              "            element.style.color = 'red';\n",
              "            element.innerHTML = \"Failed!\";\n",
              "            setTimeout(() => {\n",
              "                element.innerHTML = originalHTML;\n",
              "                element.style = originalStyle;\n",
              "            }, 2000);\n",
              "        });\n",
              "    return false;\n",
              "}\n",
              "\n",
              "document.querySelectorAll('.fa-regular.fa-copy').forEach(function(element) {\n",
              "    const toggleableContent = element.closest('.sk-toggleable__content');\n",
              "    const paramPrefix = toggleableContent ? toggleableContent.dataset.paramPrefix : '';\n",
              "    const paramName = element.parentElement.nextElementSibling.textContent.trim();\n",
              "    const fullParamName = paramPrefix ? `${paramPrefix}${paramName}` : paramName;\n",
              "\n",
              "    element.setAttribute('title', fullParamName);\n",
              "});\n",
              "</script></body>"
            ],
            "text/plain": [
              "DecisionTreeClassifier()"
            ]
          },
          "execution_count": 515,
          "metadata": {},
          "output_type": "execute_result"
        }
      ],
      "source": [
        "dt_model.fit(x_train, y_train)"
      ]
    },
    {
      "cell_type": "code",
      "execution_count": 516,
      "metadata": {
        "id": "6284rqRjnLL4"
      },
      "outputs": [],
      "source": [
        "y_pred_dt = dt_model.predict(x_test)"
      ]
    },
    {
      "cell_type": "code",
      "execution_count": 517,
      "metadata": {
        "id": "A7uQjhuanSjo"
      },
      "outputs": [],
      "source": [
        "from sklearn.metrics import accuracy_score, classification_report, confusion_matrix"
      ]
    },
    {
      "cell_type": "code",
      "execution_count": 518,
      "metadata": {
        "colab": {
          "base_uri": "https://localhost:8080/"
        },
        "id": "4FFsVRjVnZ1I",
        "outputId": "4b235148-7693-4966-e9c3-0718113b94a9"
      },
      "outputs": [
        {
          "data": {
            "text/plain": [
              "1.0"
            ]
          },
          "execution_count": 518,
          "metadata": {},
          "output_type": "execute_result"
        }
      ],
      "source": [
        "accuracy_score(y_test, y_pred_dt)"
      ]
    },
    {
      "cell_type": "code",
      "execution_count": 519,
      "metadata": {
        "colab": {
          "base_uri": "https://localhost:8080/",
          "height": 466
        },
        "id": "S8idW_JXneux",
        "outputId": "05396e0f-4774-456f-f57e-ecf88b669abb"
      },
      "outputs": [
        {
          "data": {
            "text/plain": [
              "Text(50.722222222222214, 0.5, 'Truth')"
            ]
          },
          "execution_count": 519,
          "metadata": {},
          "output_type": "execute_result"
        },
        {
          "data": {
            "image/png": "[encoded data removed]",
            "text/plain": [
              "<Figure size 640x480 with 2 Axes>"
            ]
          },
          "metadata": {},
          "output_type": "display_data"
        }
      ],
      "source": [
        "cm = confusion_matrix(y_test, y_pred_dt)\n",
        "sns.heatmap(cm, annot=True, fmt='d')\n",
        "plt.xlabel('Predicted')\n",
        "plt.ylabel('Truth')"
      ]
    },
    {
      "cell_type": "code",
      "execution_count": 520,
      "metadata": {
        "id": "ao7F7r5nsNNX"
      },
      "outputs": [],
      "source": [
        "from sklearn.tree import DecisionTreeClassifier\n",
        "from sklearn.ensemble import RandomForestClassifier\n",
        "from sklearn.svm import SVC\n",
        "from sklearn.neighbors import KNeighborsClassifier\n",
        "from sklearn.linear_model import LogisticRegression\n",
        "from sklearn.naive_bayes import GaussianNB"
      ]
    },
    {
      "cell_type": "code",
      "execution_count": 521,
      "metadata": {
        "id": "A5fzKTSKsQyf"
      },
      "outputs": [],
      "source": [
        "dt_model = DecisionTreeClassifier()\n",
        "rf_model = RandomForestClassifier()\n",
        "svc_model = SVC()\n",
        "knn_model = KNeighborsClassifier()\n",
        "lr_model =LogisticRegression()\n",
        "nb_model = GaussianNB()"
      ]
    },
    {
      "cell_type": "code",
      "execution_count": 522,
      "metadata": {
        "id": "dMX_Mvuasicn"
      },
      "outputs": [],
      "source": [
        "model_list = [dt_model, rf_model, svc_model,knn_model,lr_model,nb_model]"
      ]
    },
    {
      "cell_type": "code",
      "execution_count": 523,
      "metadata": {
        "id": "2sfkl6EtsuWu"
      },
      "outputs": [],
      "source": [
        "acc_list = []\n",
        "for model in model_list:\n",
        "    model.fit(x_train, y_train)\n",
        "    y_pred = model.predict(x_test)\n",
        "    acc = accuracy_score(y_test, y_pred)\n",
        "    acc_list.append(acc)"
      ]
    },
    {
      "cell_type": "code",
      "execution_count": 524,
      "metadata": {
        "colab": {
          "base_uri": "https://localhost:8080/"
        },
        "id": "YEuRNRiftsx3",
        "outputId": "2e9824a2-9d70-4c12-dc6e-fe0a69640e9e"
      },
      "outputs": [
        {
          "data": {
            "text/plain": [
              "[1.0,\n",
              " 0.9987389659520807,\n",
              " 0.9722572509457755,\n",
              " 0.905422446406053,\n",
              " 0.9911727616645649,\n",
              " 0.7692307692307693]"
            ]
          },
          "execution_count": 524,
          "metadata": {},
          "output_type": "execute_result"
        }
      ],
      "source": [
        "acc_list"
      ]
    },
    {
      "cell_type": "code",
      "execution_count": 525,
      "metadata": {
        "colab": {
          "base_uri": "https://localhost:8080/",
          "height": 238
        },
        "id": "n_MB5bHVtzEG",
        "outputId": "1af2c6e9-acb9-4d48-9b25-db06db88c0d0"
      },
      "outputs": [
        {
          "data": {
            "text/html": [
              "<div>\n",
              "<style scoped>\n",
              "    .dataframe tbody tr th:only-of-type {\n",
              "        vertical-align: middle;\n",
              "    }\n",
              "\n",
              "    .dataframe tbody tr th {\n",
              "        vertical-align: top;\n",
              "    }\n",
              "\n",
              "    .dataframe thead th {\n",
              "        text-align: right;\n",
              "    }\n",
              "</style>\n",
              "<table border=\"1\" class=\"dataframe\">\n",
              "  <thead>\n",
              "    <tr style=\"text-align: right;\">\n",
              "      <th></th>\n",
              "      <th>Model</th>\n",
              "      <th>Accuracy</th>\n",
              "    </tr>\n",
              "  </thead>\n",
              "  <tbody>\n",
              "    <tr>\n",
              "      <th>0</th>\n",
              "      <td>Decision Tree</td>\n",
              "      <td>1.000000</td>\n",
              "    </tr>\n",
              "    <tr>\n",
              "      <th>1</th>\n",
              "      <td>Random Forest</td>\n",
              "      <td>0.998739</td>\n",
              "    </tr>\n",
              "    <tr>\n",
              "      <th>2</th>\n",
              "      <td>SVC</td>\n",
              "      <td>0.972257</td>\n",
              "    </tr>\n",
              "    <tr>\n",
              "      <th>3</th>\n",
              "      <td>KNN</td>\n",
              "      <td>0.905422</td>\n",
              "    </tr>\n",
              "    <tr>\n",
              "      <th>4</th>\n",
              "      <td>Logistic Regression</td>\n",
              "      <td>0.991173</td>\n",
              "    </tr>\n",
              "    <tr>\n",
              "      <th>5</th>\n",
              "      <td>Naive Bayes</td>\n",
              "      <td>0.769231</td>\n",
              "    </tr>\n",
              "  </tbody>\n",
              "</table>\n",
              "</div>"
            ],
            "text/plain": [
              "                 Model  Accuracy\n",
              "0        Decision Tree  1.000000\n",
              "1        Random Forest  0.998739\n",
              "2                  SVC  0.972257\n",
              "3                  KNN  0.905422\n",
              "4  Logistic Regression  0.991173\n",
              "5          Naive Bayes  0.769231"
            ]
          },
          "execution_count": 525,
          "metadata": {},
          "output_type": "execute_result"
        }
      ],
      "source": [
        "model_df = pd.DataFrame({'Model': ['Decision Tree', 'Random Forest', 'SVC', 'KNN', 'Logistic Regression', 'Naive Bayes'], 'Accuracy': acc_list})\n",
        "model_df"
      ]
    },
    {
      "cell_type": "code",
      "execution_count": 526,
      "metadata": {
        "colab": {
          "base_uri": "https://localhost:8080/"
        },
        "id": "MIv0Fk6RuNin",
        "outputId": "bc4519e0-4a5e-48cd-b8e9-ac3744de5dad"
      },
      "outputs": [
        {
          "name": "stdout",
          "output_type": "stream",
          "text": [
            "Cross Validation Score =  [0.99747793 1.         1.         0.99873737 0.99621212]\n"
          ]
        }
      ],
      "source": [
        "from sklearn.model_selection import cross_val_score\n",
        "scores = cross_val_score(rf_model, x, y, cv=5)\n",
        "print('Cross Validation Score = ', scores)"
      ]
    },
    {
      "cell_type": "markdown",
      "metadata": {
        "id": "a9_c2Ae6xW3W"
      },
      "source": [
        "For predicting temperature"
      ]
    },
    {
      "cell_type": "code",
      "execution_count": 527,
      "metadata": {
        "id": "AoLtp7q729dG"
      },
      "outputs": [],
      "source": [
        "df['templag1'] = df['temp'].shift(-1)"
      ]
    },
    {
      "cell_type": "code",
      "execution_count": 528,
      "metadata": {
        "id": "X0-T1Ycj2-rV"
      },
      "outputs": [],
      "source": [
        "df = df.ffill()"
      ]
    },
    {
      "cell_type": "code",
      "execution_count": 529,
      "metadata": {
        "id": "FBPNT2dow7fH"
      },
      "outputs": [],
      "source": [
        "from sklearn.linear_model import Ridge\n",
        "rr = Ridge(alpha=0.01)\n",
        "rr.fit(x_train, y_train)\n",
        "y_pred_rr = rr.predict(x_test)"
      ]
    },
    {
      "cell_type": "code",
      "execution_count": 530,
      "metadata": {
        "id": "DwZrwlDexPq_"
      },
      "outputs": [],
      "source": [
        "predictors = df.columns[~df.columns.isin(['templag1'])]"
      ]
    },
    {
      "cell_type": "code",
      "execution_count": 531,
      "metadata": {
        "id": "aKhnkDqHzdm2"
      },
      "outputs": [],
      "source": [
        "def backtest(df, model, predictors, start=50, step=10):\n",
        "    all_predictions = []\n",
        "    for i in range(start, df.shape[0], step):\n",
        "        train = df.iloc[:i,:]\n",
        "        test = df.iloc[i:(i+step):]\n",
        "\n",
        "        model.fit(train[predictors], train['templag1'])\n",
        "\n",
        "        preds = model.predict(test[predictors])\n",
        "        preds = pd.Series(preds, index=test.index)\n",
        "\n",
        "        combined = pd.concat([test['templag1'], preds], axis=1)\n",
        "        combined.columns = ['templag1','predictions']\n",
        "\n",
        "        combined[\"difference\"] = (combined['predictions'] - combined['templag1']).abs()\n",
        "\n",
        "        all_predictions.append(combined)\n",
        "    return pd.concat(all_predictions)"
      ]
    },
    {
      "cell_type": "code",
      "execution_count": 532,
      "metadata": {
        "id": "BGWGoLf7zhVF"
      },
      "outputs": [],
      "source": [
        "predictions = backtest(df, rr, predictors)"
      ]
    },
    {
      "cell_type": "code",
      "execution_count": 533,
      "metadata": {
        "colab": {
          "base_uri": "https://localhost:8080/",
          "height": 455
        },
        "id": "CgtWMvbp3aPV",
        "outputId": "bc44e374-0b7d-40f5-a0e4-c1f4dbd88f69"
      },
      "outputs": [
        {
          "data": {
            "text/html": [
              "<div>\n",
              "<style scoped>\n",
              "    .dataframe tbody tr th:only-of-type {\n",
              "        vertical-align: middle;\n",
              "    }\n",
              "\n",
              "    .dataframe tbody tr th {\n",
              "        vertical-align: top;\n",
              "    }\n",
              "\n",
              "    .dataframe thead th {\n",
              "        text-align: right;\n",
              "    }\n",
              "</style>\n",
              "<table border=\"1\" class=\"dataframe\">\n",
              "  <thead>\n",
              "    <tr style=\"text-align: right;\">\n",
              "      <th></th>\n",
              "      <th>templag1</th>\n",
              "      <th>predictions</th>\n",
              "      <th>difference</th>\n",
              "    </tr>\n",
              "    <tr>\n",
              "      <th>datetime</th>\n",
              "      <th></th>\n",
              "      <th></th>\n",
              "      <th></th>\n",
              "    </tr>\n",
              "  </thead>\n",
              "  <tbody>\n",
              "    <tr>\n",
              "      <th>2022-06-20</th>\n",
              "      <td>25.4</td>\n",
              "      <td>25.992697</td>\n",
              "      <td>0.592697</td>\n",
              "    </tr>\n",
              "    <tr>\n",
              "      <th>2022-06-21</th>\n",
              "      <td>26.0</td>\n",
              "      <td>25.286198</td>\n",
              "      <td>0.713802</td>\n",
              "    </tr>\n",
              "    <tr>\n",
              "      <th>2022-06-22</th>\n",
              "      <td>26.3</td>\n",
              "      <td>26.408797</td>\n",
              "      <td>0.108797</td>\n",
              "    </tr>\n",
              "    <tr>\n",
              "      <th>2022-06-23</th>\n",
              "      <td>26.2</td>\n",
              "      <td>25.549304</td>\n",
              "      <td>0.650696</td>\n",
              "    </tr>\n",
              "    <tr>\n",
              "      <th>2022-06-24</th>\n",
              "      <td>26.7</td>\n",
              "      <td>26.348482</td>\n",
              "      <td>0.351518</td>\n",
              "    </tr>\n",
              "    <tr>\n",
              "      <th>...</th>\n",
              "      <td>...</td>\n",
              "      <td>...</td>\n",
              "      <td>...</td>\n",
              "    </tr>\n",
              "    <tr>\n",
              "      <th>2016-12-06</th>\n",
              "      <td>20.9</td>\n",
              "      <td>20.363057</td>\n",
              "      <td>0.536943</td>\n",
              "    </tr>\n",
              "    <tr>\n",
              "      <th>2016-12-07</th>\n",
              "      <td>20.5</td>\n",
              "      <td>20.692799</td>\n",
              "      <td>0.192799</td>\n",
              "    </tr>\n",
              "    <tr>\n",
              "      <th>2016-12-08</th>\n",
              "      <td>19.4</td>\n",
              "      <td>20.363111</td>\n",
              "      <td>0.963111</td>\n",
              "    </tr>\n",
              "    <tr>\n",
              "      <th>2016-12-09</th>\n",
              "      <td>19.6</td>\n",
              "      <td>19.378746</td>\n",
              "      <td>0.221254</td>\n",
              "    </tr>\n",
              "    <tr>\n",
              "      <th>2016-12-10</th>\n",
              "      <td>19.6</td>\n",
              "      <td>19.520963</td>\n",
              "      <td>0.079037</td>\n",
              "    </tr>\n",
              "  </tbody>\n",
              "</table>\n",
              "<p>3913 rows × 3 columns</p>\n",
              "</div>"
            ],
            "text/plain": [
              "            templag1  predictions  difference\n",
              "datetime                                     \n",
              "2022-06-20      25.4    25.992697    0.592697\n",
              "2022-06-21      26.0    25.286198    0.713802\n",
              "2022-06-22      26.3    26.408797    0.108797\n",
              "2022-06-23      26.2    25.549304    0.650696\n",
              "2022-06-24      26.7    26.348482    0.351518\n",
              "...              ...          ...         ...\n",
              "2016-12-06      20.9    20.363057    0.536943\n",
              "2016-12-07      20.5    20.692799    0.192799\n",
              "2016-12-08      19.4    20.363111    0.963111\n",
              "2016-12-09      19.6    19.378746    0.221254\n",
              "2016-12-10      19.6    19.520963    0.079037\n",
              "\n",
              "[3913 rows x 3 columns]"
            ]
          },
          "execution_count": 533,
          "metadata": {},
          "output_type": "execute_result"
        }
      ],
      "source": [
        "predictions"
      ]
    },
    {
      "cell_type": "code",
      "execution_count": 534,
      "metadata": {
        "colab": {
          "base_uri": "https://localhost:8080/"
        },
        "id": "VjuuA44Y3nB8",
        "outputId": "16f87a5a-6401-41f2-a281-945f4f4c2f03"
      },
      "outputs": [
        {
          "data": {
            "text/plain": [
              "0.754356605443607"
            ]
          },
          "execution_count": 534,
          "metadata": {},
          "output_type": "execute_result"
        }
      ],
      "source": [
        "from sklearn.metrics import mean_absolute_error\n",
        "mean_absolute_error(predictions['templag1'], predictions['predictions'])"
      ]
    },
    {
      "cell_type": "code",
      "execution_count": 535,
      "metadata": {
        "colab": {
          "base_uri": "https://localhost:8080/",
          "height": 455
        },
        "id": "uNzth9qsDc_6",
        "outputId": "4ad94210-2c2b-44d9-a881-2b04f55eff3f"
      },
      "outputs": [
        {
          "data": {
            "text/html": [
              "<div>\n",
              "<style scoped>\n",
              "    .dataframe tbody tr th:only-of-type {\n",
              "        vertical-align: middle;\n",
              "    }\n",
              "\n",
              "    .dataframe tbody tr th {\n",
              "        vertical-align: top;\n",
              "    }\n",
              "\n",
              "    .dataframe thead th {\n",
              "        text-align: right;\n",
              "    }\n",
              "</style>\n",
              "<table border=\"1\" class=\"dataframe\">\n",
              "  <thead>\n",
              "    <tr style=\"text-align: right;\">\n",
              "      <th></th>\n",
              "      <th>templag1</th>\n",
              "      <th>predictions</th>\n",
              "      <th>difference</th>\n",
              "    </tr>\n",
              "    <tr>\n",
              "      <th>datetime</th>\n",
              "      <th></th>\n",
              "      <th></th>\n",
              "      <th></th>\n",
              "    </tr>\n",
              "  </thead>\n",
              "  <tbody>\n",
              "    <tr>\n",
              "      <th>2025-01-07</th>\n",
              "      <td>18.1</td>\n",
              "      <td>72.873715</td>\n",
              "      <td>54.773715</td>\n",
              "    </tr>\n",
              "    <tr>\n",
              "      <th>2025-01-23</th>\n",
              "      <td>29.0</td>\n",
              "      <td>18.037536</td>\n",
              "      <td>10.962464</td>\n",
              "    </tr>\n",
              "    <tr>\n",
              "      <th>2022-04-30</th>\n",
              "      <td>18.5</td>\n",
              "      <td>24.486968</td>\n",
              "      <td>5.986968</td>\n",
              "    </tr>\n",
              "    <tr>\n",
              "      <th>2019-09-04</th>\n",
              "      <td>23.3</td>\n",
              "      <td>28.857289</td>\n",
              "      <td>5.557289</td>\n",
              "    </tr>\n",
              "    <tr>\n",
              "      <th>2022-10-02</th>\n",
              "      <td>26.0</td>\n",
              "      <td>31.095831</td>\n",
              "      <td>5.095831</td>\n",
              "    </tr>\n",
              "    <tr>\n",
              "      <th>...</th>\n",
              "      <td>...</td>\n",
              "      <td>...</td>\n",
              "      <td>...</td>\n",
              "    </tr>\n",
              "    <tr>\n",
              "      <th>2023-04-12</th>\n",
              "      <td>27.0</td>\n",
              "      <td>27.001755</td>\n",
              "      <td>0.001755</td>\n",
              "    </tr>\n",
              "    <tr>\n",
              "      <th>2022-03-04</th>\n",
              "      <td>19.5</td>\n",
              "      <td>19.501746</td>\n",
              "      <td>0.001746</td>\n",
              "    </tr>\n",
              "    <tr>\n",
              "      <th>2015-06-23</th>\n",
              "      <td>26.9</td>\n",
              "      <td>26.898944</td>\n",
              "      <td>0.001056</td>\n",
              "    </tr>\n",
              "    <tr>\n",
              "      <th>2024-07-22</th>\n",
              "      <td>27.2</td>\n",
              "      <td>27.199568</td>\n",
              "      <td>0.000432</td>\n",
              "    </tr>\n",
              "    <tr>\n",
              "      <th>2016-09-30</th>\n",
              "      <td>28.5</td>\n",
              "      <td>28.499610</td>\n",
              "      <td>0.000390</td>\n",
              "    </tr>\n",
              "  </tbody>\n",
              "</table>\n",
              "<p>3913 rows × 3 columns</p>\n",
              "</div>"
            ],
            "text/plain": [
              "            templag1  predictions  difference\n",
              "datetime                                     \n",
              "2025-01-07      18.1    72.873715   54.773715\n",
              "2025-01-23      29.0    18.037536   10.962464\n",
              "2022-04-30      18.5    24.486968    5.986968\n",
              "2019-09-04      23.3    28.857289    5.557289\n",
              "2022-10-02      26.0    31.095831    5.095831\n",
              "...              ...          ...         ...\n",
              "2023-04-12      27.0    27.001755    0.001755\n",
              "2022-03-04      19.5    19.501746    0.001746\n",
              "2015-06-23      26.9    26.898944    0.001056\n",
              "2024-07-22      27.2    27.199568    0.000432\n",
              "2016-09-30      28.5    28.499610    0.000390\n",
              "\n",
              "[3913 rows x 3 columns]"
            ]
          },
          "execution_count": 535,
          "metadata": {},
          "output_type": "execute_result"
        }
      ],
      "source": [
        "predictions.sort_values(\"difference\", ascending=False)"
      ]
    },
    {
      "cell_type": "code",
      "execution_count": 536,
      "metadata": {
        "colab": {
          "base_uri": "https://localhost:8080/"
        },
        "id": "JYf7hJkV4g30",
        "outputId": "49a6f56e-8e1f-4217-80c9-473398f4d4d9"
      },
      "outputs": [
        {
          "name": "stderr",
          "output_type": "stream",
          "text": [
            "C:\\Users\\USER\\AppData\\Local\\Temp\\ipykernel_22112\\3978505547.py:7: PerformanceWarning: DataFrame is highly fragmented.  This is usually the result of calling `frame.insert` many times, which has poor performance.  Consider joining all columns at once using pd.concat(axis=1) instead. To get a de-fragmented frame, use `newframe = frame.copy()`\n",
            "  df[label] = df[col].rolling(horizon).mean()\n",
            "C:\\Users\\USER\\AppData\\Local\\Temp\\ipykernel_22112\\3978505547.py:8: PerformanceWarning: DataFrame is highly fragmented.  This is usually the result of calling `frame.insert` many times, which has poor performance.  Consider joining all columns at once using pd.concat(axis=1) instead. To get a de-fragmented frame, use `newframe = frame.copy()`\n",
            "  df[f\"{label}_pct\"] = pct_diff(df[label], df[col])\n",
            "C:\\Users\\USER\\AppData\\Local\\Temp\\ipykernel_22112\\3978505547.py:7: PerformanceWarning: DataFrame is highly fragmented.  This is usually the result of calling `frame.insert` many times, which has poor performance.  Consider joining all columns at once using pd.concat(axis=1) instead. To get a de-fragmented frame, use `newframe = frame.copy()`\n",
            "  df[label] = df[col].rolling(horizon).mean()\n",
            "C:\\Users\\USER\\AppData\\Local\\Temp\\ipykernel_22112\\3978505547.py:8: PerformanceWarning: DataFrame is highly fragmented.  This is usually the result of calling `frame.insert` many times, which has poor performance.  Consider joining all columns at once using pd.concat(axis=1) instead. To get a de-fragmented frame, use `newframe = frame.copy()`\n",
            "  df[f\"{label}_pct\"] = pct_diff(df[label], df[col])\n",
            "C:\\Users\\USER\\AppData\\Local\\Temp\\ipykernel_22112\\3978505547.py:7: PerformanceWarning: DataFrame is highly fragmented.  This is usually the result of calling `frame.insert` many times, which has poor performance.  Consider joining all columns at once using pd.concat(axis=1) instead. To get a de-fragmented frame, use `newframe = frame.copy()`\n",
            "  df[label] = df[col].rolling(horizon).mean()\n",
            "C:\\Users\\USER\\AppData\\Local\\Temp\\ipykernel_22112\\3978505547.py:8: PerformanceWarning: DataFrame is highly fragmented.  This is usually the result of calling `frame.insert` many times, which has poor performance.  Consider joining all columns at once using pd.concat(axis=1) instead. To get a de-fragmented frame, use `newframe = frame.copy()`\n",
            "  df[f\"{label}_pct\"] = pct_diff(df[label], df[col])\n",
            "C:\\Users\\USER\\AppData\\Local\\Temp\\ipykernel_22112\\3978505547.py:7: PerformanceWarning: DataFrame is highly fragmented.  This is usually the result of calling `frame.insert` many times, which has poor performance.  Consider joining all columns at once using pd.concat(axis=1) instead. To get a de-fragmented frame, use `newframe = frame.copy()`\n",
            "  df[label] = df[col].rolling(horizon).mean()\n",
            "C:\\Users\\USER\\AppData\\Local\\Temp\\ipykernel_22112\\3978505547.py:8: PerformanceWarning: DataFrame is highly fragmented.  This is usually the result of calling `frame.insert` many times, which has poor performance.  Consider joining all columns at once using pd.concat(axis=1) instead. To get a de-fragmented frame, use `newframe = frame.copy()`\n",
            "  df[f\"{label}_pct\"] = pct_diff(df[label], df[col])\n",
            "C:\\Users\\USER\\AppData\\Local\\Temp\\ipykernel_22112\\3978505547.py:7: PerformanceWarning: DataFrame is highly fragmented.  This is usually the result of calling `frame.insert` many times, which has poor performance.  Consider joining all columns at once using pd.concat(axis=1) instead. To get a de-fragmented frame, use `newframe = frame.copy()`\n",
            "  df[label] = df[col].rolling(horizon).mean()\n",
            "C:\\Users\\USER\\AppData\\Local\\Temp\\ipykernel_22112\\3978505547.py:8: PerformanceWarning: DataFrame is highly fragmented.  This is usually the result of calling `frame.insert` many times, which has poor performance.  Consider joining all columns at once using pd.concat(axis=1) instead. To get a de-fragmented frame, use `newframe = frame.copy()`\n",
            "  df[f\"{label}_pct\"] = pct_diff(df[label], df[col])\n",
            "C:\\Users\\USER\\AppData\\Local\\Temp\\ipykernel_22112\\3978505547.py:7: PerformanceWarning: DataFrame is highly fragmented.  This is usually the result of calling `frame.insert` many times, which has poor performance.  Consider joining all columns at once using pd.concat(axis=1) instead. To get a de-fragmented frame, use `newframe = frame.copy()`\n",
            "  df[label] = df[col].rolling(horizon).mean()\n",
            "C:\\Users\\USER\\AppData\\Local\\Temp\\ipykernel_22112\\3978505547.py:8: PerformanceWarning: DataFrame is highly fragmented.  This is usually the result of calling `frame.insert` many times, which has poor performance.  Consider joining all columns at once using pd.concat(axis=1) instead. To get a de-fragmented frame, use `newframe = frame.copy()`\n",
            "  df[f\"{label}_pct\"] = pct_diff(df[label], df[col])\n",
            "C:\\Users\\USER\\AppData\\Local\\Temp\\ipykernel_22112\\3978505547.py:7: PerformanceWarning: DataFrame is highly fragmented.  This is usually the result of calling `frame.insert` many times, which has poor performance.  Consider joining all columns at once using pd.concat(axis=1) instead. To get a de-fragmented frame, use `newframe = frame.copy()`\n",
            "  df[label] = df[col].rolling(horizon).mean()\n",
            "C:\\Users\\USER\\AppData\\Local\\Temp\\ipykernel_22112\\3978505547.py:8: PerformanceWarning: DataFrame is highly fragmented.  This is usually the result of calling `frame.insert` many times, which has poor performance.  Consider joining all columns at once using pd.concat(axis=1) instead. To get a de-fragmented frame, use `newframe = frame.copy()`\n",
            "  df[f\"{label}_pct\"] = pct_diff(df[label], df[col])\n",
            "C:\\Users\\USER\\AppData\\Local\\Temp\\ipykernel_22112\\3978505547.py:7: PerformanceWarning: DataFrame is highly fragmented.  This is usually the result of calling `frame.insert` many times, which has poor performance.  Consider joining all columns at once using pd.concat(axis=1) instead. To get a de-fragmented frame, use `newframe = frame.copy()`\n",
            "  df[label] = df[col].rolling(horizon).mean()\n",
            "C:\\Users\\USER\\AppData\\Local\\Temp\\ipykernel_22112\\3978505547.py:8: PerformanceWarning: DataFrame is highly fragmented.  This is usually the result of calling `frame.insert` many times, which has poor performance.  Consider joining all columns at once using pd.concat(axis=1) instead. To get a de-fragmented frame, use `newframe = frame.copy()`\n",
            "  df[f\"{label}_pct\"] = pct_diff(df[label], df[col])\n",
            "C:\\Users\\USER\\AppData\\Local\\Temp\\ipykernel_22112\\3978505547.py:7: PerformanceWarning: DataFrame is highly fragmented.  This is usually the result of calling `frame.insert` many times, which has poor performance.  Consider joining all columns at once using pd.concat(axis=1) instead. To get a de-fragmented frame, use `newframe = frame.copy()`\n",
            "  df[label] = df[col].rolling(horizon).mean()\n",
            "C:\\Users\\USER\\AppData\\Local\\Temp\\ipykernel_22112\\3978505547.py:8: PerformanceWarning: DataFrame is highly fragmented.  This is usually the result of calling `frame.insert` many times, which has poor performance.  Consider joining all columns at once using pd.concat(axis=1) instead. To get a de-fragmented frame, use `newframe = frame.copy()`\n",
            "  df[f\"{label}_pct\"] = pct_diff(df[label], df[col])\n",
            "C:\\Users\\USER\\AppData\\Local\\Temp\\ipykernel_22112\\3978505547.py:7: PerformanceWarning: DataFrame is highly fragmented.  This is usually the result of calling `frame.insert` many times, which has poor performance.  Consider joining all columns at once using pd.concat(axis=1) instead. To get a de-fragmented frame, use `newframe = frame.copy()`\n",
            "  df[label] = df[col].rolling(horizon).mean()\n",
            "C:\\Users\\USER\\AppData\\Local\\Temp\\ipykernel_22112\\3978505547.py:8: PerformanceWarning: DataFrame is highly fragmented.  This is usually the result of calling `frame.insert` many times, which has poor performance.  Consider joining all columns at once using pd.concat(axis=1) instead. To get a de-fragmented frame, use `newframe = frame.copy()`\n",
            "  df[f\"{label}_pct\"] = pct_diff(df[label], df[col])\n",
            "C:\\Users\\USER\\AppData\\Local\\Temp\\ipykernel_22112\\3978505547.py:7: PerformanceWarning: DataFrame is highly fragmented.  This is usually the result of calling `frame.insert` many times, which has poor performance.  Consider joining all columns at once using pd.concat(axis=1) instead. To get a de-fragmented frame, use `newframe = frame.copy()`\n",
            "  df[label] = df[col].rolling(horizon).mean()\n",
            "C:\\Users\\USER\\AppData\\Local\\Temp\\ipykernel_22112\\3978505547.py:8: PerformanceWarning: DataFrame is highly fragmented.  This is usually the result of calling `frame.insert` many times, which has poor performance.  Consider joining all columns at once using pd.concat(axis=1) instead. To get a de-fragmented frame, use `newframe = frame.copy()`\n",
            "  df[f\"{label}_pct\"] = pct_diff(df[label], df[col])\n"
          ]
        }
      ],
      "source": [
        "def pct_diff(old, new):\n",
        "  return (new-old)/old\n",
        "\n",
        "def compute_rolling(df, horizon, col):\n",
        "  label = f\"rolling_{horizon}_{col}\"\n",
        "\n",
        "  df[label] = df[col].rolling(horizon).mean()\n",
        "  df[f\"{label}_pct\"] = pct_diff(df[label], df[col])\n",
        "  return df\n",
        "\n",
        "rolling_horizons = [3, 7]\n",
        "for horizon in rolling_horizons:\n",
        "  for col in ['tempmax', 'tempmin','temp', 'feelslikemax', 'feelslikemin', 'feelslike', 'dew',\n",
        "              'humidity', 'precip', 'precipprob', 'precipcover', 'preciptype', 'snow', 'snowdepth', 'windgust', 'windspeed',\n",
        "              'winddir', 'sealevelpressure', 'cloudcover', 'visibility', 'solarradiation', 'solarenergy', 'uvindex',\n",
        "              'moonphase', 'conditions','icon', 'categoryofweather']:\n",
        "    df = compute_rolling(df, horizon, col)\n"
      ]
    },
    {
      "cell_type": "code",
      "execution_count": 537,
      "metadata": {
        "colab": {
          "base_uri": "https://localhost:8080/",
          "height": 649
        },
        "id": "ggTetLAZ8Tok",
        "outputId": "8c415586-1b31-477d-f47c-b6f48c06a083"
      },
      "outputs": [
        {
          "data": {
            "text/html": [
              "<div>\n",
              "<style scoped>\n",
              "    .dataframe tbody tr th:only-of-type {\n",
              "        vertical-align: middle;\n",
              "    }\n",
              "\n",
              "    .dataframe tbody tr th {\n",
              "        vertical-align: top;\n",
              "    }\n",
              "\n",
              "    .dataframe thead th {\n",
              "        text-align: right;\n",
              "    }\n",
              "</style>\n",
              "<table border=\"1\" class=\"dataframe\">\n",
              "  <thead>\n",
              "    <tr style=\"text-align: right;\">\n",
              "      <th></th>\n",
              "      <th>tempmax</th>\n",
              "      <th>tempmin</th>\n",
              "      <th>temp</th>\n",
              "      <th>feelslikemax</th>\n",
              "      <th>feelslikemin</th>\n",
              "      <th>feelslike</th>\n",
              "      <th>dew</th>\n",
              "      <th>humidity</th>\n",
              "      <th>precip</th>\n",
              "      <th>precipprob</th>\n",
              "      <th>...</th>\n",
              "      <th>rolling_7_uvindex</th>\n",
              "      <th>rolling_7_uvindex_pct</th>\n",
              "      <th>rolling_7_moonphase</th>\n",
              "      <th>rolling_7_moonphase_pct</th>\n",
              "      <th>rolling_7_conditions</th>\n",
              "      <th>rolling_7_conditions_pct</th>\n",
              "      <th>rolling_7_icon</th>\n",
              "      <th>rolling_7_icon_pct</th>\n",
              "      <th>rolling_7_categoryofweather</th>\n",
              "      <th>rolling_7_categoryofweather_pct</th>\n",
              "    </tr>\n",
              "    <tr>\n",
              "      <th>datetime</th>\n",
              "      <th></th>\n",
              "      <th></th>\n",
              "      <th></th>\n",
              "      <th></th>\n",
              "      <th></th>\n",
              "      <th></th>\n",
              "      <th></th>\n",
              "      <th></th>\n",
              "      <th></th>\n",
              "      <th></th>\n",
              "      <th></th>\n",
              "      <th></th>\n",
              "      <th></th>\n",
              "      <th></th>\n",
              "      <th></th>\n",
              "      <th></th>\n",
              "      <th></th>\n",
              "      <th></th>\n",
              "      <th></th>\n",
              "      <th></th>\n",
              "      <th></th>\n",
              "    </tr>\n",
              "  </thead>\n",
              "  <tbody>\n",
              "    <tr>\n",
              "      <th>2022-05-01</th>\n",
              "      <td>29.5</td>\n",
              "      <td>15.4</td>\n",
              "      <td>24.6</td>\n",
              "      <td>33.1</td>\n",
              "      <td>15.4</td>\n",
              "      <td>25.6</td>\n",
              "      <td>21.5</td>\n",
              "      <td>83.5</td>\n",
              "      <td>22.0</td>\n",
              "      <td>100</td>\n",
              "      <td>...</td>\n",
              "      <td>NaN</td>\n",
              "      <td>NaN</td>\n",
              "      <td>NaN</td>\n",
              "      <td>NaN</td>\n",
              "      <td>NaN</td>\n",
              "      <td>NaN</td>\n",
              "      <td>NaN</td>\n",
              "      <td>NaN</td>\n",
              "      <td>NaN</td>\n",
              "      <td>NaN</td>\n",
              "    </tr>\n",
              "    <tr>\n",
              "      <th>2022-05-02</th>\n",
              "      <td>27.8</td>\n",
              "      <td>16.4</td>\n",
              "      <td>23.1</td>\n",
              "      <td>30.7</td>\n",
              "      <td>16.4</td>\n",
              "      <td>23.6</td>\n",
              "      <td>20.7</td>\n",
              "      <td>86.6</td>\n",
              "      <td>20.0</td>\n",
              "      <td>100</td>\n",
              "      <td>...</td>\n",
              "      <td>NaN</td>\n",
              "      <td>NaN</td>\n",
              "      <td>NaN</td>\n",
              "      <td>NaN</td>\n",
              "      <td>NaN</td>\n",
              "      <td>NaN</td>\n",
              "      <td>NaN</td>\n",
              "      <td>NaN</td>\n",
              "      <td>NaN</td>\n",
              "      <td>NaN</td>\n",
              "    </tr>\n",
              "    <tr>\n",
              "      <th>2022-05-03</th>\n",
              "      <td>29.1</td>\n",
              "      <td>17.1</td>\n",
              "      <td>24.3</td>\n",
              "      <td>32.3</td>\n",
              "      <td>17.1</td>\n",
              "      <td>24.8</td>\n",
              "      <td>21.0</td>\n",
              "      <td>82.7</td>\n",
              "      <td>0.2</td>\n",
              "      <td>100</td>\n",
              "      <td>...</td>\n",
              "      <td>NaN</td>\n",
              "      <td>NaN</td>\n",
              "      <td>NaN</td>\n",
              "      <td>NaN</td>\n",
              "      <td>NaN</td>\n",
              "      <td>NaN</td>\n",
              "      <td>NaN</td>\n",
              "      <td>NaN</td>\n",
              "      <td>NaN</td>\n",
              "      <td>NaN</td>\n",
              "    </tr>\n",
              "    <tr>\n",
              "      <th>2022-05-04</th>\n",
              "      <td>29.9</td>\n",
              "      <td>15.1</td>\n",
              "      <td>24.1</td>\n",
              "      <td>33.3</td>\n",
              "      <td>15.1</td>\n",
              "      <td>25.2</td>\n",
              "      <td>21.1</td>\n",
              "      <td>84.0</td>\n",
              "      <td>8.0</td>\n",
              "      <td>100</td>\n",
              "      <td>...</td>\n",
              "      <td>NaN</td>\n",
              "      <td>NaN</td>\n",
              "      <td>NaN</td>\n",
              "      <td>NaN</td>\n",
              "      <td>NaN</td>\n",
              "      <td>NaN</td>\n",
              "      <td>NaN</td>\n",
              "      <td>NaN</td>\n",
              "      <td>NaN</td>\n",
              "      <td>NaN</td>\n",
              "    </tr>\n",
              "    <tr>\n",
              "      <th>2022-05-05</th>\n",
              "      <td>31.2</td>\n",
              "      <td>15.9</td>\n",
              "      <td>25.0</td>\n",
              "      <td>35.4</td>\n",
              "      <td>15.9</td>\n",
              "      <td>26.4</td>\n",
              "      <td>21.7</td>\n",
              "      <td>82.9</td>\n",
              "      <td>12.0</td>\n",
              "      <td>100</td>\n",
              "      <td>...</td>\n",
              "      <td>NaN</td>\n",
              "      <td>NaN</td>\n",
              "      <td>NaN</td>\n",
              "      <td>NaN</td>\n",
              "      <td>NaN</td>\n",
              "      <td>NaN</td>\n",
              "      <td>NaN</td>\n",
              "      <td>NaN</td>\n",
              "      <td>NaN</td>\n",
              "      <td>NaN</td>\n",
              "    </tr>\n",
              "    <tr>\n",
              "      <th>...</th>\n",
              "      <td>...</td>\n",
              "      <td>...</td>\n",
              "      <td>...</td>\n",
              "      <td>...</td>\n",
              "      <td>...</td>\n",
              "      <td>...</td>\n",
              "      <td>...</td>\n",
              "      <td>...</td>\n",
              "      <td>...</td>\n",
              "      <td>...</td>\n",
              "      <td>...</td>\n",
              "      <td>...</td>\n",
              "      <td>...</td>\n",
              "      <td>...</td>\n",
              "      <td>...</td>\n",
              "      <td>...</td>\n",
              "      <td>...</td>\n",
              "      <td>...</td>\n",
              "      <td>...</td>\n",
              "      <td>...</td>\n",
              "      <td>...</td>\n",
              "    </tr>\n",
              "    <tr>\n",
              "      <th>2016-12-06</th>\n",
              "      <td>29.6</td>\n",
              "      <td>13.1</td>\n",
              "      <td>20.6</td>\n",
              "      <td>29.0</td>\n",
              "      <td>13.1</td>\n",
              "      <td>20.5</td>\n",
              "      <td>14.1</td>\n",
              "      <td>69.0</td>\n",
              "      <td>0.0</td>\n",
              "      <td>0</td>\n",
              "      <td>...</td>\n",
              "      <td>6.714286</td>\n",
              "      <td>0.042553</td>\n",
              "      <td>0.128571</td>\n",
              "      <td>0.788889</td>\n",
              "      <td>0.142857</td>\n",
              "      <td>-1.0</td>\n",
              "      <td>0.142857</td>\n",
              "      <td>-1.0</td>\n",
              "      <td>0.142857</td>\n",
              "      <td>-1.0</td>\n",
              "    </tr>\n",
              "    <tr>\n",
              "      <th>2016-12-07</th>\n",
              "      <td>28.5</td>\n",
              "      <td>14.2</td>\n",
              "      <td>20.9</td>\n",
              "      <td>28.2</td>\n",
              "      <td>14.2</td>\n",
              "      <td>20.8</td>\n",
              "      <td>14.3</td>\n",
              "      <td>68.4</td>\n",
              "      <td>0.0</td>\n",
              "      <td>0</td>\n",
              "      <td>...</td>\n",
              "      <td>6.714286</td>\n",
              "      <td>0.042553</td>\n",
              "      <td>0.160000</td>\n",
              "      <td>0.562500</td>\n",
              "      <td>0.142857</td>\n",
              "      <td>-1.0</td>\n",
              "      <td>0.142857</td>\n",
              "      <td>-1.0</td>\n",
              "      <td>0.142857</td>\n",
              "      <td>-1.0</td>\n",
              "    </tr>\n",
              "    <tr>\n",
              "      <th>2016-12-08</th>\n",
              "      <td>28.8</td>\n",
              "      <td>14.0</td>\n",
              "      <td>20.5</td>\n",
              "      <td>28.5</td>\n",
              "      <td>14.0</td>\n",
              "      <td>20.5</td>\n",
              "      <td>14.2</td>\n",
              "      <td>69.7</td>\n",
              "      <td>0.0</td>\n",
              "      <td>0</td>\n",
              "      <td>...</td>\n",
              "      <td>6.857143</td>\n",
              "      <td>0.020833</td>\n",
              "      <td>0.194286</td>\n",
              "      <td>0.544118</td>\n",
              "      <td>0.142857</td>\n",
              "      <td>-1.0</td>\n",
              "      <td>0.142857</td>\n",
              "      <td>-1.0</td>\n",
              "      <td>0.142857</td>\n",
              "      <td>-1.0</td>\n",
              "    </tr>\n",
              "    <tr>\n",
              "      <th>2016-12-09</th>\n",
              "      <td>27.7</td>\n",
              "      <td>12.5</td>\n",
              "      <td>19.4</td>\n",
              "      <td>28.0</td>\n",
              "      <td>12.5</td>\n",
              "      <td>19.4</td>\n",
              "      <td>14.2</td>\n",
              "      <td>73.5</td>\n",
              "      <td>0.0</td>\n",
              "      <td>0</td>\n",
              "      <td>...</td>\n",
              "      <td>7.000000</td>\n",
              "      <td>0.000000</td>\n",
              "      <td>0.230000</td>\n",
              "      <td>0.478261</td>\n",
              "      <td>0.000000</td>\n",
              "      <td>NaN</td>\n",
              "      <td>0.000000</td>\n",
              "      <td>NaN</td>\n",
              "      <td>0.000000</td>\n",
              "      <td>NaN</td>\n",
              "    </tr>\n",
              "    <tr>\n",
              "      <th>2016-12-10</th>\n",
              "      <td>28.0</td>\n",
              "      <td>13.1</td>\n",
              "      <td>19.6</td>\n",
              "      <td>27.6</td>\n",
              "      <td>13.1</td>\n",
              "      <td>19.6</td>\n",
              "      <td>13.1</td>\n",
              "      <td>68.6</td>\n",
              "      <td>0.0</td>\n",
              "      <td>0</td>\n",
              "      <td>...</td>\n",
              "      <td>7.000000</td>\n",
              "      <td>0.000000</td>\n",
              "      <td>0.264286</td>\n",
              "      <td>0.400000</td>\n",
              "      <td>0.000000</td>\n",
              "      <td>NaN</td>\n",
              "      <td>0.000000</td>\n",
              "      <td>NaN</td>\n",
              "      <td>0.000000</td>\n",
              "      <td>NaN</td>\n",
              "    </tr>\n",
              "  </tbody>\n",
              "</table>\n",
              "<p>3963 rows × 136 columns</p>\n",
              "</div>"
            ],
            "text/plain": [
              "            tempmax  tempmin  temp  feelslikemax  feelslikemin  feelslike  \\\n",
              "datetime                                                                    \n",
              "2022-05-01     29.5     15.4  24.6          33.1          15.4       25.6   \n",
              "2022-05-02     27.8     16.4  23.1          30.7          16.4       23.6   \n",
              "2022-05-03     29.1     17.1  24.3          32.3          17.1       24.8   \n",
              "2022-05-04     29.9     15.1  24.1          33.3          15.1       25.2   \n",
              "2022-05-05     31.2     15.9  25.0          35.4          15.9       26.4   \n",
              "...             ...      ...   ...           ...           ...        ...   \n",
              "2016-12-06     29.6     13.1  20.6          29.0          13.1       20.5   \n",
              "2016-12-07     28.5     14.2  20.9          28.2          14.2       20.8   \n",
              "2016-12-08     28.8     14.0  20.5          28.5          14.0       20.5   \n",
              "2016-12-09     27.7     12.5  19.4          28.0          12.5       19.4   \n",
              "2016-12-10     28.0     13.1  19.6          27.6          13.1       19.6   \n",
              "\n",
              "             dew  humidity  precip  precipprob  ...  rolling_7_uvindex  \\\n",
              "datetime                                        ...                      \n",
              "2022-05-01  21.5      83.5    22.0         100  ...                NaN   \n",
              "2022-05-02  20.7      86.6    20.0         100  ...                NaN   \n",
              "2022-05-03  21.0      82.7     0.2         100  ...                NaN   \n",
              "2022-05-04  21.1      84.0     8.0         100  ...                NaN   \n",
              "2022-05-05  21.7      82.9    12.0         100  ...                NaN   \n",
              "...          ...       ...     ...         ...  ...                ...   \n",
              "2016-12-06  14.1      69.0     0.0           0  ...           6.714286   \n",
              "2016-12-07  14.3      68.4     0.0           0  ...           6.714286   \n",
              "2016-12-08  14.2      69.7     0.0           0  ...           6.857143   \n",
              "2016-12-09  14.2      73.5     0.0           0  ...           7.000000   \n",
              "2016-12-10  13.1      68.6     0.0           0  ...           7.000000   \n",
              "\n",
              "            rolling_7_uvindex_pct  rolling_7_moonphase  \\\n",
              "datetime                                                 \n",
              "2022-05-01                    NaN                  NaN   \n",
              "2022-05-02                    NaN                  NaN   \n",
              "2022-05-03                    NaN                  NaN   \n",
              "2022-05-04                    NaN                  NaN   \n",
              "2022-05-05                    NaN                  NaN   \n",
              "...                           ...                  ...   \n",
              "2016-12-06               0.042553             0.128571   \n",
              "2016-12-07               0.042553             0.160000   \n",
              "2016-12-08               0.020833             0.194286   \n",
              "2016-12-09               0.000000             0.230000   \n",
              "2016-12-10               0.000000             0.264286   \n",
              "\n",
              "            rolling_7_moonphase_pct  rolling_7_conditions  \\\n",
              "datetime                                                    \n",
              "2022-05-01                      NaN                   NaN   \n",
              "2022-05-02                      NaN                   NaN   \n",
              "2022-05-03                      NaN                   NaN   \n",
              "2022-05-04                      NaN                   NaN   \n",
              "2022-05-05                      NaN                   NaN   \n",
              "...                             ...                   ...   \n",
              "2016-12-06                 0.788889              0.142857   \n",
              "2016-12-07                 0.562500              0.142857   \n",
              "2016-12-08                 0.544118              0.142857   \n",
              "2016-12-09                 0.478261              0.000000   \n",
              "2016-12-10                 0.400000              0.000000   \n",
              "\n",
              "            rolling_7_conditions_pct  rolling_7_icon  rolling_7_icon_pct  \\\n",
              "datetime                                                                   \n",
              "2022-05-01                       NaN             NaN                 NaN   \n",
              "2022-05-02                       NaN             NaN                 NaN   \n",
              "2022-05-03                       NaN             NaN                 NaN   \n",
              "2022-05-04                       NaN             NaN                 NaN   \n",
              "2022-05-05                       NaN             NaN                 NaN   \n",
              "...                              ...             ...                 ...   \n",
              "2016-12-06                      -1.0        0.142857                -1.0   \n",
              "2016-12-07                      -1.0        0.142857                -1.0   \n",
              "2016-12-08                      -1.0        0.142857                -1.0   \n",
              "2016-12-09                       NaN        0.000000                 NaN   \n",
              "2016-12-10                       NaN        0.000000                 NaN   \n",
              "\n",
              "            rolling_7_categoryofweather  rolling_7_categoryofweather_pct  \n",
              "datetime                                                                  \n",
              "2022-05-01                          NaN                              NaN  \n",
              "2022-05-02                          NaN                              NaN  \n",
              "2022-05-03                          NaN                              NaN  \n",
              "2022-05-04                          NaN                              NaN  \n",
              "2022-05-05                          NaN                              NaN  \n",
              "...                                 ...                              ...  \n",
              "2016-12-06                     0.142857                             -1.0  \n",
              "2016-12-07                     0.142857                             -1.0  \n",
              "2016-12-08                     0.142857                             -1.0  \n",
              "2016-12-09                     0.000000                              NaN  \n",
              "2016-12-10                     0.000000                              NaN  \n",
              "\n",
              "[3963 rows x 136 columns]"
            ]
          },
          "execution_count": 537,
          "metadata": {},
          "output_type": "execute_result"
        }
      ],
      "source": [
        "df"
      ]
    },
    {
      "cell_type": "code",
      "execution_count": 538,
      "metadata": {
        "id": "a1PR90cO95e8"
      },
      "outputs": [],
      "source": [
        "df = df.iloc[7:,:]"
      ]
    },
    {
      "cell_type": "code",
      "execution_count": 539,
      "metadata": {
        "colab": {
          "base_uri": "https://localhost:8080/"
        },
        "id": "Ud0fVQQtAX2L",
        "outputId": "44e55629-6616-43a6-8036-7d8a27f0a20e"
      },
      "outputs": [
        {
          "data": {
            "text/plain": [
              "(3956, 136)"
            ]
          },
          "execution_count": 539,
          "metadata": {},
          "output_type": "execute_result"
        }
      ],
      "source": [
        "df.shape"
      ]
    },
    {
      "cell_type": "code",
      "execution_count": 540,
      "metadata": {
        "id": "Ay2V_kZaAedr"
      },
      "outputs": [],
      "source": [
        "df = df.fillna(0)"
      ]
    },
    {
      "cell_type": "code",
      "execution_count": 541,
      "metadata": {
        "colab": {
          "base_uri": "https://localhost:8080/"
        },
        "id": "ipnjS1_UA5ur",
        "outputId": "b69cd7a4-b4e1-462d-a425-af333154f7f5"
      },
      "outputs": [
        {
          "name": "stderr",
          "output_type": "stream",
          "text": [
            "C:\\Users\\USER\\AppData\\Local\\Temp\\ipykernel_22112\\1275659452.py:9: PerformanceWarning: DataFrame is highly fragmented.  This is usually the result of calling `frame.insert` many times, which has poor performance.  Consider joining all columns at once using pd.concat(axis=1) instead. To get a de-fragmented frame, use `newframe = frame.copy()`\n",
            "  df[f\"month_avg_{col}\"] = df[col].groupby (df.index.month, group_keys=False).apply(expand_mean)\n",
            "C:\\Users\\USER\\AppData\\Local\\Temp\\ipykernel_22112\\1275659452.py:10: PerformanceWarning: DataFrame is highly fragmented.  This is usually the result of calling `frame.insert` many times, which has poor performance.  Consider joining all columns at once using pd.concat(axis=1) instead. To get a de-fragmented frame, use `newframe = frame.copy()`\n",
            "  df[f\"day_avg_{col}\"] = df[col].groupby (df.index.day_of_year, group_keys=False).apply(expand_mean)\n",
            "C:\\Users\\USER\\AppData\\Local\\Temp\\ipykernel_22112\\1275659452.py:9: PerformanceWarning: DataFrame is highly fragmented.  This is usually the result of calling `frame.insert` many times, which has poor performance.  Consider joining all columns at once using pd.concat(axis=1) instead. To get a de-fragmented frame, use `newframe = frame.copy()`\n",
            "  df[f\"month_avg_{col}\"] = df[col].groupby (df.index.month, group_keys=False).apply(expand_mean)\n",
            "C:\\Users\\USER\\AppData\\Local\\Temp\\ipykernel_22112\\1275659452.py:10: PerformanceWarning: DataFrame is highly fragmented.  This is usually the result of calling `frame.insert` many times, which has poor performance.  Consider joining all columns at once using pd.concat(axis=1) instead. To get a de-fragmented frame, use `newframe = frame.copy()`\n",
            "  df[f\"day_avg_{col}\"] = df[col].groupby (df.index.day_of_year, group_keys=False).apply(expand_mean)\n",
            "C:\\Users\\USER\\AppData\\Local\\Temp\\ipykernel_22112\\1275659452.py:9: PerformanceWarning: DataFrame is highly fragmented.  This is usually the result of calling `frame.insert` many times, which has poor performance.  Consider joining all columns at once using pd.concat(axis=1) instead. To get a de-fragmented frame, use `newframe = frame.copy()`\n",
            "  df[f\"month_avg_{col}\"] = df[col].groupby (df.index.month, group_keys=False).apply(expand_mean)\n",
            "C:\\Users\\USER\\AppData\\Local\\Temp\\ipykernel_22112\\1275659452.py:10: PerformanceWarning: DataFrame is highly fragmented.  This is usually the result of calling `frame.insert` many times, which has poor performance.  Consider joining all columns at once using pd.concat(axis=1) instead. To get a de-fragmented frame, use `newframe = frame.copy()`\n",
            "  df[f\"day_avg_{col}\"] = df[col].groupby (df.index.day_of_year, group_keys=False).apply(expand_mean)\n",
            "C:\\Users\\USER\\AppData\\Local\\Temp\\ipykernel_22112\\1275659452.py:9: PerformanceWarning: DataFrame is highly fragmented.  This is usually the result of calling `frame.insert` many times, which has poor performance.  Consider joining all columns at once using pd.concat(axis=1) instead. To get a de-fragmented frame, use `newframe = frame.copy()`\n",
            "  df[f\"month_avg_{col}\"] = df[col].groupby (df.index.month, group_keys=False).apply(expand_mean)\n",
            "C:\\Users\\USER\\AppData\\Local\\Temp\\ipykernel_22112\\1275659452.py:10: PerformanceWarning: DataFrame is highly fragmented.  This is usually the result of calling `frame.insert` many times, which has poor performance.  Consider joining all columns at once using pd.concat(axis=1) instead. To get a de-fragmented frame, use `newframe = frame.copy()`\n",
            "  df[f\"day_avg_{col}\"] = df[col].groupby (df.index.day_of_year, group_keys=False).apply(expand_mean)\n",
            "C:\\Users\\USER\\AppData\\Local\\Temp\\ipykernel_22112\\1275659452.py:9: PerformanceWarning: DataFrame is highly fragmented.  This is usually the result of calling `frame.insert` many times, which has poor performance.  Consider joining all columns at once using pd.concat(axis=1) instead. To get a de-fragmented frame, use `newframe = frame.copy()`\n",
            "  df[f\"month_avg_{col}\"] = df[col].groupby (df.index.month, group_keys=False).apply(expand_mean)\n",
            "C:\\Users\\USER\\AppData\\Local\\Temp\\ipykernel_22112\\1275659452.py:10: PerformanceWarning: DataFrame is highly fragmented.  This is usually the result of calling `frame.insert` many times, which has poor performance.  Consider joining all columns at once using pd.concat(axis=1) instead. To get a de-fragmented frame, use `newframe = frame.copy()`\n",
            "  df[f\"day_avg_{col}\"] = df[col].groupby (df.index.day_of_year, group_keys=False).apply(expand_mean)\n",
            "C:\\Users\\USER\\AppData\\Local\\Temp\\ipykernel_22112\\1275659452.py:9: PerformanceWarning: DataFrame is highly fragmented.  This is usually the result of calling `frame.insert` many times, which has poor performance.  Consider joining all columns at once using pd.concat(axis=1) instead. To get a de-fragmented frame, use `newframe = frame.copy()`\n",
            "  df[f\"month_avg_{col}\"] = df[col].groupby (df.index.month, group_keys=False).apply(expand_mean)\n",
            "C:\\Users\\USER\\AppData\\Local\\Temp\\ipykernel_22112\\1275659452.py:10: PerformanceWarning: DataFrame is highly fragmented.  This is usually the result of calling `frame.insert` many times, which has poor performance.  Consider joining all columns at once using pd.concat(axis=1) instead. To get a de-fragmented frame, use `newframe = frame.copy()`\n",
            "  df[f\"day_avg_{col}\"] = df[col].groupby (df.index.day_of_year, group_keys=False).apply(expand_mean)\n",
            "C:\\Users\\USER\\AppData\\Local\\Temp\\ipykernel_22112\\1275659452.py:9: PerformanceWarning: DataFrame is highly fragmented.  This is usually the result of calling `frame.insert` many times, which has poor performance.  Consider joining all columns at once using pd.concat(axis=1) instead. To get a de-fragmented frame, use `newframe = frame.copy()`\n",
            "  df[f\"month_avg_{col}\"] = df[col].groupby (df.index.month, group_keys=False).apply(expand_mean)\n",
            "C:\\Users\\USER\\AppData\\Local\\Temp\\ipykernel_22112\\1275659452.py:10: PerformanceWarning: DataFrame is highly fragmented.  This is usually the result of calling `frame.insert` many times, which has poor performance.  Consider joining all columns at once using pd.concat(axis=1) instead. To get a de-fragmented frame, use `newframe = frame.copy()`\n",
            "  df[f\"day_avg_{col}\"] = df[col].groupby (df.index.day_of_year, group_keys=False).apply(expand_mean)\n",
            "C:\\Users\\USER\\AppData\\Local\\Temp\\ipykernel_22112\\1275659452.py:9: PerformanceWarning: DataFrame is highly fragmented.  This is usually the result of calling `frame.insert` many times, which has poor performance.  Consider joining all columns at once using pd.concat(axis=1) instead. To get a de-fragmented frame, use `newframe = frame.copy()`\n",
            "  df[f\"month_avg_{col}\"] = df[col].groupby (df.index.month, group_keys=False).apply(expand_mean)\n",
            "C:\\Users\\USER\\AppData\\Local\\Temp\\ipykernel_22112\\1275659452.py:10: PerformanceWarning: DataFrame is highly fragmented.  This is usually the result of calling `frame.insert` many times, which has poor performance.  Consider joining all columns at once using pd.concat(axis=1) instead. To get a de-fragmented frame, use `newframe = frame.copy()`\n",
            "  df[f\"day_avg_{col}\"] = df[col].groupby (df.index.day_of_year, group_keys=False).apply(expand_mean)\n",
            "C:\\Users\\USER\\AppData\\Local\\Temp\\ipykernel_22112\\1275659452.py:9: PerformanceWarning: DataFrame is highly fragmented.  This is usually the result of calling `frame.insert` many times, which has poor performance.  Consider joining all columns at once using pd.concat(axis=1) instead. To get a de-fragmented frame, use `newframe = frame.copy()`\n",
            "  df[f\"month_avg_{col}\"] = df[col].groupby (df.index.month, group_keys=False).apply(expand_mean)\n",
            "C:\\Users\\USER\\AppData\\Local\\Temp\\ipykernel_22112\\1275659452.py:10: PerformanceWarning: DataFrame is highly fragmented.  This is usually the result of calling `frame.insert` many times, which has poor performance.  Consider joining all columns at once using pd.concat(axis=1) instead. To get a de-fragmented frame, use `newframe = frame.copy()`\n",
            "  df[f\"day_avg_{col}\"] = df[col].groupby (df.index.day_of_year, group_keys=False).apply(expand_mean)\n",
            "C:\\Users\\USER\\AppData\\Local\\Temp\\ipykernel_22112\\1275659452.py:9: PerformanceWarning: DataFrame is highly fragmented.  This is usually the result of calling `frame.insert` many times, which has poor performance.  Consider joining all columns at once using pd.concat(axis=1) instead. To get a de-fragmented frame, use `newframe = frame.copy()`\n",
            "  df[f\"month_avg_{col}\"] = df[col].groupby (df.index.month, group_keys=False).apply(expand_mean)\n",
            "C:\\Users\\USER\\AppData\\Local\\Temp\\ipykernel_22112\\1275659452.py:10: PerformanceWarning: DataFrame is highly fragmented.  This is usually the result of calling `frame.insert` many times, which has poor performance.  Consider joining all columns at once using pd.concat(axis=1) instead. To get a de-fragmented frame, use `newframe = frame.copy()`\n",
            "  df[f\"day_avg_{col}\"] = df[col].groupby (df.index.day_of_year, group_keys=False).apply(expand_mean)\n",
            "C:\\Users\\USER\\AppData\\Local\\Temp\\ipykernel_22112\\1275659452.py:9: PerformanceWarning: DataFrame is highly fragmented.  This is usually the result of calling `frame.insert` many times, which has poor performance.  Consider joining all columns at once using pd.concat(axis=1) instead. To get a de-fragmented frame, use `newframe = frame.copy()`\n",
            "  df[f\"month_avg_{col}\"] = df[col].groupby (df.index.month, group_keys=False).apply(expand_mean)\n",
            "C:\\Users\\USER\\AppData\\Local\\Temp\\ipykernel_22112\\1275659452.py:10: PerformanceWarning: DataFrame is highly fragmented.  This is usually the result of calling `frame.insert` many times, which has poor performance.  Consider joining all columns at once using pd.concat(axis=1) instead. To get a de-fragmented frame, use `newframe = frame.copy()`\n",
            "  df[f\"day_avg_{col}\"] = df[col].groupby (df.index.day_of_year, group_keys=False).apply(expand_mean)\n",
            "C:\\Users\\USER\\AppData\\Local\\Temp\\ipykernel_22112\\1275659452.py:9: PerformanceWarning: DataFrame is highly fragmented.  This is usually the result of calling `frame.insert` many times, which has poor performance.  Consider joining all columns at once using pd.concat(axis=1) instead. To get a de-fragmented frame, use `newframe = frame.copy()`\n",
            "  df[f\"month_avg_{col}\"] = df[col].groupby (df.index.month, group_keys=False).apply(expand_mean)\n",
            "C:\\Users\\USER\\AppData\\Local\\Temp\\ipykernel_22112\\1275659452.py:10: PerformanceWarning: DataFrame is highly fragmented.  This is usually the result of calling `frame.insert` many times, which has poor performance.  Consider joining all columns at once using pd.concat(axis=1) instead. To get a de-fragmented frame, use `newframe = frame.copy()`\n",
            "  df[f\"day_avg_{col}\"] = df[col].groupby (df.index.day_of_year, group_keys=False).apply(expand_mean)\n",
            "C:\\Users\\USER\\AppData\\Local\\Temp\\ipykernel_22112\\1275659452.py:9: PerformanceWarning: DataFrame is highly fragmented.  This is usually the result of calling `frame.insert` many times, which has poor performance.  Consider joining all columns at once using pd.concat(axis=1) instead. To get a de-fragmented frame, use `newframe = frame.copy()`\n",
            "  df[f\"month_avg_{col}\"] = df[col].groupby (df.index.month, group_keys=False).apply(expand_mean)\n",
            "C:\\Users\\USER\\AppData\\Local\\Temp\\ipykernel_22112\\1275659452.py:10: PerformanceWarning: DataFrame is highly fragmented.  This is usually the result of calling `frame.insert` many times, which has poor performance.  Consider joining all columns at once using pd.concat(axis=1) instead. To get a de-fragmented frame, use `newframe = frame.copy()`\n",
            "  df[f\"day_avg_{col}\"] = df[col].groupby (df.index.day_of_year, group_keys=False).apply(expand_mean)\n",
            "C:\\Users\\USER\\AppData\\Local\\Temp\\ipykernel_22112\\1275659452.py:9: PerformanceWarning: DataFrame is highly fragmented.  This is usually the result of calling `frame.insert` many times, which has poor performance.  Consider joining all columns at once using pd.concat(axis=1) instead. To get a de-fragmented frame, use `newframe = frame.copy()`\n",
            "  df[f\"month_avg_{col}\"] = df[col].groupby (df.index.month, group_keys=False).apply(expand_mean)\n",
            "C:\\Users\\USER\\AppData\\Local\\Temp\\ipykernel_22112\\1275659452.py:10: PerformanceWarning: DataFrame is highly fragmented.  This is usually the result of calling `frame.insert` many times, which has poor performance.  Consider joining all columns at once using pd.concat(axis=1) instead. To get a de-fragmented frame, use `newframe = frame.copy()`\n",
            "  df[f\"day_avg_{col}\"] = df[col].groupby (df.index.day_of_year, group_keys=False).apply(expand_mean)\n",
            "C:\\Users\\USER\\AppData\\Local\\Temp\\ipykernel_22112\\1275659452.py:9: PerformanceWarning: DataFrame is highly fragmented.  This is usually the result of calling `frame.insert` many times, which has poor performance.  Consider joining all columns at once using pd.concat(axis=1) instead. To get a de-fragmented frame, use `newframe = frame.copy()`\n",
            "  df[f\"month_avg_{col}\"] = df[col].groupby (df.index.month, group_keys=False).apply(expand_mean)\n",
            "C:\\Users\\USER\\AppData\\Local\\Temp\\ipykernel_22112\\1275659452.py:10: PerformanceWarning: DataFrame is highly fragmented.  This is usually the result of calling `frame.insert` many times, which has poor performance.  Consider joining all columns at once using pd.concat(axis=1) instead. To get a de-fragmented frame, use `newframe = frame.copy()`\n",
            "  df[f\"day_avg_{col}\"] = df[col].groupby (df.index.day_of_year, group_keys=False).apply(expand_mean)\n",
            "C:\\Users\\USER\\AppData\\Local\\Temp\\ipykernel_22112\\1275659452.py:9: PerformanceWarning: DataFrame is highly fragmented.  This is usually the result of calling `frame.insert` many times, which has poor performance.  Consider joining all columns at once using pd.concat(axis=1) instead. To get a de-fragmented frame, use `newframe = frame.copy()`\n",
            "  df[f\"month_avg_{col}\"] = df[col].groupby (df.index.month, group_keys=False).apply(expand_mean)\n",
            "C:\\Users\\USER\\AppData\\Local\\Temp\\ipykernel_22112\\1275659452.py:10: PerformanceWarning: DataFrame is highly fragmented.  This is usually the result of calling `frame.insert` many times, which has poor performance.  Consider joining all columns at once using pd.concat(axis=1) instead. To get a de-fragmented frame, use `newframe = frame.copy()`\n",
            "  df[f\"day_avg_{col}\"] = df[col].groupby (df.index.day_of_year, group_keys=False).apply(expand_mean)\n",
            "C:\\Users\\USER\\AppData\\Local\\Temp\\ipykernel_22112\\1275659452.py:9: PerformanceWarning: DataFrame is highly fragmented.  This is usually the result of calling `frame.insert` many times, which has poor performance.  Consider joining all columns at once using pd.concat(axis=1) instead. To get a de-fragmented frame, use `newframe = frame.copy()`\n",
            "  df[f\"month_avg_{col}\"] = df[col].groupby (df.index.month, group_keys=False).apply(expand_mean)\n",
            "C:\\Users\\USER\\AppData\\Local\\Temp\\ipykernel_22112\\1275659452.py:10: PerformanceWarning: DataFrame is highly fragmented.  This is usually the result of calling `frame.insert` many times, which has poor performance.  Consider joining all columns at once using pd.concat(axis=1) instead. To get a de-fragmented frame, use `newframe = frame.copy()`\n",
            "  df[f\"day_avg_{col}\"] = df[col].groupby (df.index.day_of_year, group_keys=False).apply(expand_mean)\n",
            "C:\\Users\\USER\\AppData\\Local\\Temp\\ipykernel_22112\\1275659452.py:9: PerformanceWarning: DataFrame is highly fragmented.  This is usually the result of calling `frame.insert` many times, which has poor performance.  Consider joining all columns at once using pd.concat(axis=1) instead. To get a de-fragmented frame, use `newframe = frame.copy()`\n",
            "  df[f\"month_avg_{col}\"] = df[col].groupby (df.index.month, group_keys=False).apply(expand_mean)\n",
            "C:\\Users\\USER\\AppData\\Local\\Temp\\ipykernel_22112\\1275659452.py:10: PerformanceWarning: DataFrame is highly fragmented.  This is usually the result of calling `frame.insert` many times, which has poor performance.  Consider joining all columns at once using pd.concat(axis=1) instead. To get a de-fragmented frame, use `newframe = frame.copy()`\n",
            "  df[f\"day_avg_{col}\"] = df[col].groupby (df.index.day_of_year, group_keys=False).apply(expand_mean)\n",
            "C:\\Users\\USER\\AppData\\Local\\Temp\\ipykernel_22112\\1275659452.py:9: PerformanceWarning: DataFrame is highly fragmented.  This is usually the result of calling `frame.insert` many times, which has poor performance.  Consider joining all columns at once using pd.concat(axis=1) instead. To get a de-fragmented frame, use `newframe = frame.copy()`\n",
            "  df[f\"month_avg_{col}\"] = df[col].groupby (df.index.month, group_keys=False).apply(expand_mean)\n",
            "C:\\Users\\USER\\AppData\\Local\\Temp\\ipykernel_22112\\1275659452.py:10: PerformanceWarning: DataFrame is highly fragmented.  This is usually the result of calling `frame.insert` many times, which has poor performance.  Consider joining all columns at once using pd.concat(axis=1) instead. To get a de-fragmented frame, use `newframe = frame.copy()`\n",
            "  df[f\"day_avg_{col}\"] = df[col].groupby (df.index.day_of_year, group_keys=False).apply(expand_mean)\n",
            "C:\\Users\\USER\\AppData\\Local\\Temp\\ipykernel_22112\\1275659452.py:9: PerformanceWarning: DataFrame is highly fragmented.  This is usually the result of calling `frame.insert` many times, which has poor performance.  Consider joining all columns at once using pd.concat(axis=1) instead. To get a de-fragmented frame, use `newframe = frame.copy()`\n",
            "  df[f\"month_avg_{col}\"] = df[col].groupby (df.index.month, group_keys=False).apply(expand_mean)\n",
            "C:\\Users\\USER\\AppData\\Local\\Temp\\ipykernel_22112\\1275659452.py:10: PerformanceWarning: DataFrame is highly fragmented.  This is usually the result of calling `frame.insert` many times, which has poor performance.  Consider joining all columns at once using pd.concat(axis=1) instead. To get a de-fragmented frame, use `newframe = frame.copy()`\n",
            "  df[f\"day_avg_{col}\"] = df[col].groupby (df.index.day_of_year, group_keys=False).apply(expand_mean)\n",
            "C:\\Users\\USER\\AppData\\Local\\Temp\\ipykernel_22112\\1275659452.py:9: PerformanceWarning: DataFrame is highly fragmented.  This is usually the result of calling `frame.insert` many times, which has poor performance.  Consider joining all columns at once using pd.concat(axis=1) instead. To get a de-fragmented frame, use `newframe = frame.copy()`\n",
            "  df[f\"month_avg_{col}\"] = df[col].groupby (df.index.month, group_keys=False).apply(expand_mean)\n",
            "C:\\Users\\USER\\AppData\\Local\\Temp\\ipykernel_22112\\1275659452.py:10: PerformanceWarning: DataFrame is highly fragmented.  This is usually the result of calling `frame.insert` many times, which has poor performance.  Consider joining all columns at once using pd.concat(axis=1) instead. To get a de-fragmented frame, use `newframe = frame.copy()`\n",
            "  df[f\"day_avg_{col}\"] = df[col].groupby (df.index.day_of_year, group_keys=False).apply(expand_mean)\n",
            "C:\\Users\\USER\\AppData\\Local\\Temp\\ipykernel_22112\\1275659452.py:9: PerformanceWarning: DataFrame is highly fragmented.  This is usually the result of calling `frame.insert` many times, which has poor performance.  Consider joining all columns at once using pd.concat(axis=1) instead. To get a de-fragmented frame, use `newframe = frame.copy()`\n",
            "  df[f\"month_avg_{col}\"] = df[col].groupby (df.index.month, group_keys=False).apply(expand_mean)\n",
            "C:\\Users\\USER\\AppData\\Local\\Temp\\ipykernel_22112\\1275659452.py:10: PerformanceWarning: DataFrame is highly fragmented.  This is usually the result of calling `frame.insert` many times, which has poor performance.  Consider joining all columns at once using pd.concat(axis=1) instead. To get a de-fragmented frame, use `newframe = frame.copy()`\n",
            "  df[f\"day_avg_{col}\"] = df[col].groupby (df.index.day_of_year, group_keys=False).apply(expand_mean)\n",
            "C:\\Users\\USER\\AppData\\Local\\Temp\\ipykernel_22112\\1275659452.py:9: PerformanceWarning: DataFrame is highly fragmented.  This is usually the result of calling `frame.insert` many times, which has poor performance.  Consider joining all columns at once using pd.concat(axis=1) instead. To get a de-fragmented frame, use `newframe = frame.copy()`\n",
            "  df[f\"month_avg_{col}\"] = df[col].groupby (df.index.month, group_keys=False).apply(expand_mean)\n",
            "C:\\Users\\USER\\AppData\\Local\\Temp\\ipykernel_22112\\1275659452.py:10: PerformanceWarning: DataFrame is highly fragmented.  This is usually the result of calling `frame.insert` many times, which has poor performance.  Consider joining all columns at once using pd.concat(axis=1) instead. To get a de-fragmented frame, use `newframe = frame.copy()`\n",
            "  df[f\"day_avg_{col}\"] = df[col].groupby (df.index.day_of_year, group_keys=False).apply(expand_mean)\n",
            "C:\\Users\\USER\\AppData\\Local\\Temp\\ipykernel_22112\\1275659452.py:9: PerformanceWarning: DataFrame is highly fragmented.  This is usually the result of calling `frame.insert` many times, which has poor performance.  Consider joining all columns at once using pd.concat(axis=1) instead. To get a de-fragmented frame, use `newframe = frame.copy()`\n",
            "  df[f\"month_avg_{col}\"] = df[col].groupby (df.index.month, group_keys=False).apply(expand_mean)\n",
            "C:\\Users\\USER\\AppData\\Local\\Temp\\ipykernel_22112\\1275659452.py:10: PerformanceWarning: DataFrame is highly fragmented.  This is usually the result of calling `frame.insert` many times, which has poor performance.  Consider joining all columns at once using pd.concat(axis=1) instead. To get a de-fragmented frame, use `newframe = frame.copy()`\n",
            "  df[f\"day_avg_{col}\"] = df[col].groupby (df.index.day_of_year, group_keys=False).apply(expand_mean)\n",
            "C:\\Users\\USER\\AppData\\Local\\Temp\\ipykernel_22112\\1275659452.py:9: PerformanceWarning: DataFrame is highly fragmented.  This is usually the result of calling `frame.insert` many times, which has poor performance.  Consider joining all columns at once using pd.concat(axis=1) instead. To get a de-fragmented frame, use `newframe = frame.copy()`\n",
            "  df[f\"month_avg_{col}\"] = df[col].groupby (df.index.month, group_keys=False).apply(expand_mean)\n",
            "C:\\Users\\USER\\AppData\\Local\\Temp\\ipykernel_22112\\1275659452.py:10: PerformanceWarning: DataFrame is highly fragmented.  This is usually the result of calling `frame.insert` many times, which has poor performance.  Consider joining all columns at once using pd.concat(axis=1) instead. To get a de-fragmented frame, use `newframe = frame.copy()`\n",
            "  df[f\"day_avg_{col}\"] = df[col].groupby (df.index.day_of_year, group_keys=False).apply(expand_mean)\n",
            "C:\\Users\\USER\\AppData\\Local\\Temp\\ipykernel_22112\\1275659452.py:9: PerformanceWarning: DataFrame is highly fragmented.  This is usually the result of calling `frame.insert` many times, which has poor performance.  Consider joining all columns at once using pd.concat(axis=1) instead. To get a de-fragmented frame, use `newframe = frame.copy()`\n",
            "  df[f\"month_avg_{col}\"] = df[col].groupby (df.index.month, group_keys=False).apply(expand_mean)\n",
            "C:\\Users\\USER\\AppData\\Local\\Temp\\ipykernel_22112\\1275659452.py:10: PerformanceWarning: DataFrame is highly fragmented.  This is usually the result of calling `frame.insert` many times, which has poor performance.  Consider joining all columns at once using pd.concat(axis=1) instead. To get a de-fragmented frame, use `newframe = frame.copy()`\n",
            "  df[f\"day_avg_{col}\"] = df[col].groupby (df.index.day_of_year, group_keys=False).apply(expand_mean)\n",
            "C:\\Users\\USER\\AppData\\Local\\Temp\\ipykernel_22112\\1275659452.py:9: PerformanceWarning: DataFrame is highly fragmented.  This is usually the result of calling `frame.insert` many times, which has poor performance.  Consider joining all columns at once using pd.concat(axis=1) instead. To get a de-fragmented frame, use `newframe = frame.copy()`\n",
            "  df[f\"month_avg_{col}\"] = df[col].groupby (df.index.month, group_keys=False).apply(expand_mean)\n",
            "C:\\Users\\USER\\AppData\\Local\\Temp\\ipykernel_22112\\1275659452.py:10: PerformanceWarning: DataFrame is highly fragmented.  This is usually the result of calling `frame.insert` many times, which has poor performance.  Consider joining all columns at once using pd.concat(axis=1) instead. To get a de-fragmented frame, use `newframe = frame.copy()`\n",
            "  df[f\"day_avg_{col}\"] = df[col].groupby (df.index.day_of_year, group_keys=False).apply(expand_mean)\n"
          ]
        }
      ],
      "source": [
        "def expand_mean(df):\n",
        "  return df.expanding (1).mean()\n",
        "\n",
        "\n",
        "for col in ['tempmax', 'tempmin','temp', 'feelslikemax', 'feelslikemin', 'feelslike', 'dew',\n",
        "              'humidity', 'precip', 'precipprob', 'precipcover', 'preciptype', 'snow', 'snowdepth', 'windgust', 'windspeed',\n",
        "              'winddir', 'sealevelpressure', 'cloudcover', 'visibility', 'solarradiation', 'solarenergy', 'uvindex',\n",
        "              'moonphase', 'conditions','icon', 'categoryofweather']:\n",
        "  df[f\"month_avg_{col}\"] = df[col].groupby (df.index.month, group_keys=False).apply(expand_mean)\n",
        "  df[f\"day_avg_{col}\"] = df[col].groupby (df.index.day_of_year, group_keys=False).apply(expand_mean)"
      ]
    },
    {
      "cell_type": "code",
      "execution_count": 542,
      "metadata": {
        "id": "I08IwsX-CQ5T"
      },
      "outputs": [],
      "source": [
        "predictors = df.columns[~df.columns.isin(['templag1'])]"
      ]
    },
    {
      "cell_type": "code",
      "execution_count": 543,
      "metadata": {
        "id": "RDi3oJ-PCUfS"
      },
      "outputs": [],
      "source": [
        "predictions = backtest(df, rr, predictors)"
      ]
    },
    {
      "cell_type": "code",
      "execution_count": 544,
      "metadata": {
        "colab": {
          "base_uri": "https://localhost:8080/",
          "height": 455
        },
        "id": "BMznlMR8CcRa",
        "outputId": "a7c703b2-0f3e-4537-c978-c45c1c947cba"
      },
      "outputs": [
        {
          "data": {
            "text/html": [
              "<div>\n",
              "<style scoped>\n",
              "    .dataframe tbody tr th:only-of-type {\n",
              "        vertical-align: middle;\n",
              "    }\n",
              "\n",
              "    .dataframe tbody tr th {\n",
              "        vertical-align: top;\n",
              "    }\n",
              "\n",
              "    .dataframe thead th {\n",
              "        text-align: right;\n",
              "    }\n",
              "</style>\n",
              "<table border=\"1\" class=\"dataframe\">\n",
              "  <thead>\n",
              "    <tr style=\"text-align: right;\">\n",
              "      <th></th>\n",
              "      <th>templag1</th>\n",
              "      <th>predictions</th>\n",
              "      <th>difference</th>\n",
              "    </tr>\n",
              "    <tr>\n",
              "      <th>datetime</th>\n",
              "      <th></th>\n",
              "      <th></th>\n",
              "      <th></th>\n",
              "    </tr>\n",
              "  </thead>\n",
              "  <tbody>\n",
              "    <tr>\n",
              "      <th>2022-06-27</th>\n",
              "      <td>26.1</td>\n",
              "      <td>26.181627</td>\n",
              "      <td>0.081627</td>\n",
              "    </tr>\n",
              "    <tr>\n",
              "      <th>2022-06-28</th>\n",
              "      <td>25.7</td>\n",
              "      <td>24.389061</td>\n",
              "      <td>1.310939</td>\n",
              "    </tr>\n",
              "    <tr>\n",
              "      <th>2022-06-29</th>\n",
              "      <td>25.9</td>\n",
              "      <td>24.298444</td>\n",
              "      <td>1.601556</td>\n",
              "    </tr>\n",
              "    <tr>\n",
              "      <th>2022-06-30</th>\n",
              "      <td>26.3</td>\n",
              "      <td>25.056681</td>\n",
              "      <td>1.243319</td>\n",
              "    </tr>\n",
              "    <tr>\n",
              "      <th>2022-07-01</th>\n",
              "      <td>28.5</td>\n",
              "      <td>25.910891</td>\n",
              "      <td>2.589109</td>\n",
              "    </tr>\n",
              "    <tr>\n",
              "      <th>...</th>\n",
              "      <td>...</td>\n",
              "      <td>...</td>\n",
              "      <td>...</td>\n",
              "    </tr>\n",
              "    <tr>\n",
              "      <th>2016-12-06</th>\n",
              "      <td>20.9</td>\n",
              "      <td>20.119630</td>\n",
              "      <td>0.780370</td>\n",
              "    </tr>\n",
              "    <tr>\n",
              "      <th>2016-12-07</th>\n",
              "      <td>20.5</td>\n",
              "      <td>20.332092</td>\n",
              "      <td>0.167908</td>\n",
              "    </tr>\n",
              "    <tr>\n",
              "      <th>2016-12-08</th>\n",
              "      <td>19.4</td>\n",
              "      <td>20.170467</td>\n",
              "      <td>0.770467</td>\n",
              "    </tr>\n",
              "    <tr>\n",
              "      <th>2016-12-09</th>\n",
              "      <td>19.6</td>\n",
              "      <td>19.383164</td>\n",
              "      <td>0.216836</td>\n",
              "    </tr>\n",
              "    <tr>\n",
              "      <th>2016-12-10</th>\n",
              "      <td>19.6</td>\n",
              "      <td>19.514564</td>\n",
              "      <td>0.085436</td>\n",
              "    </tr>\n",
              "  </tbody>\n",
              "</table>\n",
              "<p>3906 rows × 3 columns</p>\n",
              "</div>"
            ],
            "text/plain": [
              "            templag1  predictions  difference\n",
              "datetime                                     \n",
              "2022-06-27      26.1    26.181627    0.081627\n",
              "2022-06-28      25.7    24.389061    1.310939\n",
              "2022-06-29      25.9    24.298444    1.601556\n",
              "2022-06-30      26.3    25.056681    1.243319\n",
              "2022-07-01      28.5    25.910891    2.589109\n",
              "...              ...          ...         ...\n",
              "2016-12-06      20.9    20.119630    0.780370\n",
              "2016-12-07      20.5    20.332092    0.167908\n",
              "2016-12-08      19.4    20.170467    0.770467\n",
              "2016-12-09      19.6    19.383164    0.216836\n",
              "2016-12-10      19.6    19.514564    0.085436\n",
              "\n",
              "[3906 rows x 3 columns]"
            ]
          },
          "execution_count": 544,
          "metadata": {},
          "output_type": "execute_result"
        }
      ],
      "source": [
        "predictions"
      ]
    },
    {
      "cell_type": "code",
      "execution_count": 545,
      "metadata": {
        "colab": {
          "base_uri": "https://localhost:8080/"
        },
        "id": "8cYTFla6CwJy",
        "outputId": "6a7cfce3-4fdb-4599-eddf-52f146bc9e38"
      },
      "outputs": [
        {
          "data": {
            "text/plain": [
              "0.9753068679254964"
            ]
          },
          "execution_count": 545,
          "metadata": {},
          "output_type": "execute_result"
        }
      ],
      "source": [
        "mean_absolute_error(predictions['templag1'], predictions['predictions'])"
      ]
    },
    {
      "cell_type": "code",
      "execution_count": 546,
      "metadata": {
        "colab": {
          "base_uri": "https://localhost:8080/",
          "height": 455
        },
        "id": "9NEpuE_5DCBq",
        "outputId": "a86ef57c-60cf-4662-ea51-4988f905c9b6"
      },
      "outputs": [
        {
          "data": {
            "text/html": [
              "<div>\n",
              "<style scoped>\n",
              "    .dataframe tbody tr th:only-of-type {\n",
              "        vertical-align: middle;\n",
              "    }\n",
              "\n",
              "    .dataframe tbody tr th {\n",
              "        vertical-align: top;\n",
              "    }\n",
              "\n",
              "    .dataframe thead th {\n",
              "        text-align: right;\n",
              "    }\n",
              "</style>\n",
              "<table border=\"1\" class=\"dataframe\">\n",
              "  <thead>\n",
              "    <tr style=\"text-align: right;\">\n",
              "      <th></th>\n",
              "      <th>templag1</th>\n",
              "      <th>predictions</th>\n",
              "      <th>difference</th>\n",
              "    </tr>\n",
              "    <tr>\n",
              "      <th>datetime</th>\n",
              "      <th></th>\n",
              "      <th></th>\n",
              "      <th></th>\n",
              "    </tr>\n",
              "  </thead>\n",
              "  <tbody>\n",
              "    <tr>\n",
              "      <th>2025-01-07</th>\n",
              "      <td>18.1</td>\n",
              "      <td>120.927433</td>\n",
              "      <td>102.827433</td>\n",
              "    </tr>\n",
              "    <tr>\n",
              "      <th>2025-01-09</th>\n",
              "      <td>17.5</td>\n",
              "      <td>-6.849881</td>\n",
              "      <td>24.349881</td>\n",
              "    </tr>\n",
              "    <tr>\n",
              "      <th>2025-01-08</th>\n",
              "      <td>17.6</td>\n",
              "      <td>-6.324725</td>\n",
              "      <td>23.924725</td>\n",
              "    </tr>\n",
              "    <tr>\n",
              "      <th>2022-11-01</th>\n",
              "      <td>25.8</td>\n",
              "      <td>5.964173</td>\n",
              "      <td>19.835827</td>\n",
              "    </tr>\n",
              "    <tr>\n",
              "      <th>2022-11-02</th>\n",
              "      <td>25.2</td>\n",
              "      <td>10.586026</td>\n",
              "      <td>14.613974</td>\n",
              "    </tr>\n",
              "    <tr>\n",
              "      <th>...</th>\n",
              "      <td>...</td>\n",
              "      <td>...</td>\n",
              "      <td>...</td>\n",
              "    </tr>\n",
              "    <tr>\n",
              "      <th>2024-09-14</th>\n",
              "      <td>27.8</td>\n",
              "      <td>27.798866</td>\n",
              "      <td>0.001134</td>\n",
              "    </tr>\n",
              "    <tr>\n",
              "      <th>2021-09-12</th>\n",
              "      <td>28.7</td>\n",
              "      <td>28.699467</td>\n",
              "      <td>0.000533</td>\n",
              "    </tr>\n",
              "    <tr>\n",
              "      <th>2018-12-08</th>\n",
              "      <td>18.5</td>\n",
              "      <td>18.499680</td>\n",
              "      <td>0.000320</td>\n",
              "    </tr>\n",
              "    <tr>\n",
              "      <th>2024-04-17</th>\n",
              "      <td>26.1</td>\n",
              "      <td>26.099795</td>\n",
              "      <td>0.000205</td>\n",
              "    </tr>\n",
              "    <tr>\n",
              "      <th>2022-01-03</th>\n",
              "      <td>15.4</td>\n",
              "      <td>15.400183</td>\n",
              "      <td>0.000183</td>\n",
              "    </tr>\n",
              "  </tbody>\n",
              "</table>\n",
              "<p>3906 rows × 3 columns</p>\n",
              "</div>"
            ],
            "text/plain": [
              "            templag1  predictions  difference\n",
              "datetime                                     \n",
              "2025-01-07      18.1   120.927433  102.827433\n",
              "2025-01-09      17.5    -6.849881   24.349881\n",
              "2025-01-08      17.6    -6.324725   23.924725\n",
              "2022-11-01      25.8     5.964173   19.835827\n",
              "2022-11-02      25.2    10.586026   14.613974\n",
              "...              ...          ...         ...\n",
              "2024-09-14      27.8    27.798866    0.001134\n",
              "2021-09-12      28.7    28.699467    0.000533\n",
              "2018-12-08      18.5    18.499680    0.000320\n",
              "2024-04-17      26.1    26.099795    0.000205\n",
              "2022-01-03      15.4    15.400183    0.000183\n",
              "\n",
              "[3906 rows x 3 columns]"
            ]
          },
          "execution_count": 546,
          "metadata": {},
          "output_type": "execute_result"
        }
      ],
      "source": [
        "predictions.sort_values(\"difference\", ascending=False)"
      ]
    },
    {
      "cell_type": "code",
      "execution_count": 547,
      "metadata": {
        "colab": {
          "base_uri": "https://localhost:8080/",
          "height": 617
        },
        "id": "h8It8qjgFDK2",
        "outputId": "4350b5e1-31bd-4096-d4ff-b01b46d11d58"
      },
      "outputs": [
        {
          "data": {
            "text/plain": [
              "difference\n",
              "0.0      1524\n",
              "1.0      1722\n",
              "2.0       453\n",
              "3.0       111\n",
              "4.0        38\n",
              "5.0        15\n",
              "6.0        12\n",
              "7.0         8\n",
              "8.0         9\n",
              "9.0         3\n",
              "11.0        2\n",
              "12.0        4\n",
              "15.0        1\n",
              "20.0        1\n",
              "24.0        2\n",
              "103.0       1\n",
              "Name: count, dtype: int64"
            ]
          },
          "execution_count": 547,
          "metadata": {},
          "output_type": "execute_result"
        }
      ],
      "source": [
        "predictions[\"difference\"].round().value_counts().sort_index()"
      ]
    },
    {
      "cell_type": "code",
      "execution_count": 548,
      "metadata": {
        "colab": {
          "base_uri": "https://localhost:8080/",
          "height": 466
        },
        "id": "4kiiscUTFbFq",
        "outputId": "59986ce0-da72-4d37-90da-10729786f29c"
      },
      "outputs": [
        {
          "data": {
            "text/plain": [
              "<Axes: xlabel='difference'>"
            ]
          },
          "execution_count": 548,
          "metadata": {},
          "output_type": "execute_result"
        },
        {
          "data": {
            "image/png": "[encoded data removed]",
            "text/plain": [
              "<Figure size 640x480 with 1 Axes>"
            ]
          },
          "metadata": {},
          "output_type": "display_data"
        }
      ],
      "source": [
        "predictions[\"difference\"].round().value_counts().sort_index().plot()"
      ]
    },
    {
      "cell_type": "code",
      "execution_count": 550,
      "metadata": {},
      "outputs": [
        {
          "data": {
            "text/plain": [
              "['label_encoder.pkl']"
            ]
          },
          "execution_count": 550,
          "metadata": {},
          "output_type": "execute_result"
        }
      ],
      "source": [
        "import joblib\n",
        "import pickle\n",
        "\n",
        "joblib.dump(rr,'temp_model.pkl')\n",
        "joblib.dump(dt_model,'cond_model.pkl')\n",
        "joblib.dump(le, 'label_encoder.pkl')"
      ]
    }
  ],
  "metadata": {
    "colab": {
      "provenance": []
    },
    "kernelspec": {
      "display_name": ".venv",
      "language": "python",
      "name": "python3"
    },
    "language_info": {
      "codemirror_mode": {
        "name": "ipython",
        "version": 3
      },
      "file_extension": ".py",
      "mimetype": "text/x-python",
      "name": "python",
      "nbconvert_exporter": "python",
      "pygments_lexer": "ipython3",
      "version": "3.13.5"
    }
  },
  "nbformat": 4,
  "nbformat_minor": 0
}
